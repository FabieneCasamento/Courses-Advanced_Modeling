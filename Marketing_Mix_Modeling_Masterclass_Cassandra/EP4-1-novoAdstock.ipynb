{
 "cells": [
  {
   "cell_type": "markdown",
   "id": "add7884b-35d8-447f-92f2-845d31e0d1e6",
   "metadata": {},
   "source": [
    "Ep. 4.1 - Marketing Mix Modeling: How to show Adstock and Diminishing Returns Graphs on EXCEL\n",
    "\n",
    "\n",
    "https://www.youtube.com/watch?v=T-J9ck5uQZk\n",
    "\n",
    "\n",
    "https://docs.google.com/spreadsheets/d/1FjXCiEI1yXUA825rkt-Hg_9Ry_dcI1YrkmxLYSJBhT0/edit?pli=1&gid=1854690976#gid=1854690976\n"
   ]
  },
  {
   "cell_type": "code",
   "execution_count": 57,
   "id": "0d390606-bc7f-4127-9907-56fa8442193e",
   "metadata": {},
   "outputs": [
    {
     "data": {
      "text/html": [
       "<div>\n",
       "<style scoped>\n",
       "    .dataframe tbody tr th:only-of-type {\n",
       "        vertical-align: middle;\n",
       "    }\n",
       "\n",
       "    .dataframe tbody tr th {\n",
       "        vertical-align: top;\n",
       "    }\n",
       "\n",
       "    .dataframe thead th {\n",
       "        text-align: right;\n",
       "    }\n",
       "</style>\n",
       "<table border=\"1\" class=\"dataframe\">\n",
       "  <thead>\n",
       "    <tr style=\"text-align: right;\">\n",
       "      <th></th>\n",
       "      <th>Time</th>\n",
       "      <th>sales</th>\n",
       "      <th>FB</th>\n",
       "      <th>TV</th>\n",
       "      <th>Radio</th>\n",
       "      <th>Date</th>\n",
       "    </tr>\n",
       "  </thead>\n",
       "  <tbody>\n",
       "    <tr>\n",
       "      <th>0</th>\n",
       "      <td>Week 1</td>\n",
       "      <td>22.1</td>\n",
       "      <td>230.1</td>\n",
       "      <td>37.8</td>\n",
       "      <td>69.2</td>\n",
       "      <td>2020-01-01</td>\n",
       "    </tr>\n",
       "    <tr>\n",
       "      <th>1</th>\n",
       "      <td>Week 2</td>\n",
       "      <td>10.4</td>\n",
       "      <td>44.5</td>\n",
       "      <td>39.3</td>\n",
       "      <td>45.1</td>\n",
       "      <td>2020-01-02</td>\n",
       "    </tr>\n",
       "    <tr>\n",
       "      <th>2</th>\n",
       "      <td>Week 3</td>\n",
       "      <td>9.3</td>\n",
       "      <td>17.2</td>\n",
       "      <td>45.9</td>\n",
       "      <td>69.3</td>\n",
       "      <td>2020-01-03</td>\n",
       "    </tr>\n",
       "    <tr>\n",
       "      <th>3</th>\n",
       "      <td>Week 4</td>\n",
       "      <td>18.5</td>\n",
       "      <td>151.5</td>\n",
       "      <td>41.3</td>\n",
       "      <td>58.5</td>\n",
       "      <td>2020-01-04</td>\n",
       "    </tr>\n",
       "    <tr>\n",
       "      <th>4</th>\n",
       "      <td>Week 5</td>\n",
       "      <td>12.9</td>\n",
       "      <td>180.8</td>\n",
       "      <td>10.8</td>\n",
       "      <td>58.4</td>\n",
       "      <td>2020-01-05</td>\n",
       "    </tr>\n",
       "    <tr>\n",
       "      <th>5</th>\n",
       "      <td>Week 6</td>\n",
       "      <td>7.2</td>\n",
       "      <td>8.7</td>\n",
       "      <td>48.9</td>\n",
       "      <td>75.0</td>\n",
       "      <td>2020-01-06</td>\n",
       "    </tr>\n",
       "    <tr>\n",
       "      <th>6</th>\n",
       "      <td>Week 7</td>\n",
       "      <td>11.8</td>\n",
       "      <td>57.5</td>\n",
       "      <td>32.8</td>\n",
       "      <td>23.5</td>\n",
       "      <td>2020-01-07</td>\n",
       "    </tr>\n",
       "    <tr>\n",
       "      <th>7</th>\n",
       "      <td>Week 8</td>\n",
       "      <td>13.2</td>\n",
       "      <td>120.2</td>\n",
       "      <td>19.6</td>\n",
       "      <td>11.6</td>\n",
       "      <td>2020-01-08</td>\n",
       "    </tr>\n",
       "    <tr>\n",
       "      <th>8</th>\n",
       "      <td>Week 9</td>\n",
       "      <td>4.8</td>\n",
       "      <td>8.6</td>\n",
       "      <td>2.1</td>\n",
       "      <td>1.0</td>\n",
       "      <td>2020-01-09</td>\n",
       "    </tr>\n",
       "    <tr>\n",
       "      <th>9</th>\n",
       "      <td>Week 10</td>\n",
       "      <td>10.6</td>\n",
       "      <td>199.8</td>\n",
       "      <td>2.6</td>\n",
       "      <td>21.2</td>\n",
       "      <td>2020-01-10</td>\n",
       "    </tr>\n",
       "    <tr>\n",
       "      <th>10</th>\n",
       "      <td>Week 11</td>\n",
       "      <td>8.6</td>\n",
       "      <td>66.1</td>\n",
       "      <td>5.8</td>\n",
       "      <td>24.2</td>\n",
       "      <td>2020-01-11</td>\n",
       "    </tr>\n",
       "    <tr>\n",
       "      <th>11</th>\n",
       "      <td>Week 12</td>\n",
       "      <td>17.4</td>\n",
       "      <td>214.7</td>\n",
       "      <td>24.0</td>\n",
       "      <td>4.0</td>\n",
       "      <td>2020-01-12</td>\n",
       "    </tr>\n",
       "    <tr>\n",
       "      <th>12</th>\n",
       "      <td>Week 13</td>\n",
       "      <td>9.2</td>\n",
       "      <td>23.8</td>\n",
       "      <td>35.1</td>\n",
       "      <td>65.9</td>\n",
       "      <td>2020-01-13</td>\n",
       "    </tr>\n",
       "    <tr>\n",
       "      <th>13</th>\n",
       "      <td>Week 14</td>\n",
       "      <td>9.7</td>\n",
       "      <td>97.5</td>\n",
       "      <td>7.6</td>\n",
       "      <td>7.2</td>\n",
       "      <td>2020-01-14</td>\n",
       "    </tr>\n",
       "    <tr>\n",
       "      <th>14</th>\n",
       "      <td>Week 15</td>\n",
       "      <td>19.0</td>\n",
       "      <td>204.1</td>\n",
       "      <td>32.9</td>\n",
       "      <td>46.0</td>\n",
       "      <td>2020-01-15</td>\n",
       "    </tr>\n",
       "    <tr>\n",
       "      <th>15</th>\n",
       "      <td>Week 16</td>\n",
       "      <td>22.4</td>\n",
       "      <td>195.4</td>\n",
       "      <td>47.7</td>\n",
       "      <td>52.9</td>\n",
       "      <td>2020-01-16</td>\n",
       "    </tr>\n",
       "    <tr>\n",
       "      <th>16</th>\n",
       "      <td>Week 17</td>\n",
       "      <td>12.5</td>\n",
       "      <td>67.8</td>\n",
       "      <td>36.6</td>\n",
       "      <td>114.0</td>\n",
       "      <td>2020-01-17</td>\n",
       "    </tr>\n",
       "    <tr>\n",
       "      <th>17</th>\n",
       "      <td>Week 18</td>\n",
       "      <td>24.4</td>\n",
       "      <td>281.4</td>\n",
       "      <td>39.6</td>\n",
       "      <td>55.8</td>\n",
       "      <td>2020-01-18</td>\n",
       "    </tr>\n",
       "    <tr>\n",
       "      <th>18</th>\n",
       "      <td>Week 19</td>\n",
       "      <td>11.3</td>\n",
       "      <td>69.2</td>\n",
       "      <td>20.5</td>\n",
       "      <td>18.3</td>\n",
       "      <td>2020-01-19</td>\n",
       "    </tr>\n",
       "    <tr>\n",
       "      <th>19</th>\n",
       "      <td>Week 20</td>\n",
       "      <td>14.6</td>\n",
       "      <td>147.3</td>\n",
       "      <td>23.9</td>\n",
       "      <td>19.1</td>\n",
       "      <td>2020-01-20</td>\n",
       "    </tr>\n",
       "    <tr>\n",
       "      <th>20</th>\n",
       "      <td>Week 21</td>\n",
       "      <td>18.0</td>\n",
       "      <td>218.4</td>\n",
       "      <td>27.7</td>\n",
       "      <td>53.4</td>\n",
       "      <td>2020-01-21</td>\n",
       "    </tr>\n",
       "    <tr>\n",
       "      <th>21</th>\n",
       "      <td>Week 22</td>\n",
       "      <td>12.5</td>\n",
       "      <td>237.4</td>\n",
       "      <td>5.1</td>\n",
       "      <td>23.5</td>\n",
       "      <td>2020-01-22</td>\n",
       "    </tr>\n",
       "    <tr>\n",
       "      <th>22</th>\n",
       "      <td>Week 23</td>\n",
       "      <td>5.6</td>\n",
       "      <td>13.2</td>\n",
       "      <td>15.9</td>\n",
       "      <td>49.6</td>\n",
       "      <td>2020-01-23</td>\n",
       "    </tr>\n",
       "    <tr>\n",
       "      <th>23</th>\n",
       "      <td>Week 24</td>\n",
       "      <td>15.5</td>\n",
       "      <td>228.3</td>\n",
       "      <td>16.9</td>\n",
       "      <td>26.2</td>\n",
       "      <td>2020-01-24</td>\n",
       "    </tr>\n",
       "    <tr>\n",
       "      <th>24</th>\n",
       "      <td>Week 25</td>\n",
       "      <td>9.7</td>\n",
       "      <td>62.3</td>\n",
       "      <td>12.6</td>\n",
       "      <td>18.3</td>\n",
       "      <td>2020-01-25</td>\n",
       "    </tr>\n",
       "    <tr>\n",
       "      <th>25</th>\n",
       "      <td>Week 26</td>\n",
       "      <td>12.0</td>\n",
       "      <td>262.9</td>\n",
       "      <td>3.5</td>\n",
       "      <td>19.5</td>\n",
       "      <td>2020-01-26</td>\n",
       "    </tr>\n",
       "    <tr>\n",
       "      <th>26</th>\n",
       "      <td>Week 27</td>\n",
       "      <td>15.0</td>\n",
       "      <td>142.9</td>\n",
       "      <td>29.3</td>\n",
       "      <td>12.6</td>\n",
       "      <td>2020-01-27</td>\n",
       "    </tr>\n",
       "    <tr>\n",
       "      <th>27</th>\n",
       "      <td>Week 28</td>\n",
       "      <td>15.9</td>\n",
       "      <td>240.1</td>\n",
       "      <td>16.7</td>\n",
       "      <td>22.9</td>\n",
       "      <td>2020-01-28</td>\n",
       "    </tr>\n",
       "    <tr>\n",
       "      <th>28</th>\n",
       "      <td>Week 29</td>\n",
       "      <td>18.9</td>\n",
       "      <td>248.8</td>\n",
       "      <td>27.1</td>\n",
       "      <td>22.9</td>\n",
       "      <td>2020-01-29</td>\n",
       "    </tr>\n",
       "    <tr>\n",
       "      <th>29</th>\n",
       "      <td>Week 30</td>\n",
       "      <td>10.5</td>\n",
       "      <td>70.6</td>\n",
       "      <td>16.0</td>\n",
       "      <td>40.8</td>\n",
       "      <td>2020-01-30</td>\n",
       "    </tr>\n",
       "  </tbody>\n",
       "</table>\n",
       "</div>"
      ],
      "text/plain": [
       "       Time  sales     FB    TV  Radio       Date\n",
       "0    Week 1   22.1  230.1  37.8   69.2 2020-01-01\n",
       "1    Week 2   10.4   44.5  39.3   45.1 2020-01-02\n",
       "2    Week 3    9.3   17.2  45.9   69.3 2020-01-03\n",
       "3    Week 4   18.5  151.5  41.3   58.5 2020-01-04\n",
       "4    Week 5   12.9  180.8  10.8   58.4 2020-01-05\n",
       "5    Week 6    7.2    8.7  48.9   75.0 2020-01-06\n",
       "6    Week 7   11.8   57.5  32.8   23.5 2020-01-07\n",
       "7    Week 8   13.2  120.2  19.6   11.6 2020-01-08\n",
       "8    Week 9    4.8    8.6   2.1    1.0 2020-01-09\n",
       "9   Week 10   10.6  199.8   2.6   21.2 2020-01-10\n",
       "10  Week 11    8.6   66.1   5.8   24.2 2020-01-11\n",
       "11  Week 12   17.4  214.7  24.0    4.0 2020-01-12\n",
       "12  Week 13    9.2   23.8  35.1   65.9 2020-01-13\n",
       "13  Week 14    9.7   97.5   7.6    7.2 2020-01-14\n",
       "14  Week 15   19.0  204.1  32.9   46.0 2020-01-15\n",
       "15  Week 16   22.4  195.4  47.7   52.9 2020-01-16\n",
       "16  Week 17   12.5   67.8  36.6  114.0 2020-01-17\n",
       "17  Week 18   24.4  281.4  39.6   55.8 2020-01-18\n",
       "18  Week 19   11.3   69.2  20.5   18.3 2020-01-19\n",
       "19  Week 20   14.6  147.3  23.9   19.1 2020-01-20\n",
       "20  Week 21   18.0  218.4  27.7   53.4 2020-01-21\n",
       "21  Week 22   12.5  237.4   5.1   23.5 2020-01-22\n",
       "22  Week 23    5.6   13.2  15.9   49.6 2020-01-23\n",
       "23  Week 24   15.5  228.3  16.9   26.2 2020-01-24\n",
       "24  Week 25    9.7   62.3  12.6   18.3 2020-01-25\n",
       "25  Week 26   12.0  262.9   3.5   19.5 2020-01-26\n",
       "26  Week 27   15.0  142.9  29.3   12.6 2020-01-27\n",
       "27  Week 28   15.9  240.1  16.7   22.9 2020-01-28\n",
       "28  Week 29   18.9  248.8  27.1   22.9 2020-01-29\n",
       "29  Week 30   10.5   70.6  16.0   40.8 2020-01-30"
      ]
     },
     "execution_count": 57,
     "metadata": {},
     "output_type": "execute_result"
    }
   ],
   "source": [
    "import pandas as pd\n",
    "# Ler a primeira aba (índice 0)\n",
    "df = pd.read_excel('../MARKETING MIX MODELING YT.xlsx', sheet_name=0)\n",
    "\n",
    "df"
   ]
  },
  {
   "cell_type": "markdown",
   "id": "8477bf92-2161-4a76-b6d2-e65e9f9d8cf4",
   "metadata": {},
   "source": [
    "# Adstock(t)= Adstock (t-1)*beta+ Spent(t)\n",
    "\n",
    "# Dim Ret = Adstock(t) ^Alpha\n",
    "\n",
    "# Transf. = (adstock(t-1)*beta+spent(t))^alpha"
   ]
  },
  {
   "cell_type": "code",
   "execution_count": 58,
   "id": "fc3ca1e0-7236-4649-8dd1-c26fe5b95634",
   "metadata": {},
   "outputs": [],
   "source": [
    "calculo_4 = df.copy()\n",
    "calculo_4\n",
    "\n",
    "calculo_4['FB_Transf'] =0.0\n",
    "calculo_4['TV_Transf'] =0.0\n",
    "calculo_4['Radio_transf'] =0.0\n"
   ]
  },
  {
   "cell_type": "code",
   "execution_count": 59,
   "id": "00461821-605f-458f-8bcf-d562c11a4a33",
   "metadata": {},
   "outputs": [],
   "source": [
    "Alpha= 0.5\n",
    "Alpha_tv= 0.7\n",
    "Alpha_radio= 0.3\n",
    "\n",
    "calculo_4.loc[0,'TV_Transf'] = calculo_4.loc[0,'TV'] **Alpha_tv\n",
    "calculo_4.loc[0,'Radio_transf'] = calculo_4.loc[0,'Radio'] **Alpha_radio\n",
    "calculo_4.loc[0,'FB_Transf'] = calculo_4.loc[0,'FB'] **Alpha\n"
   ]
  },
  {
   "cell_type": "code",
   "execution_count": 60,
   "id": "91288a88-83b4-4f3a-83b5-66081d0a8cf9",
   "metadata": {},
   "outputs": [
    {
     "data": {
      "text/html": [
       "<div>\n",
       "<style scoped>\n",
       "    .dataframe tbody tr th:only-of-type {\n",
       "        vertical-align: middle;\n",
       "    }\n",
       "\n",
       "    .dataframe tbody tr th {\n",
       "        vertical-align: top;\n",
       "    }\n",
       "\n",
       "    .dataframe thead th {\n",
       "        text-align: right;\n",
       "    }\n",
       "</style>\n",
       "<table border=\"1\" class=\"dataframe\">\n",
       "  <thead>\n",
       "    <tr style=\"text-align: right;\">\n",
       "      <th></th>\n",
       "      <th>Time</th>\n",
       "      <th>sales</th>\n",
       "      <th>FB</th>\n",
       "      <th>TV</th>\n",
       "      <th>Radio</th>\n",
       "      <th>Date</th>\n",
       "      <th>FB_Transf</th>\n",
       "      <th>TV_Transf</th>\n",
       "      <th>Radio_transf</th>\n",
       "    </tr>\n",
       "  </thead>\n",
       "  <tbody>\n",
       "    <tr>\n",
       "      <th>0</th>\n",
       "      <td>Week 1</td>\n",
       "      <td>22.1</td>\n",
       "      <td>230.1</td>\n",
       "      <td>37.8</td>\n",
       "      <td>69.2</td>\n",
       "      <td>2020-01-01</td>\n",
       "      <td>15.169047</td>\n",
       "      <td>12.712889</td>\n",
       "      <td>3.564773</td>\n",
       "    </tr>\n",
       "    <tr>\n",
       "      <th>1</th>\n",
       "      <td>Week 2</td>\n",
       "      <td>10.4</td>\n",
       "      <td>44.5</td>\n",
       "      <td>39.3</td>\n",
       "      <td>45.1</td>\n",
       "      <td>2020-01-02</td>\n",
       "      <td>0.000000</td>\n",
       "      <td>0.000000</td>\n",
       "      <td>0.000000</td>\n",
       "    </tr>\n",
       "    <tr>\n",
       "      <th>2</th>\n",
       "      <td>Week 3</td>\n",
       "      <td>9.3</td>\n",
       "      <td>17.2</td>\n",
       "      <td>45.9</td>\n",
       "      <td>69.3</td>\n",
       "      <td>2020-01-03</td>\n",
       "      <td>0.000000</td>\n",
       "      <td>0.000000</td>\n",
       "      <td>0.000000</td>\n",
       "    </tr>\n",
       "    <tr>\n",
       "      <th>3</th>\n",
       "      <td>Week 4</td>\n",
       "      <td>18.5</td>\n",
       "      <td>151.5</td>\n",
       "      <td>41.3</td>\n",
       "      <td>58.5</td>\n",
       "      <td>2020-01-04</td>\n",
       "      <td>0.000000</td>\n",
       "      <td>0.000000</td>\n",
       "      <td>0.000000</td>\n",
       "    </tr>\n",
       "    <tr>\n",
       "      <th>4</th>\n",
       "      <td>Week 5</td>\n",
       "      <td>12.9</td>\n",
       "      <td>180.8</td>\n",
       "      <td>10.8</td>\n",
       "      <td>58.4</td>\n",
       "      <td>2020-01-05</td>\n",
       "      <td>0.000000</td>\n",
       "      <td>0.000000</td>\n",
       "      <td>0.000000</td>\n",
       "    </tr>\n",
       "    <tr>\n",
       "      <th>5</th>\n",
       "      <td>Week 6</td>\n",
       "      <td>7.2</td>\n",
       "      <td>8.7</td>\n",
       "      <td>48.9</td>\n",
       "      <td>75.0</td>\n",
       "      <td>2020-01-06</td>\n",
       "      <td>0.000000</td>\n",
       "      <td>0.000000</td>\n",
       "      <td>0.000000</td>\n",
       "    </tr>\n",
       "    <tr>\n",
       "      <th>6</th>\n",
       "      <td>Week 7</td>\n",
       "      <td>11.8</td>\n",
       "      <td>57.5</td>\n",
       "      <td>32.8</td>\n",
       "      <td>23.5</td>\n",
       "      <td>2020-01-07</td>\n",
       "      <td>0.000000</td>\n",
       "      <td>0.000000</td>\n",
       "      <td>0.000000</td>\n",
       "    </tr>\n",
       "    <tr>\n",
       "      <th>7</th>\n",
       "      <td>Week 8</td>\n",
       "      <td>13.2</td>\n",
       "      <td>120.2</td>\n",
       "      <td>19.6</td>\n",
       "      <td>11.6</td>\n",
       "      <td>2020-01-08</td>\n",
       "      <td>0.000000</td>\n",
       "      <td>0.000000</td>\n",
       "      <td>0.000000</td>\n",
       "    </tr>\n",
       "    <tr>\n",
       "      <th>8</th>\n",
       "      <td>Week 9</td>\n",
       "      <td>4.8</td>\n",
       "      <td>8.6</td>\n",
       "      <td>2.1</td>\n",
       "      <td>1.0</td>\n",
       "      <td>2020-01-09</td>\n",
       "      <td>0.000000</td>\n",
       "      <td>0.000000</td>\n",
       "      <td>0.000000</td>\n",
       "    </tr>\n",
       "    <tr>\n",
       "      <th>9</th>\n",
       "      <td>Week 10</td>\n",
       "      <td>10.6</td>\n",
       "      <td>199.8</td>\n",
       "      <td>2.6</td>\n",
       "      <td>21.2</td>\n",
       "      <td>2020-01-10</td>\n",
       "      <td>0.000000</td>\n",
       "      <td>0.000000</td>\n",
       "      <td>0.000000</td>\n",
       "    </tr>\n",
       "    <tr>\n",
       "      <th>10</th>\n",
       "      <td>Week 11</td>\n",
       "      <td>8.6</td>\n",
       "      <td>66.1</td>\n",
       "      <td>5.8</td>\n",
       "      <td>24.2</td>\n",
       "      <td>2020-01-11</td>\n",
       "      <td>0.000000</td>\n",
       "      <td>0.000000</td>\n",
       "      <td>0.000000</td>\n",
       "    </tr>\n",
       "    <tr>\n",
       "      <th>11</th>\n",
       "      <td>Week 12</td>\n",
       "      <td>17.4</td>\n",
       "      <td>214.7</td>\n",
       "      <td>24.0</td>\n",
       "      <td>4.0</td>\n",
       "      <td>2020-01-12</td>\n",
       "      <td>0.000000</td>\n",
       "      <td>0.000000</td>\n",
       "      <td>0.000000</td>\n",
       "    </tr>\n",
       "    <tr>\n",
       "      <th>12</th>\n",
       "      <td>Week 13</td>\n",
       "      <td>9.2</td>\n",
       "      <td>23.8</td>\n",
       "      <td>35.1</td>\n",
       "      <td>65.9</td>\n",
       "      <td>2020-01-13</td>\n",
       "      <td>0.000000</td>\n",
       "      <td>0.000000</td>\n",
       "      <td>0.000000</td>\n",
       "    </tr>\n",
       "    <tr>\n",
       "      <th>13</th>\n",
       "      <td>Week 14</td>\n",
       "      <td>9.7</td>\n",
       "      <td>97.5</td>\n",
       "      <td>7.6</td>\n",
       "      <td>7.2</td>\n",
       "      <td>2020-01-14</td>\n",
       "      <td>0.000000</td>\n",
       "      <td>0.000000</td>\n",
       "      <td>0.000000</td>\n",
       "    </tr>\n",
       "    <tr>\n",
       "      <th>14</th>\n",
       "      <td>Week 15</td>\n",
       "      <td>19.0</td>\n",
       "      <td>204.1</td>\n",
       "      <td>32.9</td>\n",
       "      <td>46.0</td>\n",
       "      <td>2020-01-15</td>\n",
       "      <td>0.000000</td>\n",
       "      <td>0.000000</td>\n",
       "      <td>0.000000</td>\n",
       "    </tr>\n",
       "    <tr>\n",
       "      <th>15</th>\n",
       "      <td>Week 16</td>\n",
       "      <td>22.4</td>\n",
       "      <td>195.4</td>\n",
       "      <td>47.7</td>\n",
       "      <td>52.9</td>\n",
       "      <td>2020-01-16</td>\n",
       "      <td>0.000000</td>\n",
       "      <td>0.000000</td>\n",
       "      <td>0.000000</td>\n",
       "    </tr>\n",
       "    <tr>\n",
       "      <th>16</th>\n",
       "      <td>Week 17</td>\n",
       "      <td>12.5</td>\n",
       "      <td>67.8</td>\n",
       "      <td>36.6</td>\n",
       "      <td>114.0</td>\n",
       "      <td>2020-01-17</td>\n",
       "      <td>0.000000</td>\n",
       "      <td>0.000000</td>\n",
       "      <td>0.000000</td>\n",
       "    </tr>\n",
       "    <tr>\n",
       "      <th>17</th>\n",
       "      <td>Week 18</td>\n",
       "      <td>24.4</td>\n",
       "      <td>281.4</td>\n",
       "      <td>39.6</td>\n",
       "      <td>55.8</td>\n",
       "      <td>2020-01-18</td>\n",
       "      <td>0.000000</td>\n",
       "      <td>0.000000</td>\n",
       "      <td>0.000000</td>\n",
       "    </tr>\n",
       "    <tr>\n",
       "      <th>18</th>\n",
       "      <td>Week 19</td>\n",
       "      <td>11.3</td>\n",
       "      <td>69.2</td>\n",
       "      <td>20.5</td>\n",
       "      <td>18.3</td>\n",
       "      <td>2020-01-19</td>\n",
       "      <td>0.000000</td>\n",
       "      <td>0.000000</td>\n",
       "      <td>0.000000</td>\n",
       "    </tr>\n",
       "    <tr>\n",
       "      <th>19</th>\n",
       "      <td>Week 20</td>\n",
       "      <td>14.6</td>\n",
       "      <td>147.3</td>\n",
       "      <td>23.9</td>\n",
       "      <td>19.1</td>\n",
       "      <td>2020-01-20</td>\n",
       "      <td>0.000000</td>\n",
       "      <td>0.000000</td>\n",
       "      <td>0.000000</td>\n",
       "    </tr>\n",
       "    <tr>\n",
       "      <th>20</th>\n",
       "      <td>Week 21</td>\n",
       "      <td>18.0</td>\n",
       "      <td>218.4</td>\n",
       "      <td>27.7</td>\n",
       "      <td>53.4</td>\n",
       "      <td>2020-01-21</td>\n",
       "      <td>0.000000</td>\n",
       "      <td>0.000000</td>\n",
       "      <td>0.000000</td>\n",
       "    </tr>\n",
       "    <tr>\n",
       "      <th>21</th>\n",
       "      <td>Week 22</td>\n",
       "      <td>12.5</td>\n",
       "      <td>237.4</td>\n",
       "      <td>5.1</td>\n",
       "      <td>23.5</td>\n",
       "      <td>2020-01-22</td>\n",
       "      <td>0.000000</td>\n",
       "      <td>0.000000</td>\n",
       "      <td>0.000000</td>\n",
       "    </tr>\n",
       "    <tr>\n",
       "      <th>22</th>\n",
       "      <td>Week 23</td>\n",
       "      <td>5.6</td>\n",
       "      <td>13.2</td>\n",
       "      <td>15.9</td>\n",
       "      <td>49.6</td>\n",
       "      <td>2020-01-23</td>\n",
       "      <td>0.000000</td>\n",
       "      <td>0.000000</td>\n",
       "      <td>0.000000</td>\n",
       "    </tr>\n",
       "    <tr>\n",
       "      <th>23</th>\n",
       "      <td>Week 24</td>\n",
       "      <td>15.5</td>\n",
       "      <td>228.3</td>\n",
       "      <td>16.9</td>\n",
       "      <td>26.2</td>\n",
       "      <td>2020-01-24</td>\n",
       "      <td>0.000000</td>\n",
       "      <td>0.000000</td>\n",
       "      <td>0.000000</td>\n",
       "    </tr>\n",
       "    <tr>\n",
       "      <th>24</th>\n",
       "      <td>Week 25</td>\n",
       "      <td>9.7</td>\n",
       "      <td>62.3</td>\n",
       "      <td>12.6</td>\n",
       "      <td>18.3</td>\n",
       "      <td>2020-01-25</td>\n",
       "      <td>0.000000</td>\n",
       "      <td>0.000000</td>\n",
       "      <td>0.000000</td>\n",
       "    </tr>\n",
       "    <tr>\n",
       "      <th>25</th>\n",
       "      <td>Week 26</td>\n",
       "      <td>12.0</td>\n",
       "      <td>262.9</td>\n",
       "      <td>3.5</td>\n",
       "      <td>19.5</td>\n",
       "      <td>2020-01-26</td>\n",
       "      <td>0.000000</td>\n",
       "      <td>0.000000</td>\n",
       "      <td>0.000000</td>\n",
       "    </tr>\n",
       "    <tr>\n",
       "      <th>26</th>\n",
       "      <td>Week 27</td>\n",
       "      <td>15.0</td>\n",
       "      <td>142.9</td>\n",
       "      <td>29.3</td>\n",
       "      <td>12.6</td>\n",
       "      <td>2020-01-27</td>\n",
       "      <td>0.000000</td>\n",
       "      <td>0.000000</td>\n",
       "      <td>0.000000</td>\n",
       "    </tr>\n",
       "    <tr>\n",
       "      <th>27</th>\n",
       "      <td>Week 28</td>\n",
       "      <td>15.9</td>\n",
       "      <td>240.1</td>\n",
       "      <td>16.7</td>\n",
       "      <td>22.9</td>\n",
       "      <td>2020-01-28</td>\n",
       "      <td>0.000000</td>\n",
       "      <td>0.000000</td>\n",
       "      <td>0.000000</td>\n",
       "    </tr>\n",
       "    <tr>\n",
       "      <th>28</th>\n",
       "      <td>Week 29</td>\n",
       "      <td>18.9</td>\n",
       "      <td>248.8</td>\n",
       "      <td>27.1</td>\n",
       "      <td>22.9</td>\n",
       "      <td>2020-01-29</td>\n",
       "      <td>0.000000</td>\n",
       "      <td>0.000000</td>\n",
       "      <td>0.000000</td>\n",
       "    </tr>\n",
       "    <tr>\n",
       "      <th>29</th>\n",
       "      <td>Week 30</td>\n",
       "      <td>10.5</td>\n",
       "      <td>70.6</td>\n",
       "      <td>16.0</td>\n",
       "      <td>40.8</td>\n",
       "      <td>2020-01-30</td>\n",
       "      <td>0.000000</td>\n",
       "      <td>0.000000</td>\n",
       "      <td>0.000000</td>\n",
       "    </tr>\n",
       "  </tbody>\n",
       "</table>\n",
       "</div>"
      ],
      "text/plain": [
       "       Time  sales     FB    TV  Radio       Date  FB_Transf  TV_Transf  \\\n",
       "0    Week 1   22.1  230.1  37.8   69.2 2020-01-01  15.169047  12.712889   \n",
       "1    Week 2   10.4   44.5  39.3   45.1 2020-01-02   0.000000   0.000000   \n",
       "2    Week 3    9.3   17.2  45.9   69.3 2020-01-03   0.000000   0.000000   \n",
       "3    Week 4   18.5  151.5  41.3   58.5 2020-01-04   0.000000   0.000000   \n",
       "4    Week 5   12.9  180.8  10.8   58.4 2020-01-05   0.000000   0.000000   \n",
       "5    Week 6    7.2    8.7  48.9   75.0 2020-01-06   0.000000   0.000000   \n",
       "6    Week 7   11.8   57.5  32.8   23.5 2020-01-07   0.000000   0.000000   \n",
       "7    Week 8   13.2  120.2  19.6   11.6 2020-01-08   0.000000   0.000000   \n",
       "8    Week 9    4.8    8.6   2.1    1.0 2020-01-09   0.000000   0.000000   \n",
       "9   Week 10   10.6  199.8   2.6   21.2 2020-01-10   0.000000   0.000000   \n",
       "10  Week 11    8.6   66.1   5.8   24.2 2020-01-11   0.000000   0.000000   \n",
       "11  Week 12   17.4  214.7  24.0    4.0 2020-01-12   0.000000   0.000000   \n",
       "12  Week 13    9.2   23.8  35.1   65.9 2020-01-13   0.000000   0.000000   \n",
       "13  Week 14    9.7   97.5   7.6    7.2 2020-01-14   0.000000   0.000000   \n",
       "14  Week 15   19.0  204.1  32.9   46.0 2020-01-15   0.000000   0.000000   \n",
       "15  Week 16   22.4  195.4  47.7   52.9 2020-01-16   0.000000   0.000000   \n",
       "16  Week 17   12.5   67.8  36.6  114.0 2020-01-17   0.000000   0.000000   \n",
       "17  Week 18   24.4  281.4  39.6   55.8 2020-01-18   0.000000   0.000000   \n",
       "18  Week 19   11.3   69.2  20.5   18.3 2020-01-19   0.000000   0.000000   \n",
       "19  Week 20   14.6  147.3  23.9   19.1 2020-01-20   0.000000   0.000000   \n",
       "20  Week 21   18.0  218.4  27.7   53.4 2020-01-21   0.000000   0.000000   \n",
       "21  Week 22   12.5  237.4   5.1   23.5 2020-01-22   0.000000   0.000000   \n",
       "22  Week 23    5.6   13.2  15.9   49.6 2020-01-23   0.000000   0.000000   \n",
       "23  Week 24   15.5  228.3  16.9   26.2 2020-01-24   0.000000   0.000000   \n",
       "24  Week 25    9.7   62.3  12.6   18.3 2020-01-25   0.000000   0.000000   \n",
       "25  Week 26   12.0  262.9   3.5   19.5 2020-01-26   0.000000   0.000000   \n",
       "26  Week 27   15.0  142.9  29.3   12.6 2020-01-27   0.000000   0.000000   \n",
       "27  Week 28   15.9  240.1  16.7   22.9 2020-01-28   0.000000   0.000000   \n",
       "28  Week 29   18.9  248.8  27.1   22.9 2020-01-29   0.000000   0.000000   \n",
       "29  Week 30   10.5   70.6  16.0   40.8 2020-01-30   0.000000   0.000000   \n",
       "\n",
       "    Radio_transf  \n",
       "0       3.564773  \n",
       "1       0.000000  \n",
       "2       0.000000  \n",
       "3       0.000000  \n",
       "4       0.000000  \n",
       "5       0.000000  \n",
       "6       0.000000  \n",
       "7       0.000000  \n",
       "8       0.000000  \n",
       "9       0.000000  \n",
       "10      0.000000  \n",
       "11      0.000000  \n",
       "12      0.000000  \n",
       "13      0.000000  \n",
       "14      0.000000  \n",
       "15      0.000000  \n",
       "16      0.000000  \n",
       "17      0.000000  \n",
       "18      0.000000  \n",
       "19      0.000000  \n",
       "20      0.000000  \n",
       "21      0.000000  \n",
       "22      0.000000  \n",
       "23      0.000000  \n",
       "24      0.000000  \n",
       "25      0.000000  \n",
       "26      0.000000  \n",
       "27      0.000000  \n",
       "28      0.000000  \n",
       "29      0.000000  "
      ]
     },
     "execution_count": 60,
     "metadata": {},
     "output_type": "execute_result"
    }
   ],
   "source": [
    "calculo_4"
   ]
  },
  {
   "cell_type": "code",
   "execution_count": 61,
   "id": "589e4d71-004d-4bea-b814-3406361dc830",
   "metadata": {},
   "outputs": [],
   "source": [
    "Alpha= 0.5\n",
    "Alpha_tv= 0.7\n",
    "Alpha_radio= 0.3\n",
    "\n",
    "for i in range(len(calculo_4)):\n",
    "    calculo_4.loc[i,'TV_Transf'] = calculo_4.loc[i,'TV'] **Alpha_tv\n",
    "    calculo_4.loc[i,'Radio_transf'] = calculo_4.loc[i,'Radio'] **Alpha_radio\n",
    "    calculo_4.loc[i,'FB_Transf'] = calculo_4.loc[i,'FB'] **Alpha\n",
    "\n"
   ]
  },
  {
   "cell_type": "code",
   "execution_count": 62,
   "id": "aed881ff-a07e-4706-8477-af863e9a3da0",
   "metadata": {},
   "outputs": [
    {
     "data": {
      "text/html": [
       "<div>\n",
       "<style scoped>\n",
       "    .dataframe tbody tr th:only-of-type {\n",
       "        vertical-align: middle;\n",
       "    }\n",
       "\n",
       "    .dataframe tbody tr th {\n",
       "        vertical-align: top;\n",
       "    }\n",
       "\n",
       "    .dataframe thead th {\n",
       "        text-align: right;\n",
       "    }\n",
       "</style>\n",
       "<table border=\"1\" class=\"dataframe\">\n",
       "  <thead>\n",
       "    <tr style=\"text-align: right;\">\n",
       "      <th></th>\n",
       "      <th>Time</th>\n",
       "      <th>sales</th>\n",
       "      <th>FB</th>\n",
       "      <th>TV</th>\n",
       "      <th>Radio</th>\n",
       "      <th>Date</th>\n",
       "      <th>FB_Transf</th>\n",
       "      <th>TV_Transf</th>\n",
       "      <th>Radio_transf</th>\n",
       "    </tr>\n",
       "  </thead>\n",
       "  <tbody>\n",
       "    <tr>\n",
       "      <th>0</th>\n",
       "      <td>Week 1</td>\n",
       "      <td>22.1</td>\n",
       "      <td>230.1</td>\n",
       "      <td>37.8</td>\n",
       "      <td>69.2</td>\n",
       "      <td>2020-01-01</td>\n",
       "      <td>15.169047</td>\n",
       "      <td>12.712889</td>\n",
       "      <td>3.564773</td>\n",
       "    </tr>\n",
       "    <tr>\n",
       "      <th>1</th>\n",
       "      <td>Week 2</td>\n",
       "      <td>10.4</td>\n",
       "      <td>44.5</td>\n",
       "      <td>39.3</td>\n",
       "      <td>45.1</td>\n",
       "      <td>2020-01-02</td>\n",
       "      <td>6.670832</td>\n",
       "      <td>13.063958</td>\n",
       "      <td>3.135111</td>\n",
       "    </tr>\n",
       "    <tr>\n",
       "      <th>2</th>\n",
       "      <td>Week 3</td>\n",
       "      <td>9.3</td>\n",
       "      <td>17.2</td>\n",
       "      <td>45.9</td>\n",
       "      <td>69.3</td>\n",
       "      <td>2020-01-03</td>\n",
       "      <td>4.147288</td>\n",
       "      <td>14.563605</td>\n",
       "      <td>3.566317</td>\n",
       "    </tr>\n",
       "    <tr>\n",
       "      <th>3</th>\n",
       "      <td>Week 4</td>\n",
       "      <td>18.5</td>\n",
       "      <td>151.5</td>\n",
       "      <td>41.3</td>\n",
       "      <td>58.5</td>\n",
       "      <td>2020-01-04</td>\n",
       "      <td>12.308534</td>\n",
       "      <td>13.525865</td>\n",
       "      <td>3.389587</td>\n",
       "    </tr>\n",
       "    <tr>\n",
       "      <th>4</th>\n",
       "      <td>Week 5</td>\n",
       "      <td>12.9</td>\n",
       "      <td>180.8</td>\n",
       "      <td>10.8</td>\n",
       "      <td>58.4</td>\n",
       "      <td>2020-01-05</td>\n",
       "      <td>13.446189</td>\n",
       "      <td>5.289281</td>\n",
       "      <td>3.387848</td>\n",
       "    </tr>\n",
       "    <tr>\n",
       "      <th>5</th>\n",
       "      <td>Week 6</td>\n",
       "      <td>7.2</td>\n",
       "      <td>8.7</td>\n",
       "      <td>48.9</td>\n",
       "      <td>75.0</td>\n",
       "      <td>2020-01-06</td>\n",
       "      <td>2.949576</td>\n",
       "      <td>15.223559</td>\n",
       "      <td>3.651896</td>\n",
       "    </tr>\n",
       "    <tr>\n",
       "      <th>6</th>\n",
       "      <td>Week 7</td>\n",
       "      <td>11.8</td>\n",
       "      <td>57.5</td>\n",
       "      <td>32.8</td>\n",
       "      <td>23.5</td>\n",
       "      <td>2020-01-07</td>\n",
       "      <td>7.582875</td>\n",
       "      <td>11.510964</td>\n",
       "      <td>2.578222</td>\n",
       "    </tr>\n",
       "    <tr>\n",
       "      <th>7</th>\n",
       "      <td>Week 8</td>\n",
       "      <td>13.2</td>\n",
       "      <td>120.2</td>\n",
       "      <td>19.6</td>\n",
       "      <td>11.6</td>\n",
       "      <td>2020-01-08</td>\n",
       "      <td>10.963576</td>\n",
       "      <td>8.027480</td>\n",
       "      <td>2.086111</td>\n",
       "    </tr>\n",
       "    <tr>\n",
       "      <th>8</th>\n",
       "      <td>Week 9</td>\n",
       "      <td>4.8</td>\n",
       "      <td>8.6</td>\n",
       "      <td>2.1</td>\n",
       "      <td>1.0</td>\n",
       "      <td>2020-01-09</td>\n",
       "      <td>2.932576</td>\n",
       "      <td>1.680945</td>\n",
       "      <td>1.000000</td>\n",
       "    </tr>\n",
       "    <tr>\n",
       "      <th>9</th>\n",
       "      <td>Week 10</td>\n",
       "      <td>10.6</td>\n",
       "      <td>199.8</td>\n",
       "      <td>2.6</td>\n",
       "      <td>21.2</td>\n",
       "      <td>2020-01-10</td>\n",
       "      <td>14.135063</td>\n",
       "      <td>1.952007</td>\n",
       "      <td>2.499774</td>\n",
       "    </tr>\n",
       "    <tr>\n",
       "      <th>10</th>\n",
       "      <td>Week 11</td>\n",
       "      <td>8.6</td>\n",
       "      <td>66.1</td>\n",
       "      <td>5.8</td>\n",
       "      <td>24.2</td>\n",
       "      <td>2020-01-11</td>\n",
       "      <td>8.130191</td>\n",
       "      <td>3.422942</td>\n",
       "      <td>2.601025</td>\n",
       "    </tr>\n",
       "    <tr>\n",
       "      <th>11</th>\n",
       "      <td>Week 12</td>\n",
       "      <td>17.4</td>\n",
       "      <td>214.7</td>\n",
       "      <td>24.0</td>\n",
       "      <td>4.0</td>\n",
       "      <td>2020-01-12</td>\n",
       "      <td>14.652645</td>\n",
       "      <td>9.250131</td>\n",
       "      <td>1.515717</td>\n",
       "    </tr>\n",
       "    <tr>\n",
       "      <th>12</th>\n",
       "      <td>Week 13</td>\n",
       "      <td>9.2</td>\n",
       "      <td>23.8</td>\n",
       "      <td>35.1</td>\n",
       "      <td>65.9</td>\n",
       "      <td>2020-01-13</td>\n",
       "      <td>4.878524</td>\n",
       "      <td>12.070214</td>\n",
       "      <td>3.512899</td>\n",
       "    </tr>\n",
       "    <tr>\n",
       "      <th>13</th>\n",
       "      <td>Week 14</td>\n",
       "      <td>9.7</td>\n",
       "      <td>97.5</td>\n",
       "      <td>7.6</td>\n",
       "      <td>7.2</td>\n",
       "      <td>2020-01-14</td>\n",
       "      <td>9.874209</td>\n",
       "      <td>4.135895</td>\n",
       "      <td>1.808006</td>\n",
       "    </tr>\n",
       "    <tr>\n",
       "      <th>14</th>\n",
       "      <td>Week 15</td>\n",
       "      <td>19.0</td>\n",
       "      <td>204.1</td>\n",
       "      <td>32.9</td>\n",
       "      <td>46.0</td>\n",
       "      <td>2020-01-15</td>\n",
       "      <td>14.286357</td>\n",
       "      <td>11.535519</td>\n",
       "      <td>3.153751</td>\n",
       "    </tr>\n",
       "    <tr>\n",
       "      <th>15</th>\n",
       "      <td>Week 16</td>\n",
       "      <td>22.4</td>\n",
       "      <td>195.4</td>\n",
       "      <td>47.7</td>\n",
       "      <td>52.9</td>\n",
       "      <td>2020-01-16</td>\n",
       "      <td>13.978555</td>\n",
       "      <td>14.961077</td>\n",
       "      <td>3.288794</td>\n",
       "    </tr>\n",
       "    <tr>\n",
       "      <th>16</th>\n",
       "      <td>Week 17</td>\n",
       "      <td>12.5</td>\n",
       "      <td>67.8</td>\n",
       "      <td>36.6</td>\n",
       "      <td>114.0</td>\n",
       "      <td>2020-01-17</td>\n",
       "      <td>8.234076</td>\n",
       "      <td>12.429016</td>\n",
       "      <td>4.140678</td>\n",
       "    </tr>\n",
       "    <tr>\n",
       "      <th>17</th>\n",
       "      <td>Week 18</td>\n",
       "      <td>24.4</td>\n",
       "      <td>281.4</td>\n",
       "      <td>39.6</td>\n",
       "      <td>55.8</td>\n",
       "      <td>2020-01-18</td>\n",
       "      <td>16.774981</td>\n",
       "      <td>13.133686</td>\n",
       "      <td>3.341875</td>\n",
       "    </tr>\n",
       "    <tr>\n",
       "      <th>18</th>\n",
       "      <td>Week 19</td>\n",
       "      <td>11.3</td>\n",
       "      <td>69.2</td>\n",
       "      <td>20.5</td>\n",
       "      <td>18.3</td>\n",
       "      <td>2020-01-19</td>\n",
       "      <td>8.318654</td>\n",
       "      <td>8.283764</td>\n",
       "      <td>2.391858</td>\n",
       "    </tr>\n",
       "    <tr>\n",
       "      <th>19</th>\n",
       "      <td>Week 20</td>\n",
       "      <td>14.6</td>\n",
       "      <td>147.3</td>\n",
       "      <td>23.9</td>\n",
       "      <td>19.1</td>\n",
       "      <td>2020-01-20</td>\n",
       "      <td>12.136721</td>\n",
       "      <td>9.223134</td>\n",
       "      <td>2.422758</td>\n",
       "    </tr>\n",
       "    <tr>\n",
       "      <th>20</th>\n",
       "      <td>Week 21</td>\n",
       "      <td>18.0</td>\n",
       "      <td>218.4</td>\n",
       "      <td>27.7</td>\n",
       "      <td>53.4</td>\n",
       "      <td>2020-01-21</td>\n",
       "      <td>14.778363</td>\n",
       "      <td>10.226708</td>\n",
       "      <td>3.298089</td>\n",
       "    </tr>\n",
       "    <tr>\n",
       "      <th>21</th>\n",
       "      <td>Week 22</td>\n",
       "      <td>12.5</td>\n",
       "      <td>237.4</td>\n",
       "      <td>5.1</td>\n",
       "      <td>23.5</td>\n",
       "      <td>2020-01-22</td>\n",
       "      <td>15.407790</td>\n",
       "      <td>3.128233</td>\n",
       "      <td>2.578222</td>\n",
       "    </tr>\n",
       "    <tr>\n",
       "      <th>22</th>\n",
       "      <td>Week 23</td>\n",
       "      <td>5.6</td>\n",
       "      <td>13.2</td>\n",
       "      <td>15.9</td>\n",
       "      <td>49.6</td>\n",
       "      <td>2020-01-23</td>\n",
       "      <td>3.633180</td>\n",
       "      <td>6.933907</td>\n",
       "      <td>3.225852</td>\n",
       "    </tr>\n",
       "    <tr>\n",
       "      <th>23</th>\n",
       "      <td>Week 24</td>\n",
       "      <td>15.5</td>\n",
       "      <td>228.3</td>\n",
       "      <td>16.9</td>\n",
       "      <td>26.2</td>\n",
       "      <td>2020-01-24</td>\n",
       "      <td>15.109600</td>\n",
       "      <td>7.236369</td>\n",
       "      <td>2.663731</td>\n",
       "    </tr>\n",
       "    <tr>\n",
       "      <th>24</th>\n",
       "      <td>Week 25</td>\n",
       "      <td>9.7</td>\n",
       "      <td>62.3</td>\n",
       "      <td>12.6</td>\n",
       "      <td>18.3</td>\n",
       "      <td>2020-01-25</td>\n",
       "      <td>7.893035</td>\n",
       "      <td>5.891954</td>\n",
       "      <td>2.391858</td>\n",
       "    </tr>\n",
       "    <tr>\n",
       "      <th>25</th>\n",
       "      <td>Week 26</td>\n",
       "      <td>12.0</td>\n",
       "      <td>262.9</td>\n",
       "      <td>3.5</td>\n",
       "      <td>19.5</td>\n",
       "      <td>2020-01-26</td>\n",
       "      <td>16.214191</td>\n",
       "      <td>2.403519</td>\n",
       "      <td>2.437869</td>\n",
       "    </tr>\n",
       "    <tr>\n",
       "      <th>26</th>\n",
       "      <td>Week 27</td>\n",
       "      <td>15.0</td>\n",
       "      <td>142.9</td>\n",
       "      <td>29.3</td>\n",
       "      <td>12.6</td>\n",
       "      <td>2020-01-27</td>\n",
       "      <td>11.954079</td>\n",
       "      <td>10.636710</td>\n",
       "      <td>2.138509</td>\n",
       "    </tr>\n",
       "    <tr>\n",
       "      <th>27</th>\n",
       "      <td>Week 28</td>\n",
       "      <td>15.9</td>\n",
       "      <td>240.1</td>\n",
       "      <td>16.7</td>\n",
       "      <td>22.9</td>\n",
       "      <td>2020-01-28</td>\n",
       "      <td>15.495161</td>\n",
       "      <td>7.176316</td>\n",
       "      <td>2.558295</td>\n",
       "    </tr>\n",
       "    <tr>\n",
       "      <th>28</th>\n",
       "      <td>Week 29</td>\n",
       "      <td>18.9</td>\n",
       "      <td>248.8</td>\n",
       "      <td>27.1</td>\n",
       "      <td>22.9</td>\n",
       "      <td>2020-01-29</td>\n",
       "      <td>15.773395</td>\n",
       "      <td>10.071137</td>\n",
       "      <td>2.558295</td>\n",
       "    </tr>\n",
       "    <tr>\n",
       "      <th>29</th>\n",
       "      <td>Week 30</td>\n",
       "      <td>10.5</td>\n",
       "      <td>70.6</td>\n",
       "      <td>16.0</td>\n",
       "      <td>40.8</td>\n",
       "      <td>2020-01-30</td>\n",
       "      <td>8.402381</td>\n",
       "      <td>6.964405</td>\n",
       "      <td>3.042272</td>\n",
       "    </tr>\n",
       "  </tbody>\n",
       "</table>\n",
       "</div>"
      ],
      "text/plain": [
       "       Time  sales     FB    TV  Radio       Date  FB_Transf  TV_Transf  \\\n",
       "0    Week 1   22.1  230.1  37.8   69.2 2020-01-01  15.169047  12.712889   \n",
       "1    Week 2   10.4   44.5  39.3   45.1 2020-01-02   6.670832  13.063958   \n",
       "2    Week 3    9.3   17.2  45.9   69.3 2020-01-03   4.147288  14.563605   \n",
       "3    Week 4   18.5  151.5  41.3   58.5 2020-01-04  12.308534  13.525865   \n",
       "4    Week 5   12.9  180.8  10.8   58.4 2020-01-05  13.446189   5.289281   \n",
       "5    Week 6    7.2    8.7  48.9   75.0 2020-01-06   2.949576  15.223559   \n",
       "6    Week 7   11.8   57.5  32.8   23.5 2020-01-07   7.582875  11.510964   \n",
       "7    Week 8   13.2  120.2  19.6   11.6 2020-01-08  10.963576   8.027480   \n",
       "8    Week 9    4.8    8.6   2.1    1.0 2020-01-09   2.932576   1.680945   \n",
       "9   Week 10   10.6  199.8   2.6   21.2 2020-01-10  14.135063   1.952007   \n",
       "10  Week 11    8.6   66.1   5.8   24.2 2020-01-11   8.130191   3.422942   \n",
       "11  Week 12   17.4  214.7  24.0    4.0 2020-01-12  14.652645   9.250131   \n",
       "12  Week 13    9.2   23.8  35.1   65.9 2020-01-13   4.878524  12.070214   \n",
       "13  Week 14    9.7   97.5   7.6    7.2 2020-01-14   9.874209   4.135895   \n",
       "14  Week 15   19.0  204.1  32.9   46.0 2020-01-15  14.286357  11.535519   \n",
       "15  Week 16   22.4  195.4  47.7   52.9 2020-01-16  13.978555  14.961077   \n",
       "16  Week 17   12.5   67.8  36.6  114.0 2020-01-17   8.234076  12.429016   \n",
       "17  Week 18   24.4  281.4  39.6   55.8 2020-01-18  16.774981  13.133686   \n",
       "18  Week 19   11.3   69.2  20.5   18.3 2020-01-19   8.318654   8.283764   \n",
       "19  Week 20   14.6  147.3  23.9   19.1 2020-01-20  12.136721   9.223134   \n",
       "20  Week 21   18.0  218.4  27.7   53.4 2020-01-21  14.778363  10.226708   \n",
       "21  Week 22   12.5  237.4   5.1   23.5 2020-01-22  15.407790   3.128233   \n",
       "22  Week 23    5.6   13.2  15.9   49.6 2020-01-23   3.633180   6.933907   \n",
       "23  Week 24   15.5  228.3  16.9   26.2 2020-01-24  15.109600   7.236369   \n",
       "24  Week 25    9.7   62.3  12.6   18.3 2020-01-25   7.893035   5.891954   \n",
       "25  Week 26   12.0  262.9   3.5   19.5 2020-01-26  16.214191   2.403519   \n",
       "26  Week 27   15.0  142.9  29.3   12.6 2020-01-27  11.954079  10.636710   \n",
       "27  Week 28   15.9  240.1  16.7   22.9 2020-01-28  15.495161   7.176316   \n",
       "28  Week 29   18.9  248.8  27.1   22.9 2020-01-29  15.773395  10.071137   \n",
       "29  Week 30   10.5   70.6  16.0   40.8 2020-01-30   8.402381   6.964405   \n",
       "\n",
       "    Radio_transf  \n",
       "0       3.564773  \n",
       "1       3.135111  \n",
       "2       3.566317  \n",
       "3       3.389587  \n",
       "4       3.387848  \n",
       "5       3.651896  \n",
       "6       2.578222  \n",
       "7       2.086111  \n",
       "8       1.000000  \n",
       "9       2.499774  \n",
       "10      2.601025  \n",
       "11      1.515717  \n",
       "12      3.512899  \n",
       "13      1.808006  \n",
       "14      3.153751  \n",
       "15      3.288794  \n",
       "16      4.140678  \n",
       "17      3.341875  \n",
       "18      2.391858  \n",
       "19      2.422758  \n",
       "20      3.298089  \n",
       "21      2.578222  \n",
       "22      3.225852  \n",
       "23      2.663731  \n",
       "24      2.391858  \n",
       "25      2.437869  \n",
       "26      2.138509  \n",
       "27      2.558295  \n",
       "28      2.558295  \n",
       "29      3.042272  "
      ]
     },
     "execution_count": 62,
     "metadata": {},
     "output_type": "execute_result"
    }
   ],
   "source": [
    "calculo_4"
   ]
  },
  {
   "cell_type": "code",
   "execution_count": 63,
   "id": "f2bd9e60-770f-4d71-bb68-c41fdafea5bc",
   "metadata": {},
   "outputs": [
    {
     "name": "stdout",
     "output_type": "stream",
     "text": [
      "Correlação entre Sales e TV: 0.9843286443402576\n"
     ]
    }
   ],
   "source": [
    "# Calcula a correlação entre Sales e TV\n",
    "correlacao_RB_FB_Transf = calculo_4['FB'].corr(calculo_4['FB_Transf'])\n",
    "print(\"Correlação entre Sales e TV:\", correlacao_RB_FB_Transf)"
   ]
  },
  {
   "cell_type": "code",
   "execution_count": 64,
   "id": "48d7af92-fdd2-4347-a5c3-6a5fd2f7d94e",
   "metadata": {},
   "outputs": [
    {
     "data": {
      "image/png": "[encoded data removed]",
      "text/plain": [
       "<Figure size 1000x600 with 1 Axes>"
      ]
     },
     "metadata": {},
     "output_type": "display_data"
    }
   ],
   "source": [
    "from sklearn.preprocessing import PolynomialFeatures\n",
    "from sklearn.linear_model import LinearRegression\n",
    "import numpy as np\n",
    "import matplotlib.pyplot as plt\n",
    "\n",
    "# Definir variáveis independentes (X) e dependentes (y)\n",
    "X = calculo_4['FB_Transf'].values.reshape(-1, 1)  # reshape para ser uma matriz 2D\n",
    "y = calculo_4['FB'].values\n",
    "\n",
    "# Criar uma transformação de polinômios de grau 2\n",
    "poly = PolynomialFeatures(degree=2)\n",
    "X_poly = poly.fit_transform(X)\n",
    "\n",
    "# Ajustar o modelo de regressão linear\n",
    "model = LinearRegression()\n",
    "model.fit(X_poly, y)\n",
    "\n",
    "# Criar um intervalo de valores para a linha de ajuste\n",
    "X_fit = np.linspace(X.min(), X.max(), 100).reshape(-1, 1)\n",
    "X_fit_poly = poly.transform(X_fit)\n",
    "y_fit = model.predict(X_fit_poly)\n",
    "\n",
    "# Plotar os dados e a linha de regressão polinomial\n",
    "plt.figure(figsize=(10, 6))\n",
    "plt.scatter(X, y, color='blue', label='Dados Reais')\n",
    "plt.plot(X_fit, y_fit, color='red', label='Linha de Tendência (Série de Potência)')\n",
    "plt.title('Relação entre FB e FB_Transfcom Regressão Polinomial')\n",
    "plt.xlabel('Publicidade na FB_Transf (custo)')\n",
    "plt.ylabel('Publicidade na FB (custo)')\n",
    "plt.text(10, 23, f'Correlação R²: {correlacao_RB_FB_Transf:.2f}', fontsize=12, color='black')\n",
    "\n",
    "plt.legend()\n",
    "plt.grid()\n",
    "plt.show()"
   ]
  },
  {
   "cell_type": "code",
   "execution_count": 65,
   "id": "b4caee8a-86ff-403b-858d-1a07fe8c2bfa",
   "metadata": {},
   "outputs": [
    {
     "data": {
      "image/png": "[encoded data removed]",
      "text/plain": [
       "<Figure size 1000x600 with 1 Axes>"
      ]
     },
     "metadata": {},
     "output_type": "display_data"
    }
   ],
   "source": [
    "from sklearn.preprocessing import PolynomialFeatures\n",
    "from sklearn.linear_model import LinearRegression\n",
    "import numpy as np\n",
    "import matplotlib.pyplot as plt\n",
    "\n",
    "# Definir variáveis independentes (X) e dependentes (y)\n",
    "X = calculo_4['FB'].values.reshape(-1, 1)  # reshape para ser uma matriz 2D\n",
    "y = calculo_4['FB_Transf'].values\n",
    "\n",
    "# Criar uma transformação de polinômios de grau 2\n",
    "poly = PolynomialFeatures(degree=2)\n",
    "X_poly = poly.fit_transform(X)\n",
    "\n",
    "# Ajustar o modelo de regressão linear\n",
    "model = LinearRegression()\n",
    "model.fit(X_poly, y)\n",
    "\n",
    "# Criar um intervalo de valores para a linha de ajuste\n",
    "X_fit = np.linspace(X.min(), X.max(), 100).reshape(-1, 1)\n",
    "X_fit_poly = poly.transform(X_fit)\n",
    "y_fit = model.predict(X_fit_poly)\n",
    "\n",
    "# Plotar os dados e a linha de regressão polinomial\n",
    "plt.figure(figsize=(10, 6))\n",
    "plt.scatter(X, y, color='blue', label='Dados Reais')\n",
    "plt.plot(X_fit, y_fit, color='red', label='Linha de Tendência (Série de Potência)')\n",
    "plt.title('Relação entre FB e FB_Transfcom Regressão Polinomial')\n",
    "plt.xlabel('Publicidade na FB (custo)')\n",
    "plt.ylabel('Publicidade na FB_Transf (custo)') \n",
    "plt.text(10, 20, f'Correlação R²: {correlacao_RB_FB_Transf:.2f}', fontsize=12, color='black')\n",
    "\n",
    "plt.ylim(0, 22)  # Limitar o eixo y até 22\n",
    "\n",
    "plt.legend()\n",
    "plt.grid()\n",
    "plt.show()"
   ]
  },
  {
   "cell_type": "code",
   "execution_count": 66,
   "id": "c3f34ef2-3bcf-47e2-a470-5796d02a3273",
   "metadata": {},
   "outputs": [
    {
     "data": {
      "application/vnd.plotly.v1+json": {
       "config": {
        "plotlyServerURL": "https://plot.ly"
       },
       "data": [
        {
         "marker": {
          "color": "blue"
         },
         "mode": "markers",
         "name": "Dados Reais",
         "type": "scatter",
         "x": [
          230.1,
          44.5,
          17.2,
          151.5,
          180.8,
          8.7,
          57.5,
          120.2,
          8.6,
          199.8,
          66.1,
          214.7,
          23.8,
          97.5,
          204.1,
          195.4,
          67.8,
          281.4,
          69.2,
          147.3,
          218.4,
          237.4,
          13.2,
          228.3,
          62.3,
          262.9,
          142.9,
          240.1,
          248.8,
          70.6
         ],
         "y": [
          15.16904743218901,
          6.670832032063167,
          4.147288270665544,
          12.30853362509117,
          13.446189051177289,
          2.949576240750525,
          7.582875444051551,
          10.963576058932597,
          2.932575659723036,
          14.135062787267696,
          8.130190649671137,
          14.652644812456213,
          4.878524367060187,
          9.874208829065749,
          14.286357128393508,
          13.978555004005242,
          8.23407554009556,
          16.774981371077583,
          8.318653737234168,
          12.136721138759018,
          14.778362561528933,
          15.407790237409127,
          3.63318042491699,
          15.109599597606815,
          7.893034904268446,
          16.214191315017842,
          11.954078801814886,
          15.49516053482506,
          15.773395322504284,
          8.402380615040002
         ]
        },
        {
         "line": {
          "color": "red"
         },
         "mode": "lines",
         "name": "Linha de Tendência (Série de Potência)",
         "type": "scatter",
         "x": [
          8.6,
          11.355555555555554,
          14.11111111111111,
          16.866666666666667,
          19.62222222222222,
          22.377777777777773,
          25.133333333333333,
          27.888888888888886,
          30.64444444444444,
          33.4,
          36.15555555555555,
          38.911111111111104,
          41.666666666666664,
          44.42222222222222,
          47.17777777777777,
          49.93333333333333,
          52.68888888888888,
          55.444444444444436,
          58.199999999999996,
          60.95555555555555,
          63.7111111111111,
          66.46666666666665,
          69.22222222222221,
          71.97777777777776,
          74.73333333333332,
          77.48888888888887,
          80.24444444444443,
          82.99999999999999,
          85.75555555555553,
          88.51111111111109,
          91.26666666666665,
          94.0222222222222,
          96.77777777777776,
          99.53333333333332,
          102.28888888888886,
          105.04444444444442,
          107.79999999999998,
          110.55555555555553,
          113.31111111111109,
          116.06666666666665,
          118.8222222222222,
          121.57777777777775,
          124.33333333333331,
          127.08888888888886,
          129.84444444444443,
          132.6,
          135.35555555555553,
          138.1111111111111,
          140.86666666666665,
          143.6222222222222,
          146.37777777777774,
          149.1333333333333,
          151.88888888888886,
          154.64444444444442,
          157.39999999999998,
          160.15555555555554,
          162.91111111111107,
          165.66666666666663,
          168.4222222222222,
          171.17777777777775,
          173.9333333333333,
          176.68888888888887,
          179.4444444444444,
          182.19999999999996,
          184.95555555555552,
          187.71111111111108,
          190.46666666666664,
          193.22222222222217,
          195.97777777777773,
          198.7333333333333,
          201.48888888888885,
          204.2444444444444,
          206.99999999999997,
          209.7555555555555,
          212.51111111111106,
          215.26666666666662,
          218.02222222222218,
          220.77777777777774,
          223.5333333333333,
          226.28888888888883,
          229.0444444444444,
          231.79999999999995,
          234.55555555555551,
          237.31111111111107,
          240.06666666666663,
          242.82222222222217,
          245.57777777777773,
          248.3333333333333,
          251.08888888888885,
          253.8444444444444,
          256.59999999999997,
          259.3555555555555,
          262.1111111111111,
          264.8666666666667,
          267.6222222222222,
          270.37777777777774,
          273.1333333333333,
          275.88888888888886,
          278.64444444444445,
          281.4
         ],
         "y": [
          3.547502204944336,
          3.768722109560213,
          3.9880392806026554,
          4.205453718071664,
          4.420965421967238,
          4.634574392289378,
          4.846280629038084,
          5.056084132213356,
          5.263984901815194,
          5.4699829378435965,
          5.6740782402985666,
          5.876270809180101,
          6.076560644488202,
          6.2749477462228676,
          6.4714321143841005,
          6.666013748971899,
          6.8586926499862635,
          7.049468817427193,
          7.2383422512946884,
          7.42531295158875,
          7.610380918309377,
          7.793546151456569,
          7.9748086510303295,
          8.154168417030654,
          8.331625449457544,
          8.507179748311,
          8.680831313591021,
          8.85258014529761,
          9.022426243430765,
          9.190369607990483,
          9.356410238976768,
          9.52054813638962,
          9.682783300229037,
          9.84311573049502,
          10.001545427187569,
          10.158072390306682,
          10.312696619852364,
          10.465418115824608,
          10.616236878223422,
          10.7651529070488,
          10.912166202300742,
          11.057276763979251,
          11.200484592084326,
          11.341789686615966,
          11.481192047574174,
          11.618691674958948,
          11.754288568770285,
          11.88798272900819,
          12.019774155672659,
          12.149662848763695,
          12.277648808281295,
          12.403732034225463,
          12.527912526596197,
          12.650190285393496,
          12.77056531061736,
          12.889037602267791,
          13.005607160344788,
          13.12027398484835,
          13.233038075778477,
          13.34389943313517,
          13.452858056918432,
          13.559913947128257,
          13.665067103764647,
          13.768317526827605,
          13.869665216317127,
          13.969110172233217,
          14.06665239457587,
          14.162291883345091,
          14.256028638540878,
          14.34786266016323,
          14.437793948212148,
          14.52582250268763,
          14.611948323589681,
          14.696171410918293,
          14.778491764673474,
          14.858909384855222,
          14.937424271463534,
          15.014036424498412,
          15.088745843959858,
          15.161552529847869,
          15.232456482162444,
          15.301457700903587,
          15.368556186071293,
          15.433751937665567,
          15.497044955686405,
          15.558435240133809,
          15.617922791007778,
          15.675507608308315,
          15.73118969203542,
          15.784969042189086,
          15.83684565876932,
          15.886819541776124,
          15.934890691209485,
          15.981059107069418,
          16.025324789355913,
          16.06768773806898,
          16.108147953208608,
          16.146705434774802,
          16.18336018276756,
          16.21811219718689
         ]
        }
       ],
       "layout": {
        "annotations": [
         {
          "font": {
           "color": "black",
           "size": 12
          },
          "showarrow": false,
          "text": "Correlação R²: 0.98",
          "x": 36.15555555555555,
          "y": 20
         }
        ],
        "autosize": true,
        "template": {
         "data": {
          "bar": [
           {
            "error_x": {
             "color": "#2a3f5f"
            },
            "error_y": {
             "color": "#2a3f5f"
            },
            "marker": {
             "line": {
              "color": "#E5ECF6",
              "width": 0.5
             },
             "pattern": {
              "fillmode": "overlay",
              "size": 10,
              "solidity": 0.2
             }
            },
            "type": "bar"
           }
          ],
          "barpolar": [
           {
            "marker": {
             "line": {
              "color": "#E5ECF6",
              "width": 0.5
             },
             "pattern": {
              "fillmode": "overlay",
              "size": 10,
              "solidity": 0.2
             }
            },
            "type": "barpolar"
           }
          ],
          "carpet": [
           {
            "aaxis": {
             "endlinecolor": "#2a3f5f",
             "gridcolor": "white",
             "linecolor": "white",
             "minorgridcolor": "white",
             "startlinecolor": "#2a3f5f"
            },
            "baxis": {
             "endlinecolor": "#2a3f5f",
             "gridcolor": "white",
             "linecolor": "white",
             "minorgridcolor": "white",
             "startlinecolor": "#2a3f5f"
            },
            "type": "carpet"
           }
          ],
          "choropleth": [
           {
            "colorbar": {
             "outlinewidth": 0,
             "ticks": ""
            },
            "type": "choropleth"
           }
          ],
          "contour": [
           {
            "colorbar": {
             "outlinewidth": 0,
             "ticks": ""
            },
            "colorscale": [
             [
              0,
              "#0d0887"
             ],
             [
              0.1111111111111111,
              "#46039f"
             ],
             [
              0.2222222222222222,
              "#7201a8"
             ],
             [
              0.3333333333333333,
              "#9c179e"
             ],
             [
              0.4444444444444444,
              "#bd3786"
             ],
             [
              0.5555555555555556,
              "#d8576b"
             ],
             [
              0.6666666666666666,
              "#ed7953"
             ],
             [
              0.7777777777777778,
              "#fb9f3a"
             ],
             [
              0.8888888888888888,
              "#fdca26"
             ],
             [
              1,
              "#f0f921"
             ]
            ],
            "type": "contour"
           }
          ],
          "contourcarpet": [
           {
            "colorbar": {
             "outlinewidth": 0,
             "ticks": ""
            },
            "type": "contourcarpet"
           }
          ],
          "heatmap": [
           {
            "colorbar": {
             "outlinewidth": 0,
             "ticks": ""
            },
            "colorscale": [
             [
              0,
              "#0d0887"
             ],
             [
              0.1111111111111111,
              "#46039f"
             ],
             [
              0.2222222222222222,
              "#7201a8"
             ],
             [
              0.3333333333333333,
              "#9c179e"
             ],
             [
              0.4444444444444444,
              "#bd3786"
             ],
             [
              0.5555555555555556,
              "#d8576b"
             ],
             [
              0.6666666666666666,
              "#ed7953"
             ],
             [
              0.7777777777777778,
              "#fb9f3a"
             ],
             [
              0.8888888888888888,
              "#fdca26"
             ],
             [
              1,
              "#f0f921"
             ]
            ],
            "type": "heatmap"
           }
          ],
          "heatmapgl": [
           {
            "colorbar": {
             "outlinewidth": 0,
             "ticks": ""
            },
            "colorscale": [
             [
              0,
              "#0d0887"
             ],
             [
              0.1111111111111111,
              "#46039f"
             ],
             [
              0.2222222222222222,
              "#7201a8"
             ],
             [
              0.3333333333333333,
              "#9c179e"
             ],
             [
              0.4444444444444444,
              "#bd3786"
             ],
             [
              0.5555555555555556,
              "#d8576b"
             ],
             [
              0.6666666666666666,
              "#ed7953"
             ],
             [
              0.7777777777777778,
              "#fb9f3a"
             ],
             [
              0.8888888888888888,
              "#fdca26"
             ],
             [
              1,
              "#f0f921"
             ]
            ],
            "type": "heatmapgl"
           }
          ],
          "histogram": [
           {
            "marker": {
             "pattern": {
              "fillmode": "overlay",
              "size": 10,
              "solidity": 0.2
             }
            },
            "type": "histogram"
           }
          ],
          "histogram2d": [
           {
            "colorbar": {
             "outlinewidth": 0,
             "ticks": ""
            },
            "colorscale": [
             [
              0,
              "#0d0887"
             ],
             [
              0.1111111111111111,
              "#46039f"
             ],
             [
              0.2222222222222222,
              "#7201a8"
             ],
             [
              0.3333333333333333,
              "#9c179e"
             ],
             [
              0.4444444444444444,
              "#bd3786"
             ],
             [
              0.5555555555555556,
              "#d8576b"
             ],
             [
              0.6666666666666666,
              "#ed7953"
             ],
             [
              0.7777777777777778,
              "#fb9f3a"
             ],
             [
              0.8888888888888888,
              "#fdca26"
             ],
             [
              1,
              "#f0f921"
             ]
            ],
            "type": "histogram2d"
           }
          ],
          "histogram2dcontour": [
           {
            "colorbar": {
             "outlinewidth": 0,
             "ticks": ""
            },
            "colorscale": [
             [
              0,
              "#0d0887"
             ],
             [
              0.1111111111111111,
              "#46039f"
             ],
             [
              0.2222222222222222,
              "#7201a8"
             ],
             [
              0.3333333333333333,
              "#9c179e"
             ],
             [
              0.4444444444444444,
              "#bd3786"
             ],
             [
              0.5555555555555556,
              "#d8576b"
             ],
             [
              0.6666666666666666,
              "#ed7953"
             ],
             [
              0.7777777777777778,
              "#fb9f3a"
             ],
             [
              0.8888888888888888,
              "#fdca26"
             ],
             [
              1,
              "#f0f921"
             ]
            ],
            "type": "histogram2dcontour"
           }
          ],
          "mesh3d": [
           {
            "colorbar": {
             "outlinewidth": 0,
             "ticks": ""
            },
            "type": "mesh3d"
           }
          ],
          "parcoords": [
           {
            "line": {
             "colorbar": {
              "outlinewidth": 0,
              "ticks": ""
             }
            },
            "type": "parcoords"
           }
          ],
          "pie": [
           {
            "automargin": true,
            "type": "pie"
           }
          ],
          "scatter": [
           {
            "fillpattern": {
             "fillmode": "overlay",
             "size": 10,
             "solidity": 0.2
            },
            "type": "scatter"
           }
          ],
          "scatter3d": [
           {
            "line": {
             "colorbar": {
              "outlinewidth": 0,
              "ticks": ""
             }
            },
            "marker": {
             "colorbar": {
              "outlinewidth": 0,
              "ticks": ""
             }
            },
            "type": "scatter3d"
           }
          ],
          "scattercarpet": [
           {
            "marker": {
             "colorbar": {
              "outlinewidth": 0,
              "ticks": ""
             }
            },
            "type": "scattercarpet"
           }
          ],
          "scattergeo": [
           {
            "marker": {
             "colorbar": {
              "outlinewidth": 0,
              "ticks": ""
             }
            },
            "type": "scattergeo"
           }
          ],
          "scattergl": [
           {
            "marker": {
             "colorbar": {
              "outlinewidth": 0,
              "ticks": ""
             }
            },
            "type": "scattergl"
           }
          ],
          "scattermapbox": [
           {
            "marker": {
             "colorbar": {
              "outlinewidth": 0,
              "ticks": ""
             }
            },
            "type": "scattermapbox"
           }
          ],
          "scatterpolar": [
           {
            "marker": {
             "colorbar": {
              "outlinewidth": 0,
              "ticks": ""
             }
            },
            "type": "scatterpolar"
           }
          ],
          "scatterpolargl": [
           {
            "marker": {
             "colorbar": {
              "outlinewidth": 0,
              "ticks": ""
             }
            },
            "type": "scatterpolargl"
           }
          ],
          "scatterternary": [
           {
            "marker": {
             "colorbar": {
              "outlinewidth": 0,
              "ticks": ""
             }
            },
            "type": "scatterternary"
           }
          ],
          "surface": [
           {
            "colorbar": {
             "outlinewidth": 0,
             "ticks": ""
            },
            "colorscale": [
             [
              0,
              "#0d0887"
             ],
             [
              0.1111111111111111,
              "#46039f"
             ],
             [
              0.2222222222222222,
              "#7201a8"
             ],
             [
              0.3333333333333333,
              "#9c179e"
             ],
             [
              0.4444444444444444,
              "#bd3786"
             ],
             [
              0.5555555555555556,
              "#d8576b"
             ],
             [
              0.6666666666666666,
              "#ed7953"
             ],
             [
              0.7777777777777778,
              "#fb9f3a"
             ],
             [
              0.8888888888888888,
              "#fdca26"
             ],
             [
              1,
              "#f0f921"
             ]
            ],
            "type": "surface"
           }
          ],
          "table": [
           {
            "cells": {
             "fill": {
              "color": "#EBF0F8"
             },
             "line": {
              "color": "white"
             }
            },
            "header": {
             "fill": {
              "color": "#C8D4E3"
             },
             "line": {
              "color": "white"
             }
            },
            "type": "table"
           }
          ]
         },
         "layout": {
          "annotationdefaults": {
           "arrowcolor": "#2a3f5f",
           "arrowhead": 0,
           "arrowwidth": 1
          },
          "autotypenumbers": "strict",
          "coloraxis": {
           "colorbar": {
            "outlinewidth": 0,
            "ticks": ""
           }
          },
          "colorscale": {
           "diverging": [
            [
             0,
             "#8e0152"
            ],
            [
             0.1,
             "#c51b7d"
            ],
            [
             0.2,
             "#de77ae"
            ],
            [
             0.3,
             "#f1b6da"
            ],
            [
             0.4,
             "#fde0ef"
            ],
            [
             0.5,
             "#f7f7f7"
            ],
            [
             0.6,
             "#e6f5d0"
            ],
            [
             0.7,
             "#b8e186"
            ],
            [
             0.8,
             "#7fbc41"
            ],
            [
             0.9,
             "#4d9221"
            ],
            [
             1,
             "#276419"
            ]
           ],
           "sequential": [
            [
             0,
             "#0d0887"
            ],
            [
             0.1111111111111111,
             "#46039f"
            ],
            [
             0.2222222222222222,
             "#7201a8"
            ],
            [
             0.3333333333333333,
             "#9c179e"
            ],
            [
             0.4444444444444444,
             "#bd3786"
            ],
            [
             0.5555555555555556,
             "#d8576b"
            ],
            [
             0.6666666666666666,
             "#ed7953"
            ],
            [
             0.7777777777777778,
             "#fb9f3a"
            ],
            [
             0.8888888888888888,
             "#fdca26"
            ],
            [
             1,
             "#f0f921"
            ]
           ],
           "sequentialminus": [
            [
             0,
             "#0d0887"
            ],
            [
             0.1111111111111111,
             "#46039f"
            ],
            [
             0.2222222222222222,
             "#7201a8"
            ],
            [
             0.3333333333333333,
             "#9c179e"
            ],
            [
             0.4444444444444444,
             "#bd3786"
            ],
            [
             0.5555555555555556,
             "#d8576b"
            ],
            [
             0.6666666666666666,
             "#ed7953"
            ],
            [
             0.7777777777777778,
             "#fb9f3a"
            ],
            [
             0.8888888888888888,
             "#fdca26"
            ],
            [
             1,
             "#f0f921"
            ]
           ]
          },
          "colorway": [
           "#636efa",
           "#EF553B",
           "#00cc96",
           "#ab63fa",
           "#FFA15A",
           "#19d3f3",
           "#FF6692",
           "#B6E880",
           "#FF97FF",
           "#FECB52"
          ],
          "font": {
           "color": "#2a3f5f"
          },
          "geo": {
           "bgcolor": "white",
           "lakecolor": "white",
           "landcolor": "#E5ECF6",
           "showlakes": true,
           "showland": true,
           "subunitcolor": "white"
          },
          "hoverlabel": {
           "align": "left"
          },
          "hovermode": "closest",
          "mapbox": {
           "style": "light"
          },
          "paper_bgcolor": "white",
          "plot_bgcolor": "#E5ECF6",
          "polar": {
           "angularaxis": {
            "gridcolor": "white",
            "linecolor": "white",
            "ticks": ""
           },
           "bgcolor": "#E5ECF6",
           "radialaxis": {
            "gridcolor": "white",
            "linecolor": "white",
            "ticks": ""
           }
          },
          "scene": {
           "xaxis": {
            "backgroundcolor": "#E5ECF6",
            "gridcolor": "white",
            "gridwidth": 2,
            "linecolor": "white",
            "showbackground": true,
            "ticks": "",
            "zerolinecolor": "white"
           },
           "yaxis": {
            "backgroundcolor": "#E5ECF6",
            "gridcolor": "white",
            "gridwidth": 2,
            "linecolor": "white",
            "showbackground": true,
            "ticks": "",
            "zerolinecolor": "white"
           },
           "zaxis": {
            "backgroundcolor": "#E5ECF6",
            "gridcolor": "white",
            "gridwidth": 2,
            "linecolor": "white",
            "showbackground": true,
            "ticks": "",
            "zerolinecolor": "white"
           }
          },
          "shapedefaults": {
           "line": {
            "color": "#2a3f5f"
           }
          },
          "ternary": {
           "aaxis": {
            "gridcolor": "white",
            "linecolor": "white",
            "ticks": ""
           },
           "baxis": {
            "gridcolor": "white",
            "linecolor": "white",
            "ticks": ""
           },
           "bgcolor": "#E5ECF6",
           "caxis": {
            "gridcolor": "white",
            "linecolor": "white",
            "ticks": ""
           }
          },
          "title": {
           "x": 0.05
          },
          "xaxis": {
           "automargin": true,
           "gridcolor": "white",
           "linecolor": "white",
           "ticks": "",
           "title": {
            "standoff": 15
           },
           "zerolinecolor": "white",
           "zerolinewidth": 2
          },
          "yaxis": {
           "automargin": true,
           "gridcolor": "white",
           "linecolor": "white",
           "ticks": "",
           "title": {
            "standoff": 15
           },
           "zerolinecolor": "white",
           "zerolinewidth": 2
          }
         }
        },
        "title": {
         "text": "Relação entre FB e FB_Transf com Regressão Polinomial"
        },
        "xaxis": {
         "autorange": true,
         "range": [
          -8.276995305164318,
          298.2769953051643
         ],
         "title": {
          "text": "Publicidade na FB (custo)"
         },
         "type": "linear"
        },
        "yaxis": {
         "range": [
          0,
          22
         ],
         "title": {
          "text": "Publicidade na FB_Transf (custo)"
         },
         "type": "linear"
        }
       }
      },
      "image/png": "[encoded data removed]",
      "text/html": [
       "<div>                            <div id=\"d89cae24-0d0d-4abe-909a-93376bb57cf3\" class=\"plotly-graph-div\" style=\"height:525px; width:100%;\"></div>            <script type=\"text/javascript\">                require([\"plotly\"], function(Plotly) {                    window.PLOTLYENV=window.PLOTLYENV || {};                                    if (document.getElementById(\"d89cae24-0d0d-4abe-909a-93376bb57cf3\")) {                    Plotly.newPlot(                        \"d89cae24-0d0d-4abe-909a-93376bb57cf3\",                        [{\"marker\":{\"color\":\"blue\"},\"mode\":\"markers\",\"name\":\"Dados Reais\",\"x\":[230.1,44.5,17.2,151.5,180.8,8.7,57.5,120.2,8.6,199.8,66.1,214.7,23.8,97.5,204.1,195.4,67.8,281.4,69.2,147.3,218.4,237.4,13.2,228.3,62.3,262.9,142.9,240.1,248.8,70.6],\"y\":[15.16904743218901,6.670832032063167,4.147288270665544,12.30853362509117,13.446189051177289,2.949576240750525,7.582875444051551,10.963576058932597,2.932575659723036,14.135062787267696,8.130190649671137,14.652644812456213,4.878524367060187,9.874208829065749,14.286357128393508,13.978555004005242,8.23407554009556,16.774981371077583,8.318653737234168,12.136721138759018,14.778362561528933,15.407790237409127,3.63318042491699,15.109599597606815,7.893034904268446,16.214191315017842,11.954078801814886,15.49516053482506,15.773395322504284,8.402380615040002],\"type\":\"scatter\"},{\"line\":{\"color\":\"red\"},\"mode\":\"lines\",\"name\":\"Linha de Tend\\u00eancia (S\\u00e9rie de Pot\\u00eancia)\",\"x\":[8.6,11.355555555555554,14.11111111111111,16.866666666666667,19.62222222222222,22.377777777777773,25.133333333333333,27.888888888888886,30.64444444444444,33.4,36.15555555555555,38.911111111111104,41.666666666666664,44.42222222222222,47.17777777777777,49.93333333333333,52.68888888888888,55.444444444444436,58.199999999999996,60.95555555555555,63.7111111111111,66.46666666666665,69.22222222222221,71.97777777777776,74.73333333333332,77.48888888888887,80.24444444444443,82.99999999999999,85.75555555555553,88.51111111111109,91.26666666666665,94.0222222222222,96.77777777777776,99.53333333333332,102.28888888888886,105.04444444444442,107.79999999999998,110.55555555555553,113.31111111111109,116.06666666666665,118.8222222222222,121.57777777777775,124.33333333333331,127.08888888888886,129.84444444444443,132.6,135.35555555555553,138.1111111111111,140.86666666666665,143.6222222222222,146.37777777777774,149.1333333333333,151.88888888888886,154.64444444444442,157.39999999999998,160.15555555555554,162.91111111111107,165.66666666666663,168.4222222222222,171.17777777777775,173.9333333333333,176.68888888888887,179.4444444444444,182.19999999999996,184.95555555555552,187.71111111111108,190.46666666666664,193.22222222222217,195.97777777777773,198.7333333333333,201.48888888888885,204.2444444444444,206.99999999999997,209.7555555555555,212.51111111111106,215.26666666666662,218.02222222222218,220.77777777777774,223.5333333333333,226.28888888888883,229.0444444444444,231.79999999999995,234.55555555555551,237.31111111111107,240.06666666666663,242.82222222222217,245.57777777777773,248.3333333333333,251.08888888888885,253.8444444444444,256.59999999999997,259.3555555555555,262.1111111111111,264.8666666666667,267.6222222222222,270.37777777777774,273.1333333333333,275.88888888888886,278.64444444444445,281.4],\"y\":[3.547502204944336,3.768722109560213,3.9880392806026554,4.205453718071664,4.420965421967238,4.634574392289378,4.846280629038084,5.056084132213356,5.263984901815194,5.4699829378435965,5.6740782402985666,5.876270809180101,6.076560644488202,6.2749477462228676,6.4714321143841005,6.666013748971899,6.8586926499862635,7.049468817427193,7.2383422512946884,7.42531295158875,7.610380918309377,7.793546151456569,7.9748086510303295,8.154168417030654,8.331625449457544,8.507179748311,8.680831313591021,8.85258014529761,9.022426243430765,9.190369607990483,9.356410238976768,9.52054813638962,9.682783300229037,9.84311573049502,10.001545427187569,10.158072390306682,10.312696619852364,10.465418115824608,10.616236878223422,10.7651529070488,10.912166202300742,11.057276763979251,11.200484592084326,11.341789686615966,11.481192047574174,11.618691674958948,11.754288568770285,11.88798272900819,12.019774155672659,12.149662848763695,12.277648808281295,12.403732034225463,12.527912526596197,12.650190285393496,12.77056531061736,12.889037602267791,13.005607160344788,13.12027398484835,13.233038075778477,13.34389943313517,13.452858056918432,13.559913947128257,13.665067103764647,13.768317526827605,13.869665216317127,13.969110172233217,14.06665239457587,14.162291883345091,14.256028638540878,14.34786266016323,14.437793948212148,14.52582250268763,14.611948323589681,14.696171410918293,14.778491764673474,14.858909384855222,14.937424271463534,15.014036424498412,15.088745843959858,15.161552529847869,15.232456482162444,15.301457700903587,15.368556186071293,15.433751937665567,15.497044955686405,15.558435240133809,15.617922791007778,15.675507608308315,15.73118969203542,15.784969042189086,15.83684565876932,15.886819541776124,15.934890691209485,15.981059107069418,16.025324789355913,16.06768773806898,16.108147953208608,16.146705434774802,16.18336018276756,16.21811219718689],\"type\":\"scatter\"}],                        {\"template\":{\"data\":{\"histogram2dcontour\":[{\"type\":\"histogram2dcontour\",\"colorbar\":{\"outlinewidth\":0,\"ticks\":\"\"},\"colorscale\":[[0.0,\"#0d0887\"],[0.1111111111111111,\"#46039f\"],[0.2222222222222222,\"#7201a8\"],[0.3333333333333333,\"#9c179e\"],[0.4444444444444444,\"#bd3786\"],[0.5555555555555556,\"#d8576b\"],[0.6666666666666666,\"#ed7953\"],[0.7777777777777778,\"#fb9f3a\"],[0.8888888888888888,\"#fdca26\"],[1.0,\"#f0f921\"]]}],\"choropleth\":[{\"type\":\"choropleth\",\"colorbar\":{\"outlinewidth\":0,\"ticks\":\"\"}}],\"histogram2d\":[{\"type\":\"histogram2d\",\"colorbar\":{\"outlinewidth\":0,\"ticks\":\"\"},\"colorscale\":[[0.0,\"#0d0887\"],[0.1111111111111111,\"#46039f\"],[0.2222222222222222,\"#7201a8\"],[0.3333333333333333,\"#9c179e\"],[0.4444444444444444,\"#bd3786\"],[0.5555555555555556,\"#d8576b\"],[0.6666666666666666,\"#ed7953\"],[0.7777777777777778,\"#fb9f3a\"],[0.8888888888888888,\"#fdca26\"],[1.0,\"#f0f921\"]]}],\"heatmap\":[{\"type\":\"heatmap\",\"colorbar\":{\"outlinewidth\":0,\"ticks\":\"\"},\"colorscale\":[[0.0,\"#0d0887\"],[0.1111111111111111,\"#46039f\"],[0.2222222222222222,\"#7201a8\"],[0.3333333333333333,\"#9c179e\"],[0.4444444444444444,\"#bd3786\"],[0.5555555555555556,\"#d8576b\"],[0.6666666666666666,\"#ed7953\"],[0.7777777777777778,\"#fb9f3a\"],[0.8888888888888888,\"#fdca26\"],[1.0,\"#f0f921\"]]}],\"heatmapgl\":[{\"type\":\"heatmapgl\",\"colorbar\":{\"outlinewidth\":0,\"ticks\":\"\"},\"colorscale\":[[0.0,\"#0d0887\"],[0.1111111111111111,\"#46039f\"],[0.2222222222222222,\"#7201a8\"],[0.3333333333333333,\"#9c179e\"],[0.4444444444444444,\"#bd3786\"],[0.5555555555555556,\"#d8576b\"],[0.6666666666666666,\"#ed7953\"],[0.7777777777777778,\"#fb9f3a\"],[0.8888888888888888,\"#fdca26\"],[1.0,\"#f0f921\"]]}],\"contourcarpet\":[{\"type\":\"contourcarpet\",\"colorbar\":{\"outlinewidth\":0,\"ticks\":\"\"}}],\"contour\":[{\"type\":\"contour\",\"colorbar\":{\"outlinewidth\":0,\"ticks\":\"\"},\"colorscale\":[[0.0,\"#0d0887\"],[0.1111111111111111,\"#46039f\"],[0.2222222222222222,\"#7201a8\"],[0.3333333333333333,\"#9c179e\"],[0.4444444444444444,\"#bd3786\"],[0.5555555555555556,\"#d8576b\"],[0.6666666666666666,\"#ed7953\"],[0.7777777777777778,\"#fb9f3a\"],[0.8888888888888888,\"#fdca26\"],[1.0,\"#f0f921\"]]}],\"surface\":[{\"type\":\"surface\",\"colorbar\":{\"outlinewidth\":0,\"ticks\":\"\"},\"colorscale\":[[0.0,\"#0d0887\"],[0.1111111111111111,\"#46039f\"],[0.2222222222222222,\"#7201a8\"],[0.3333333333333333,\"#9c179e\"],[0.4444444444444444,\"#bd3786\"],[0.5555555555555556,\"#d8576b\"],[0.6666666666666666,\"#ed7953\"],[0.7777777777777778,\"#fb9f3a\"],[0.8888888888888888,\"#fdca26\"],[1.0,\"#f0f921\"]]}],\"mesh3d\":[{\"type\":\"mesh3d\",\"colorbar\":{\"outlinewidth\":0,\"ticks\":\"\"}}],\"scatter\":[{\"fillpattern\":{\"fillmode\":\"overlay\",\"size\":10,\"solidity\":0.2},\"type\":\"scatter\"}],\"parcoords\":[{\"type\":\"parcoords\",\"line\":{\"colorbar\":{\"outlinewidth\":0,\"ticks\":\"\"}}}],\"scatterpolargl\":[{\"type\":\"scatterpolargl\",\"marker\":{\"colorbar\":{\"outlinewidth\":0,\"ticks\":\"\"}}}],\"bar\":[{\"error_x\":{\"color\":\"#2a3f5f\"},\"error_y\":{\"color\":\"#2a3f5f\"},\"marker\":{\"line\":{\"color\":\"#E5ECF6\",\"width\":0.5},\"pattern\":{\"fillmode\":\"overlay\",\"size\":10,\"solidity\":0.2}},\"type\":\"bar\"}],\"scattergeo\":[{\"type\":\"scattergeo\",\"marker\":{\"colorbar\":{\"outlinewidth\":0,\"ticks\":\"\"}}}],\"scatterpolar\":[{\"type\":\"scatterpolar\",\"marker\":{\"colorbar\":{\"outlinewidth\":0,\"ticks\":\"\"}}}],\"histogram\":[{\"marker\":{\"pattern\":{\"fillmode\":\"overlay\",\"size\":10,\"solidity\":0.2}},\"type\":\"histogram\"}],\"scattergl\":[{\"type\":\"scattergl\",\"marker\":{\"colorbar\":{\"outlinewidth\":0,\"ticks\":\"\"}}}],\"scatter3d\":[{\"type\":\"scatter3d\",\"line\":{\"colorbar\":{\"outlinewidth\":0,\"ticks\":\"\"}},\"marker\":{\"colorbar\":{\"outlinewidth\":0,\"ticks\":\"\"}}}],\"scattermapbox\":[{\"type\":\"scattermapbox\",\"marker\":{\"colorbar\":{\"outlinewidth\":0,\"ticks\":\"\"}}}],\"scatterternary\":[{\"type\":\"scatterternary\",\"marker\":{\"colorbar\":{\"outlinewidth\":0,\"ticks\":\"\"}}}],\"scattercarpet\":[{\"type\":\"scattercarpet\",\"marker\":{\"colorbar\":{\"outlinewidth\":0,\"ticks\":\"\"}}}],\"carpet\":[{\"aaxis\":{\"endlinecolor\":\"#2a3f5f\",\"gridcolor\":\"white\",\"linecolor\":\"white\",\"minorgridcolor\":\"white\",\"startlinecolor\":\"#2a3f5f\"},\"baxis\":{\"endlinecolor\":\"#2a3f5f\",\"gridcolor\":\"white\",\"linecolor\":\"white\",\"minorgridcolor\":\"white\",\"startlinecolor\":\"#2a3f5f\"},\"type\":\"carpet\"}],\"table\":[{\"cells\":{\"fill\":{\"color\":\"#EBF0F8\"},\"line\":{\"color\":\"white\"}},\"header\":{\"fill\":{\"color\":\"#C8D4E3\"},\"line\":{\"color\":\"white\"}},\"type\":\"table\"}],\"barpolar\":[{\"marker\":{\"line\":{\"color\":\"#E5ECF6\",\"width\":0.5},\"pattern\":{\"fillmode\":\"overlay\",\"size\":10,\"solidity\":0.2}},\"type\":\"barpolar\"}],\"pie\":[{\"automargin\":true,\"type\":\"pie\"}]},\"layout\":{\"autotypenumbers\":\"strict\",\"colorway\":[\"#636efa\",\"#EF553B\",\"#00cc96\",\"#ab63fa\",\"#FFA15A\",\"#19d3f3\",\"#FF6692\",\"#B6E880\",\"#FF97FF\",\"#FECB52\"],\"font\":{\"color\":\"#2a3f5f\"},\"hovermode\":\"closest\",\"hoverlabel\":{\"align\":\"left\"},\"paper_bgcolor\":\"white\",\"plot_bgcolor\":\"#E5ECF6\",\"polar\":{\"bgcolor\":\"#E5ECF6\",\"angularaxis\":{\"gridcolor\":\"white\",\"linecolor\":\"white\",\"ticks\":\"\"},\"radialaxis\":{\"gridcolor\":\"white\",\"linecolor\":\"white\",\"ticks\":\"\"}},\"ternary\":{\"bgcolor\":\"#E5ECF6\",\"aaxis\":{\"gridcolor\":\"white\",\"linecolor\":\"white\",\"ticks\":\"\"},\"baxis\":{\"gridcolor\":\"white\",\"linecolor\":\"white\",\"ticks\":\"\"},\"caxis\":{\"gridcolor\":\"white\",\"linecolor\":\"white\",\"ticks\":\"\"}},\"coloraxis\":{\"colorbar\":{\"outlinewidth\":0,\"ticks\":\"\"}},\"colorscale\":{\"sequential\":[[0.0,\"#0d0887\"],[0.1111111111111111,\"#46039f\"],[0.2222222222222222,\"#7201a8\"],[0.3333333333333333,\"#9c179e\"],[0.4444444444444444,\"#bd3786\"],[0.5555555555555556,\"#d8576b\"],[0.6666666666666666,\"#ed7953\"],[0.7777777777777778,\"#fb9f3a\"],[0.8888888888888888,\"#fdca26\"],[1.0,\"#f0f921\"]],\"sequentialminus\":[[0.0,\"#0d0887\"],[0.1111111111111111,\"#46039f\"],[0.2222222222222222,\"#7201a8\"],[0.3333333333333333,\"#9c179e\"],[0.4444444444444444,\"#bd3786\"],[0.5555555555555556,\"#d8576b\"],[0.6666666666666666,\"#ed7953\"],[0.7777777777777778,\"#fb9f3a\"],[0.8888888888888888,\"#fdca26\"],[1.0,\"#f0f921\"]],\"diverging\":[[0,\"#8e0152\"],[0.1,\"#c51b7d\"],[0.2,\"#de77ae\"],[0.3,\"#f1b6da\"],[0.4,\"#fde0ef\"],[0.5,\"#f7f7f7\"],[0.6,\"#e6f5d0\"],[0.7,\"#b8e186\"],[0.8,\"#7fbc41\"],[0.9,\"#4d9221\"],[1,\"#276419\"]]},\"xaxis\":{\"gridcolor\":\"white\",\"linecolor\":\"white\",\"ticks\":\"\",\"title\":{\"standoff\":15},\"zerolinecolor\":\"white\",\"automargin\":true,\"zerolinewidth\":2},\"yaxis\":{\"gridcolor\":\"white\",\"linecolor\":\"white\",\"ticks\":\"\",\"title\":{\"standoff\":15},\"zerolinecolor\":\"white\",\"automargin\":true,\"zerolinewidth\":2},\"scene\":{\"xaxis\":{\"backgroundcolor\":\"#E5ECF6\",\"gridcolor\":\"white\",\"linecolor\":\"white\",\"showbackground\":true,\"ticks\":\"\",\"zerolinecolor\":\"white\",\"gridwidth\":2},\"yaxis\":{\"backgroundcolor\":\"#E5ECF6\",\"gridcolor\":\"white\",\"linecolor\":\"white\",\"showbackground\":true,\"ticks\":\"\",\"zerolinecolor\":\"white\",\"gridwidth\":2},\"zaxis\":{\"backgroundcolor\":\"#E5ECF6\",\"gridcolor\":\"white\",\"linecolor\":\"white\",\"showbackground\":true,\"ticks\":\"\",\"zerolinecolor\":\"white\",\"gridwidth\":2}},\"shapedefaults\":{\"line\":{\"color\":\"#2a3f5f\"}},\"annotationdefaults\":{\"arrowcolor\":\"#2a3f5f\",\"arrowhead\":0,\"arrowwidth\":1},\"geo\":{\"bgcolor\":\"white\",\"landcolor\":\"#E5ECF6\",\"subunitcolor\":\"white\",\"showland\":true,\"showlakes\":true,\"lakecolor\":\"white\"},\"title\":{\"x\":0.05},\"mapbox\":{\"style\":\"light\"}}},\"yaxis\":{\"title\":{\"text\":\"Publicidade na FB_Transf (custo)\"},\"range\":[0,22]},\"title\":{\"text\":\"Rela\\u00e7\\u00e3o entre FB e FB_Transf com Regress\\u00e3o Polinomial\"},\"xaxis\":{\"title\":{\"text\":\"Publicidade na FB (custo)\"}},\"annotations\":[{\"font\":{\"color\":\"black\",\"size\":12},\"showarrow\":false,\"text\":\"Correla\\u00e7\\u00e3o R\\u00b2: 0.98\",\"x\":36.15555555555555,\"y\":20}]},                        {\"responsive\": true}                    ).then(function(){\n",
       "                            \n",
       "var gd = document.getElementById('d89cae24-0d0d-4abe-909a-93376bb57cf3');\n",
       "var x = new MutationObserver(function (mutations, observer) {{\n",
       "        var display = window.getComputedStyle(gd).display;\n",
       "        if (!display || display === 'none') {{\n",
       "            console.log([gd, 'removed!']);\n",
       "            Plotly.purge(gd);\n",
       "            observer.disconnect();\n",
       "        }}\n",
       "}});\n",
       "\n",
       "// Listen for the removal of the full notebook cells\n",
       "var notebookContainer = gd.closest('#notebook-container');\n",
       "if (notebookContainer) {{\n",
       "    x.observe(notebookContainer, {childList: true});\n",
       "}}\n",
       "\n",
       "// Listen for the clearing of the current output cell\n",
       "var outputEl = gd.closest('.output');\n",
       "if (outputEl) {{\n",
       "    x.observe(outputEl, {childList: true});\n",
       "}}\n",
       "\n",
       "                        })                };                });            </script>        </div>"
      ]
     },
     "metadata": {},
     "output_type": "display_data"
    }
   ],
   "source": [
    "import plotly.express as px\n",
    "import plotly.graph_objects as go\n",
    "\n",
    "\n",
    "# Criar o gráfico com Plotly\n",
    "fig = go.Figure()\n",
    "\n",
    "# Adicionar os dados reais como scatter plot\n",
    "fig.add_trace(go.Scatter(x=X.flatten(), y=y, mode='markers', name='Dados Reais', marker=dict(color='blue')))\n",
    "\n",
    "# Adicionar a linha de tendência polinomial\n",
    "fig.add_trace(go.Scatter(x=X_fit.flatten(), y=y_fit, mode='lines', name='Linha de Tendência (Série de Potência)', line=dict(color='red')))\n",
    "\n",
    "# Adicionar título e rótulos dos eixos\n",
    "fig.update_layout(\n",
    "    title='Relação entre FB e FB_Transf com Regressão Polinomial',\n",
    "    xaxis_title='Publicidade na FB (custo)',\n",
    "    yaxis_title='Publicidade na FB_Transf (custo)',\n",
    "    yaxis=dict(range=[0, 22]),  # Limitar o eixo y até 22\n",
    ")\n",
    "\n",
    "# Adicionar texto de correlação R² no gráfico\n",
    "fig.add_annotation(\n",
    "    x=X_fit.flatten()[10], y=20,\n",
    "    text=f'Correlação R²: {correlacao_RB_FB_Transf:.2f}',\n",
    "    showarrow=False,\n",
    "    font=dict(size=12, color='black')\n",
    ")\n",
    "\n",
    "# Mostrar o gráfico\n",
    "fig.show()"
   ]
  },
  {
   "cell_type": "code",
   "execution_count": 67,
   "id": "25219564-da40-46fe-a1e8-2e686c744db3",
   "metadata": {},
   "outputs": [
    {
     "data": {
      "application/vnd.plotly.v1+json": {
       "config": {
        "plotlyServerURL": "https://plot.ly"
       },
       "data": [
        {
         "marker": {
          "color": "blue"
         },
         "mode": "markers",
         "name": "Dados Reais",
         "type": "scatter",
         "x": [
          230.1,
          44.5,
          17.2,
          151.5,
          180.8,
          8.7,
          57.5,
          120.2,
          8.6,
          199.8,
          66.1,
          214.7,
          23.8,
          97.5,
          204.1,
          195.4,
          67.8,
          281.4,
          69.2,
          147.3,
          218.4,
          237.4,
          13.2,
          228.3,
          62.3,
          262.9,
          142.9,
          240.1,
          248.8,
          70.6
         ],
         "y": [
          15.16904743218901,
          6.670832032063167,
          4.147288270665544,
          12.30853362509117,
          13.446189051177289,
          2.949576240750525,
          7.582875444051551,
          10.963576058932597,
          2.932575659723036,
          14.135062787267696,
          8.130190649671137,
          14.652644812456213,
          4.878524367060187,
          9.874208829065749,
          14.286357128393508,
          13.978555004005242,
          8.23407554009556,
          16.774981371077583,
          8.318653737234168,
          12.136721138759018,
          14.778362561528933,
          15.407790237409127,
          3.63318042491699,
          15.109599597606815,
          7.893034904268446,
          16.214191315017842,
          11.954078801814886,
          15.49516053482506,
          15.773395322504284,
          8.402380615040002
         ]
        },
        {
         "line": {
          "color": "red"
         },
         "mode": "lines",
         "name": "Linha de Tendência (Série de Potência)",
         "type": "scatter",
         "x": [
          8.6,
          11.355555555555554,
          14.11111111111111,
          16.866666666666667,
          19.62222222222222,
          22.377777777777773,
          25.133333333333333,
          27.888888888888886,
          30.64444444444444,
          33.4,
          36.15555555555555,
          38.911111111111104,
          41.666666666666664,
          44.42222222222222,
          47.17777777777777,
          49.93333333333333,
          52.68888888888888,
          55.444444444444436,
          58.199999999999996,
          60.95555555555555,
          63.7111111111111,
          66.46666666666665,
          69.22222222222221,
          71.97777777777776,
          74.73333333333332,
          77.48888888888887,
          80.24444444444443,
          82.99999999999999,
          85.75555555555553,
          88.51111111111109,
          91.26666666666665,
          94.0222222222222,
          96.77777777777776,
          99.53333333333332,
          102.28888888888886,
          105.04444444444442,
          107.79999999999998,
          110.55555555555553,
          113.31111111111109,
          116.06666666666665,
          118.8222222222222,
          121.57777777777775,
          124.33333333333331,
          127.08888888888886,
          129.84444444444443,
          132.6,
          135.35555555555553,
          138.1111111111111,
          140.86666666666665,
          143.6222222222222,
          146.37777777777774,
          149.1333333333333,
          151.88888888888886,
          154.64444444444442,
          157.39999999999998,
          160.15555555555554,
          162.91111111111107,
          165.66666666666663,
          168.4222222222222,
          171.17777777777775,
          173.9333333333333,
          176.68888888888887,
          179.4444444444444,
          182.19999999999996,
          184.95555555555552,
          187.71111111111108,
          190.46666666666664,
          193.22222222222217,
          195.97777777777773,
          198.7333333333333,
          201.48888888888885,
          204.2444444444444,
          206.99999999999997,
          209.7555555555555,
          212.51111111111106,
          215.26666666666662,
          218.02222222222218,
          220.77777777777774,
          223.5333333333333,
          226.28888888888883,
          229.0444444444444,
          231.79999999999995,
          234.55555555555551,
          237.31111111111107,
          240.06666666666663,
          242.82222222222217,
          245.57777777777773,
          248.3333333333333,
          251.08888888888885,
          253.8444444444444,
          256.59999999999997,
          259.3555555555555,
          262.1111111111111,
          264.8666666666667,
          267.6222222222222,
          270.37777777777774,
          273.1333333333333,
          275.88888888888886,
          278.64444444444445,
          281.4
         ],
         "y": [
          3.547502204944336,
          3.768722109560213,
          3.9880392806026554,
          4.205453718071664,
          4.420965421967238,
          4.634574392289378,
          4.846280629038084,
          5.056084132213356,
          5.263984901815194,
          5.4699829378435965,
          5.6740782402985666,
          5.876270809180101,
          6.076560644488202,
          6.2749477462228676,
          6.4714321143841005,
          6.666013748971899,
          6.8586926499862635,
          7.049468817427193,
          7.2383422512946884,
          7.42531295158875,
          7.610380918309377,
          7.793546151456569,
          7.9748086510303295,
          8.154168417030654,
          8.331625449457544,
          8.507179748311,
          8.680831313591021,
          8.85258014529761,
          9.022426243430765,
          9.190369607990483,
          9.356410238976768,
          9.52054813638962,
          9.682783300229037,
          9.84311573049502,
          10.001545427187569,
          10.158072390306682,
          10.312696619852364,
          10.465418115824608,
          10.616236878223422,
          10.7651529070488,
          10.912166202300742,
          11.057276763979251,
          11.200484592084326,
          11.341789686615966,
          11.481192047574174,
          11.618691674958948,
          11.754288568770285,
          11.88798272900819,
          12.019774155672659,
          12.149662848763695,
          12.277648808281295,
          12.403732034225463,
          12.527912526596197,
          12.650190285393496,
          12.77056531061736,
          12.889037602267791,
          13.005607160344788,
          13.12027398484835,
          13.233038075778477,
          13.34389943313517,
          13.452858056918432,
          13.559913947128257,
          13.665067103764647,
          13.768317526827605,
          13.869665216317127,
          13.969110172233217,
          14.06665239457587,
          14.162291883345091,
          14.256028638540878,
          14.34786266016323,
          14.437793948212148,
          14.52582250268763,
          14.611948323589681,
          14.696171410918293,
          14.778491764673474,
          14.858909384855222,
          14.937424271463534,
          15.014036424498412,
          15.088745843959858,
          15.161552529847869,
          15.232456482162444,
          15.301457700903587,
          15.368556186071293,
          15.433751937665567,
          15.497044955686405,
          15.558435240133809,
          15.617922791007778,
          15.675507608308315,
          15.73118969203542,
          15.784969042189086,
          15.83684565876932,
          15.886819541776124,
          15.934890691209485,
          15.981059107069418,
          16.025324789355913,
          16.06768773806898,
          16.108147953208608,
          16.146705434774802,
          16.18336018276756,
          16.21811219718689
         ]
        }
       ],
       "layout": {
        "annotations": [
         {
          "font": {
           "color": "black",
           "size": 12
          },
          "showarrow": false,
          "text": "Correlação R²: 0.98",
          "x": 36.15555555555555,
          "y": 20
         }
        ],
        "autosize": true,
        "paper_bgcolor": "lightpink",
        "plot_bgcolor": "lightblue",
        "template": {
         "data": {
          "bar": [
           {
            "error_x": {
             "color": "#2a3f5f"
            },
            "error_y": {
             "color": "#2a3f5f"
            },
            "marker": {
             "line": {
              "color": "#E5ECF6",
              "width": 0.5
             },
             "pattern": {
              "fillmode": "overlay",
              "size": 10,
              "solidity": 0.2
             }
            },
            "type": "bar"
           }
          ],
          "barpolar": [
           {
            "marker": {
             "line": {
              "color": "#E5ECF6",
              "width": 0.5
             },
             "pattern": {
              "fillmode": "overlay",
              "size": 10,
              "solidity": 0.2
             }
            },
            "type": "barpolar"
           }
          ],
          "carpet": [
           {
            "aaxis": {
             "endlinecolor": "#2a3f5f",
             "gridcolor": "white",
             "linecolor": "white",
             "minorgridcolor": "white",
             "startlinecolor": "#2a3f5f"
            },
            "baxis": {
             "endlinecolor": "#2a3f5f",
             "gridcolor": "white",
             "linecolor": "white",
             "minorgridcolor": "white",
             "startlinecolor": "#2a3f5f"
            },
            "type": "carpet"
           }
          ],
          "choropleth": [
           {
            "colorbar": {
             "outlinewidth": 0,
             "ticks": ""
            },
            "type": "choropleth"
           }
          ],
          "contour": [
           {
            "colorbar": {
             "outlinewidth": 0,
             "ticks": ""
            },
            "colorscale": [
             [
              0,
              "#0d0887"
             ],
             [
              0.1111111111111111,
              "#46039f"
             ],
             [
              0.2222222222222222,
              "#7201a8"
             ],
             [
              0.3333333333333333,
              "#9c179e"
             ],
             [
              0.4444444444444444,
              "#bd3786"
             ],
             [
              0.5555555555555556,
              "#d8576b"
             ],
             [
              0.6666666666666666,
              "#ed7953"
             ],
             [
              0.7777777777777778,
              "#fb9f3a"
             ],
             [
              0.8888888888888888,
              "#fdca26"
             ],
             [
              1,
              "#f0f921"
             ]
            ],
            "type": "contour"
           }
          ],
          "contourcarpet": [
           {
            "colorbar": {
             "outlinewidth": 0,
             "ticks": ""
            },
            "type": "contourcarpet"
           }
          ],
          "heatmap": [
           {
            "colorbar": {
             "outlinewidth": 0,
             "ticks": ""
            },
            "colorscale": [
             [
              0,
              "#0d0887"
             ],
             [
              0.1111111111111111,
              "#46039f"
             ],
             [
              0.2222222222222222,
              "#7201a8"
             ],
             [
              0.3333333333333333,
              "#9c179e"
             ],
             [
              0.4444444444444444,
              "#bd3786"
             ],
             [
              0.5555555555555556,
              "#d8576b"
             ],
             [
              0.6666666666666666,
              "#ed7953"
             ],
             [
              0.7777777777777778,
              "#fb9f3a"
             ],
             [
              0.8888888888888888,
              "#fdca26"
             ],
             [
              1,
              "#f0f921"
             ]
            ],
            "type": "heatmap"
           }
          ],
          "heatmapgl": [
           {
            "colorbar": {
             "outlinewidth": 0,
             "ticks": ""
            },
            "colorscale": [
             [
              0,
              "#0d0887"
             ],
             [
              0.1111111111111111,
              "#46039f"
             ],
             [
              0.2222222222222222,
              "#7201a8"
             ],
             [
              0.3333333333333333,
              "#9c179e"
             ],
             [
              0.4444444444444444,
              "#bd3786"
             ],
             [
              0.5555555555555556,
              "#d8576b"
             ],
             [
              0.6666666666666666,
              "#ed7953"
             ],
             [
              0.7777777777777778,
              "#fb9f3a"
             ],
             [
              0.8888888888888888,
              "#fdca26"
             ],
             [
              1,
              "#f0f921"
             ]
            ],
            "type": "heatmapgl"
           }
          ],
          "histogram": [
           {
            "marker": {
             "pattern": {
              "fillmode": "overlay",
              "size": 10,
              "solidity": 0.2
             }
            },
            "type": "histogram"
           }
          ],
          "histogram2d": [
           {
            "colorbar": {
             "outlinewidth": 0,
             "ticks": ""
            },
            "colorscale": [
             [
              0,
              "#0d0887"
             ],
             [
              0.1111111111111111,
              "#46039f"
             ],
             [
              0.2222222222222222,
              "#7201a8"
             ],
             [
              0.3333333333333333,
              "#9c179e"
             ],
             [
              0.4444444444444444,
              "#bd3786"
             ],
             [
              0.5555555555555556,
              "#d8576b"
             ],
             [
              0.6666666666666666,
              "#ed7953"
             ],
             [
              0.7777777777777778,
              "#fb9f3a"
             ],
             [
              0.8888888888888888,
              "#fdca26"
             ],
             [
              1,
              "#f0f921"
             ]
            ],
            "type": "histogram2d"
           }
          ],
          "histogram2dcontour": [
           {
            "colorbar": {
             "outlinewidth": 0,
             "ticks": ""
            },
            "colorscale": [
             [
              0,
              "#0d0887"
             ],
             [
              0.1111111111111111,
              "#46039f"
             ],
             [
              0.2222222222222222,
              "#7201a8"
             ],
             [
              0.3333333333333333,
              "#9c179e"
             ],
             [
              0.4444444444444444,
              "#bd3786"
             ],
             [
              0.5555555555555556,
              "#d8576b"
             ],
             [
              0.6666666666666666,
              "#ed7953"
             ],
             [
              0.7777777777777778,
              "#fb9f3a"
             ],
             [
              0.8888888888888888,
              "#fdca26"
             ],
             [
              1,
              "#f0f921"
             ]
            ],
            "type": "histogram2dcontour"
           }
          ],
          "mesh3d": [
           {
            "colorbar": {
             "outlinewidth": 0,
             "ticks": ""
            },
            "type": "mesh3d"
           }
          ],
          "parcoords": [
           {
            "line": {
             "colorbar": {
              "outlinewidth": 0,
              "ticks": ""
             }
            },
            "type": "parcoords"
           }
          ],
          "pie": [
           {
            "automargin": true,
            "type": "pie"
           }
          ],
          "scatter": [
           {
            "fillpattern": {
             "fillmode": "overlay",
             "size": 10,
             "solidity": 0.2
            },
            "type": "scatter"
           }
          ],
          "scatter3d": [
           {
            "line": {
             "colorbar": {
              "outlinewidth": 0,
              "ticks": ""
             }
            },
            "marker": {
             "colorbar": {
              "outlinewidth": 0,
              "ticks": ""
             }
            },
            "type": "scatter3d"
           }
          ],
          "scattercarpet": [
           {
            "marker": {
             "colorbar": {
              "outlinewidth": 0,
              "ticks": ""
             }
            },
            "type": "scattercarpet"
           }
          ],
          "scattergeo": [
           {
            "marker": {
             "colorbar": {
              "outlinewidth": 0,
              "ticks": ""
             }
            },
            "type": "scattergeo"
           }
          ],
          "scattergl": [
           {
            "marker": {
             "colorbar": {
              "outlinewidth": 0,
              "ticks": ""
             }
            },
            "type": "scattergl"
           }
          ],
          "scattermapbox": [
           {
            "marker": {
             "colorbar": {
              "outlinewidth": 0,
              "ticks": ""
             }
            },
            "type": "scattermapbox"
           }
          ],
          "scatterpolar": [
           {
            "marker": {
             "colorbar": {
              "outlinewidth": 0,
              "ticks": ""
             }
            },
            "type": "scatterpolar"
           }
          ],
          "scatterpolargl": [
           {
            "marker": {
             "colorbar": {
              "outlinewidth": 0,
              "ticks": ""
             }
            },
            "type": "scatterpolargl"
           }
          ],
          "scatterternary": [
           {
            "marker": {
             "colorbar": {
              "outlinewidth": 0,
              "ticks": ""
             }
            },
            "type": "scatterternary"
           }
          ],
          "surface": [
           {
            "colorbar": {
             "outlinewidth": 0,
             "ticks": ""
            },
            "colorscale": [
             [
              0,
              "#0d0887"
             ],
             [
              0.1111111111111111,
              "#46039f"
             ],
             [
              0.2222222222222222,
              "#7201a8"
             ],
             [
              0.3333333333333333,
              "#9c179e"
             ],
             [
              0.4444444444444444,
              "#bd3786"
             ],
             [
              0.5555555555555556,
              "#d8576b"
             ],
             [
              0.6666666666666666,
              "#ed7953"
             ],
             [
              0.7777777777777778,
              "#fb9f3a"
             ],
             [
              0.8888888888888888,
              "#fdca26"
             ],
             [
              1,
              "#f0f921"
             ]
            ],
            "type": "surface"
           }
          ],
          "table": [
           {
            "cells": {
             "fill": {
              "color": "#EBF0F8"
             },
             "line": {
              "color": "white"
             }
            },
            "header": {
             "fill": {
              "color": "#C8D4E3"
             },
             "line": {
              "color": "white"
             }
            },
            "type": "table"
           }
          ]
         },
         "layout": {
          "annotationdefaults": {
           "arrowcolor": "#2a3f5f",
           "arrowhead": 0,
           "arrowwidth": 1
          },
          "autotypenumbers": "strict",
          "coloraxis": {
           "colorbar": {
            "outlinewidth": 0,
            "ticks": ""
           }
          },
          "colorscale": {
           "diverging": [
            [
             0,
             "#8e0152"
            ],
            [
             0.1,
             "#c51b7d"
            ],
            [
             0.2,
             "#de77ae"
            ],
            [
             0.3,
             "#f1b6da"
            ],
            [
             0.4,
             "#fde0ef"
            ],
            [
             0.5,
             "#f7f7f7"
            ],
            [
             0.6,
             "#e6f5d0"
            ],
            [
             0.7,
             "#b8e186"
            ],
            [
             0.8,
             "#7fbc41"
            ],
            [
             0.9,
             "#4d9221"
            ],
            [
             1,
             "#276419"
            ]
           ],
           "sequential": [
            [
             0,
             "#0d0887"
            ],
            [
             0.1111111111111111,
             "#46039f"
            ],
            [
             0.2222222222222222,
             "#7201a8"
            ],
            [
             0.3333333333333333,
             "#9c179e"
            ],
            [
             0.4444444444444444,
             "#bd3786"
            ],
            [
             0.5555555555555556,
             "#d8576b"
            ],
            [
             0.6666666666666666,
             "#ed7953"
            ],
            [
             0.7777777777777778,
             "#fb9f3a"
            ],
            [
             0.8888888888888888,
             "#fdca26"
            ],
            [
             1,
             "#f0f921"
            ]
           ],
           "sequentialminus": [
            [
             0,
             "#0d0887"
            ],
            [
             0.1111111111111111,
             "#46039f"
            ],
            [
             0.2222222222222222,
             "#7201a8"
            ],
            [
             0.3333333333333333,
             "#9c179e"
            ],
            [
             0.4444444444444444,
             "#bd3786"
            ],
            [
             0.5555555555555556,
             "#d8576b"
            ],
            [
             0.6666666666666666,
             "#ed7953"
            ],
            [
             0.7777777777777778,
             "#fb9f3a"
            ],
            [
             0.8888888888888888,
             "#fdca26"
            ],
            [
             1,
             "#f0f921"
            ]
           ]
          },
          "colorway": [
           "#636efa",
           "#EF553B",
           "#00cc96",
           "#ab63fa",
           "#FFA15A",
           "#19d3f3",
           "#FF6692",
           "#B6E880",
           "#FF97FF",
           "#FECB52"
          ],
          "font": {
           "color": "#2a3f5f"
          },
          "geo": {
           "bgcolor": "white",
           "lakecolor": "white",
           "landcolor": "#E5ECF6",
           "showlakes": true,
           "showland": true,
           "subunitcolor": "white"
          },
          "hoverlabel": {
           "align": "left"
          },
          "hovermode": "closest",
          "mapbox": {
           "style": "light"
          },
          "paper_bgcolor": "white",
          "plot_bgcolor": "#E5ECF6",
          "polar": {
           "angularaxis": {
            "gridcolor": "white",
            "linecolor": "white",
            "ticks": ""
           },
           "bgcolor": "#E5ECF6",
           "radialaxis": {
            "gridcolor": "white",
            "linecolor": "white",
            "ticks": ""
           }
          },
          "scene": {
           "xaxis": {
            "backgroundcolor": "#E5ECF6",
            "gridcolor": "white",
            "gridwidth": 2,
            "linecolor": "white",
            "showbackground": true,
            "ticks": "",
            "zerolinecolor": "white"
           },
           "yaxis": {
            "backgroundcolor": "#E5ECF6",
            "gridcolor": "white",
            "gridwidth": 2,
            "linecolor": "white",
            "showbackground": true,
            "ticks": "",
            "zerolinecolor": "white"
           },
           "zaxis": {
            "backgroundcolor": "#E5ECF6",
            "gridcolor": "white",
            "gridwidth": 2,
            "linecolor": "white",
            "showbackground": true,
            "ticks": "",
            "zerolinecolor": "white"
           }
          },
          "shapedefaults": {
           "line": {
            "color": "#2a3f5f"
           }
          },
          "ternary": {
           "aaxis": {
            "gridcolor": "white",
            "linecolor": "white",
            "ticks": ""
           },
           "baxis": {
            "gridcolor": "white",
            "linecolor": "white",
            "ticks": ""
           },
           "bgcolor": "#E5ECF6",
           "caxis": {
            "gridcolor": "white",
            "linecolor": "white",
            "ticks": ""
           }
          },
          "title": {
           "x": 0.05
          },
          "xaxis": {
           "automargin": true,
           "gridcolor": "white",
           "linecolor": "white",
           "ticks": "",
           "title": {
            "standoff": 15
           },
           "zerolinecolor": "white",
           "zerolinewidth": 2
          },
          "yaxis": {
           "automargin": true,
           "gridcolor": "white",
           "linecolor": "white",
           "ticks": "",
           "title": {
            "standoff": 15
           },
           "zerolinecolor": "white",
           "zerolinewidth": 2
          }
         }
        },
        "title": {
         "text": "Relação entre FB e FB_Transf com Regressão Polinomial"
        },
        "xaxis": {
         "autorange": true,
         "range": [
          -8.276995305164318,
          298.2769953051643
         ],
         "title": {
          "text": "Publicidade na FB (custo)"
         },
         "type": "linear"
        },
        "yaxis": {
         "range": [
          0,
          22
         ],
         "title": {
          "text": "Publicidade na FB_Transf (custo)"
         },
         "type": "linear"
        }
       }
      },
      "image/png": "[encoded data removed]",
      "text/html": [
       "<div>                            <div id=\"a1265b95-68df-4e7e-8119-bfb650cc5c62\" class=\"plotly-graph-div\" style=\"height:525px; width:100%;\"></div>            <script type=\"text/javascript\">                require([\"plotly\"], function(Plotly) {                    window.PLOTLYENV=window.PLOTLYENV || {};                                    if (document.getElementById(\"a1265b95-68df-4e7e-8119-bfb650cc5c62\")) {                    Plotly.newPlot(                        \"a1265b95-68df-4e7e-8119-bfb650cc5c62\",                        [{\"marker\":{\"color\":\"blue\"},\"mode\":\"markers\",\"name\":\"Dados Reais\",\"x\":[230.1,44.5,17.2,151.5,180.8,8.7,57.5,120.2,8.6,199.8,66.1,214.7,23.8,97.5,204.1,195.4,67.8,281.4,69.2,147.3,218.4,237.4,13.2,228.3,62.3,262.9,142.9,240.1,248.8,70.6],\"y\":[15.16904743218901,6.670832032063167,4.147288270665544,12.30853362509117,13.446189051177289,2.949576240750525,7.582875444051551,10.963576058932597,2.932575659723036,14.135062787267696,8.130190649671137,14.652644812456213,4.878524367060187,9.874208829065749,14.286357128393508,13.978555004005242,8.23407554009556,16.774981371077583,8.318653737234168,12.136721138759018,14.778362561528933,15.407790237409127,3.63318042491699,15.109599597606815,7.893034904268446,16.214191315017842,11.954078801814886,15.49516053482506,15.773395322504284,8.402380615040002],\"type\":\"scatter\"},{\"line\":{\"color\":\"red\"},\"mode\":\"lines\",\"name\":\"Linha de Tend\\u00eancia (S\\u00e9rie de Pot\\u00eancia)\",\"x\":[8.6,11.355555555555554,14.11111111111111,16.866666666666667,19.62222222222222,22.377777777777773,25.133333333333333,27.888888888888886,30.64444444444444,33.4,36.15555555555555,38.911111111111104,41.666666666666664,44.42222222222222,47.17777777777777,49.93333333333333,52.68888888888888,55.444444444444436,58.199999999999996,60.95555555555555,63.7111111111111,66.46666666666665,69.22222222222221,71.97777777777776,74.73333333333332,77.48888888888887,80.24444444444443,82.99999999999999,85.75555555555553,88.51111111111109,91.26666666666665,94.0222222222222,96.77777777777776,99.53333333333332,102.28888888888886,105.04444444444442,107.79999999999998,110.55555555555553,113.31111111111109,116.06666666666665,118.8222222222222,121.57777777777775,124.33333333333331,127.08888888888886,129.84444444444443,132.6,135.35555555555553,138.1111111111111,140.86666666666665,143.6222222222222,146.37777777777774,149.1333333333333,151.88888888888886,154.64444444444442,157.39999999999998,160.15555555555554,162.91111111111107,165.66666666666663,168.4222222222222,171.17777777777775,173.9333333333333,176.68888888888887,179.4444444444444,182.19999999999996,184.95555555555552,187.71111111111108,190.46666666666664,193.22222222222217,195.97777777777773,198.7333333333333,201.48888888888885,204.2444444444444,206.99999999999997,209.7555555555555,212.51111111111106,215.26666666666662,218.02222222222218,220.77777777777774,223.5333333333333,226.28888888888883,229.0444444444444,231.79999999999995,234.55555555555551,237.31111111111107,240.06666666666663,242.82222222222217,245.57777777777773,248.3333333333333,251.08888888888885,253.8444444444444,256.59999999999997,259.3555555555555,262.1111111111111,264.8666666666667,267.6222222222222,270.37777777777774,273.1333333333333,275.88888888888886,278.64444444444445,281.4],\"y\":[3.547502204944336,3.768722109560213,3.9880392806026554,4.205453718071664,4.420965421967238,4.634574392289378,4.846280629038084,5.056084132213356,5.263984901815194,5.4699829378435965,5.6740782402985666,5.876270809180101,6.076560644488202,6.2749477462228676,6.4714321143841005,6.666013748971899,6.8586926499862635,7.049468817427193,7.2383422512946884,7.42531295158875,7.610380918309377,7.793546151456569,7.9748086510303295,8.154168417030654,8.331625449457544,8.507179748311,8.680831313591021,8.85258014529761,9.022426243430765,9.190369607990483,9.356410238976768,9.52054813638962,9.682783300229037,9.84311573049502,10.001545427187569,10.158072390306682,10.312696619852364,10.465418115824608,10.616236878223422,10.7651529070488,10.912166202300742,11.057276763979251,11.200484592084326,11.341789686615966,11.481192047574174,11.618691674958948,11.754288568770285,11.88798272900819,12.019774155672659,12.149662848763695,12.277648808281295,12.403732034225463,12.527912526596197,12.650190285393496,12.77056531061736,12.889037602267791,13.005607160344788,13.12027398484835,13.233038075778477,13.34389943313517,13.452858056918432,13.559913947128257,13.665067103764647,13.768317526827605,13.869665216317127,13.969110172233217,14.06665239457587,14.162291883345091,14.256028638540878,14.34786266016323,14.437793948212148,14.52582250268763,14.611948323589681,14.696171410918293,14.778491764673474,14.858909384855222,14.937424271463534,15.014036424498412,15.088745843959858,15.161552529847869,15.232456482162444,15.301457700903587,15.368556186071293,15.433751937665567,15.497044955686405,15.558435240133809,15.617922791007778,15.675507608308315,15.73118969203542,15.784969042189086,15.83684565876932,15.886819541776124,15.934890691209485,15.981059107069418,16.025324789355913,16.06768773806898,16.108147953208608,16.146705434774802,16.18336018276756,16.21811219718689],\"type\":\"scatter\"}],                        {\"template\":{\"data\":{\"histogram2dcontour\":[{\"type\":\"histogram2dcontour\",\"colorbar\":{\"outlinewidth\":0,\"ticks\":\"\"},\"colorscale\":[[0.0,\"#0d0887\"],[0.1111111111111111,\"#46039f\"],[0.2222222222222222,\"#7201a8\"],[0.3333333333333333,\"#9c179e\"],[0.4444444444444444,\"#bd3786\"],[0.5555555555555556,\"#d8576b\"],[0.6666666666666666,\"#ed7953\"],[0.7777777777777778,\"#fb9f3a\"],[0.8888888888888888,\"#fdca26\"],[1.0,\"#f0f921\"]]}],\"choropleth\":[{\"type\":\"choropleth\",\"colorbar\":{\"outlinewidth\":0,\"ticks\":\"\"}}],\"histogram2d\":[{\"type\":\"histogram2d\",\"colorbar\":{\"outlinewidth\":0,\"ticks\":\"\"},\"colorscale\":[[0.0,\"#0d0887\"],[0.1111111111111111,\"#46039f\"],[0.2222222222222222,\"#7201a8\"],[0.3333333333333333,\"#9c179e\"],[0.4444444444444444,\"#bd3786\"],[0.5555555555555556,\"#d8576b\"],[0.6666666666666666,\"#ed7953\"],[0.7777777777777778,\"#fb9f3a\"],[0.8888888888888888,\"#fdca26\"],[1.0,\"#f0f921\"]]}],\"heatmap\":[{\"type\":\"heatmap\",\"colorbar\":{\"outlinewidth\":0,\"ticks\":\"\"},\"colorscale\":[[0.0,\"#0d0887\"],[0.1111111111111111,\"#46039f\"],[0.2222222222222222,\"#7201a8\"],[0.3333333333333333,\"#9c179e\"],[0.4444444444444444,\"#bd3786\"],[0.5555555555555556,\"#d8576b\"],[0.6666666666666666,\"#ed7953\"],[0.7777777777777778,\"#fb9f3a\"],[0.8888888888888888,\"#fdca26\"],[1.0,\"#f0f921\"]]}],\"heatmapgl\":[{\"type\":\"heatmapgl\",\"colorbar\":{\"outlinewidth\":0,\"ticks\":\"\"},\"colorscale\":[[0.0,\"#0d0887\"],[0.1111111111111111,\"#46039f\"],[0.2222222222222222,\"#7201a8\"],[0.3333333333333333,\"#9c179e\"],[0.4444444444444444,\"#bd3786\"],[0.5555555555555556,\"#d8576b\"],[0.6666666666666666,\"#ed7953\"],[0.7777777777777778,\"#fb9f3a\"],[0.8888888888888888,\"#fdca26\"],[1.0,\"#f0f921\"]]}],\"contourcarpet\":[{\"type\":\"contourcarpet\",\"colorbar\":{\"outlinewidth\":0,\"ticks\":\"\"}}],\"contour\":[{\"type\":\"contour\",\"colorbar\":{\"outlinewidth\":0,\"ticks\":\"\"},\"colorscale\":[[0.0,\"#0d0887\"],[0.1111111111111111,\"#46039f\"],[0.2222222222222222,\"#7201a8\"],[0.3333333333333333,\"#9c179e\"],[0.4444444444444444,\"#bd3786\"],[0.5555555555555556,\"#d8576b\"],[0.6666666666666666,\"#ed7953\"],[0.7777777777777778,\"#fb9f3a\"],[0.8888888888888888,\"#fdca26\"],[1.0,\"#f0f921\"]]}],\"surface\":[{\"type\":\"surface\",\"colorbar\":{\"outlinewidth\":0,\"ticks\":\"\"},\"colorscale\":[[0.0,\"#0d0887\"],[0.1111111111111111,\"#46039f\"],[0.2222222222222222,\"#7201a8\"],[0.3333333333333333,\"#9c179e\"],[0.4444444444444444,\"#bd3786\"],[0.5555555555555556,\"#d8576b\"],[0.6666666666666666,\"#ed7953\"],[0.7777777777777778,\"#fb9f3a\"],[0.8888888888888888,\"#fdca26\"],[1.0,\"#f0f921\"]]}],\"mesh3d\":[{\"type\":\"mesh3d\",\"colorbar\":{\"outlinewidth\":0,\"ticks\":\"\"}}],\"scatter\":[{\"fillpattern\":{\"fillmode\":\"overlay\",\"size\":10,\"solidity\":0.2},\"type\":\"scatter\"}],\"parcoords\":[{\"type\":\"parcoords\",\"line\":{\"colorbar\":{\"outlinewidth\":0,\"ticks\":\"\"}}}],\"scatterpolargl\":[{\"type\":\"scatterpolargl\",\"marker\":{\"colorbar\":{\"outlinewidth\":0,\"ticks\":\"\"}}}],\"bar\":[{\"error_x\":{\"color\":\"#2a3f5f\"},\"error_y\":{\"color\":\"#2a3f5f\"},\"marker\":{\"line\":{\"color\":\"#E5ECF6\",\"width\":0.5},\"pattern\":{\"fillmode\":\"overlay\",\"size\":10,\"solidity\":0.2}},\"type\":\"bar\"}],\"scattergeo\":[{\"type\":\"scattergeo\",\"marker\":{\"colorbar\":{\"outlinewidth\":0,\"ticks\":\"\"}}}],\"scatterpolar\":[{\"type\":\"scatterpolar\",\"marker\":{\"colorbar\":{\"outlinewidth\":0,\"ticks\":\"\"}}}],\"histogram\":[{\"marker\":{\"pattern\":{\"fillmode\":\"overlay\",\"size\":10,\"solidity\":0.2}},\"type\":\"histogram\"}],\"scattergl\":[{\"type\":\"scattergl\",\"marker\":{\"colorbar\":{\"outlinewidth\":0,\"ticks\":\"\"}}}],\"scatter3d\":[{\"type\":\"scatter3d\",\"line\":{\"colorbar\":{\"outlinewidth\":0,\"ticks\":\"\"}},\"marker\":{\"colorbar\":{\"outlinewidth\":0,\"ticks\":\"\"}}}],\"scattermapbox\":[{\"type\":\"scattermapbox\",\"marker\":{\"colorbar\":{\"outlinewidth\":0,\"ticks\":\"\"}}}],\"scatterternary\":[{\"type\":\"scatterternary\",\"marker\":{\"colorbar\":{\"outlinewidth\":0,\"ticks\":\"\"}}}],\"scattercarpet\":[{\"type\":\"scattercarpet\",\"marker\":{\"colorbar\":{\"outlinewidth\":0,\"ticks\":\"\"}}}],\"carpet\":[{\"aaxis\":{\"endlinecolor\":\"#2a3f5f\",\"gridcolor\":\"white\",\"linecolor\":\"white\",\"minorgridcolor\":\"white\",\"startlinecolor\":\"#2a3f5f\"},\"baxis\":{\"endlinecolor\":\"#2a3f5f\",\"gridcolor\":\"white\",\"linecolor\":\"white\",\"minorgridcolor\":\"white\",\"startlinecolor\":\"#2a3f5f\"},\"type\":\"carpet\"}],\"table\":[{\"cells\":{\"fill\":{\"color\":\"#EBF0F8\"},\"line\":{\"color\":\"white\"}},\"header\":{\"fill\":{\"color\":\"#C8D4E3\"},\"line\":{\"color\":\"white\"}},\"type\":\"table\"}],\"barpolar\":[{\"marker\":{\"line\":{\"color\":\"#E5ECF6\",\"width\":0.5},\"pattern\":{\"fillmode\":\"overlay\",\"size\":10,\"solidity\":0.2}},\"type\":\"barpolar\"}],\"pie\":[{\"automargin\":true,\"type\":\"pie\"}]},\"layout\":{\"autotypenumbers\":\"strict\",\"colorway\":[\"#636efa\",\"#EF553B\",\"#00cc96\",\"#ab63fa\",\"#FFA15A\",\"#19d3f3\",\"#FF6692\",\"#B6E880\",\"#FF97FF\",\"#FECB52\"],\"font\":{\"color\":\"#2a3f5f\"},\"hovermode\":\"closest\",\"hoverlabel\":{\"align\":\"left\"},\"paper_bgcolor\":\"white\",\"plot_bgcolor\":\"#E5ECF6\",\"polar\":{\"bgcolor\":\"#E5ECF6\",\"angularaxis\":{\"gridcolor\":\"white\",\"linecolor\":\"white\",\"ticks\":\"\"},\"radialaxis\":{\"gridcolor\":\"white\",\"linecolor\":\"white\",\"ticks\":\"\"}},\"ternary\":{\"bgcolor\":\"#E5ECF6\",\"aaxis\":{\"gridcolor\":\"white\",\"linecolor\":\"white\",\"ticks\":\"\"},\"baxis\":{\"gridcolor\":\"white\",\"linecolor\":\"white\",\"ticks\":\"\"},\"caxis\":{\"gridcolor\":\"white\",\"linecolor\":\"white\",\"ticks\":\"\"}},\"coloraxis\":{\"colorbar\":{\"outlinewidth\":0,\"ticks\":\"\"}},\"colorscale\":{\"sequential\":[[0.0,\"#0d0887\"],[0.1111111111111111,\"#46039f\"],[0.2222222222222222,\"#7201a8\"],[0.3333333333333333,\"#9c179e\"],[0.4444444444444444,\"#bd3786\"],[0.5555555555555556,\"#d8576b\"],[0.6666666666666666,\"#ed7953\"],[0.7777777777777778,\"#fb9f3a\"],[0.8888888888888888,\"#fdca26\"],[1.0,\"#f0f921\"]],\"sequentialminus\":[[0.0,\"#0d0887\"],[0.1111111111111111,\"#46039f\"],[0.2222222222222222,\"#7201a8\"],[0.3333333333333333,\"#9c179e\"],[0.4444444444444444,\"#bd3786\"],[0.5555555555555556,\"#d8576b\"],[0.6666666666666666,\"#ed7953\"],[0.7777777777777778,\"#fb9f3a\"],[0.8888888888888888,\"#fdca26\"],[1.0,\"#f0f921\"]],\"diverging\":[[0,\"#8e0152\"],[0.1,\"#c51b7d\"],[0.2,\"#de77ae\"],[0.3,\"#f1b6da\"],[0.4,\"#fde0ef\"],[0.5,\"#f7f7f7\"],[0.6,\"#e6f5d0\"],[0.7,\"#b8e186\"],[0.8,\"#7fbc41\"],[0.9,\"#4d9221\"],[1,\"#276419\"]]},\"xaxis\":{\"gridcolor\":\"white\",\"linecolor\":\"white\",\"ticks\":\"\",\"title\":{\"standoff\":15},\"zerolinecolor\":\"white\",\"automargin\":true,\"zerolinewidth\":2},\"yaxis\":{\"gridcolor\":\"white\",\"linecolor\":\"white\",\"ticks\":\"\",\"title\":{\"standoff\":15},\"zerolinecolor\":\"white\",\"automargin\":true,\"zerolinewidth\":2},\"scene\":{\"xaxis\":{\"backgroundcolor\":\"#E5ECF6\",\"gridcolor\":\"white\",\"linecolor\":\"white\",\"showbackground\":true,\"ticks\":\"\",\"zerolinecolor\":\"white\",\"gridwidth\":2},\"yaxis\":{\"backgroundcolor\":\"#E5ECF6\",\"gridcolor\":\"white\",\"linecolor\":\"white\",\"showbackground\":true,\"ticks\":\"\",\"zerolinecolor\":\"white\",\"gridwidth\":2},\"zaxis\":{\"backgroundcolor\":\"#E5ECF6\",\"gridcolor\":\"white\",\"linecolor\":\"white\",\"showbackground\":true,\"ticks\":\"\",\"zerolinecolor\":\"white\",\"gridwidth\":2}},\"shapedefaults\":{\"line\":{\"color\":\"#2a3f5f\"}},\"annotationdefaults\":{\"arrowcolor\":\"#2a3f5f\",\"arrowhead\":0,\"arrowwidth\":1},\"geo\":{\"bgcolor\":\"white\",\"landcolor\":\"#E5ECF6\",\"subunitcolor\":\"white\",\"showland\":true,\"showlakes\":true,\"lakecolor\":\"white\"},\"title\":{\"x\":0.05},\"mapbox\":{\"style\":\"light\"}}},\"yaxis\":{\"title\":{\"text\":\"Publicidade na FB_Transf (custo)\"},\"range\":[0,22]},\"title\":{\"text\":\"Rela\\u00e7\\u00e3o entre FB e FB_Transf com Regress\\u00e3o Polinomial\"},\"xaxis\":{\"title\":{\"text\":\"Publicidade na FB (custo)\"}},\"plot_bgcolor\":\"lightblue\",\"paper_bgcolor\":\"lightpink\",\"annotations\":[{\"font\":{\"color\":\"black\",\"size\":12},\"showarrow\":false,\"text\":\"Correla\\u00e7\\u00e3o R\\u00b2: 0.98\",\"x\":36.15555555555555,\"y\":20}]},                        {\"responsive\": true}                    ).then(function(){\n",
       "                            \n",
       "var gd = document.getElementById('a1265b95-68df-4e7e-8119-bfb650cc5c62');\n",
       "var x = new MutationObserver(function (mutations, observer) {{\n",
       "        var display = window.getComputedStyle(gd).display;\n",
       "        if (!display || display === 'none') {{\n",
       "            console.log([gd, 'removed!']);\n",
       "            Plotly.purge(gd);\n",
       "            observer.disconnect();\n",
       "        }}\n",
       "}});\n",
       "\n",
       "// Listen for the removal of the full notebook cells\n",
       "var notebookContainer = gd.closest('#notebook-container');\n",
       "if (notebookContainer) {{\n",
       "    x.observe(notebookContainer, {childList: true});\n",
       "}}\n",
       "\n",
       "// Listen for the clearing of the current output cell\n",
       "var outputEl = gd.closest('.output');\n",
       "if (outputEl) {{\n",
       "    x.observe(outputEl, {childList: true});\n",
       "}}\n",
       "\n",
       "                        })                };                });            </script>        </div>"
      ]
     },
     "metadata": {},
     "output_type": "display_data"
    }
   ],
   "source": [
    "# Criar o gráfico com Plotly\n",
    "fig = go.Figure()\n",
    "\n",
    "# Adicionar os dados reais como scatter plot\n",
    "fig.add_trace(go.Scatter(x=X.flatten(), y=y, mode='markers', name='Dados Reais', marker=dict(color='blue')))\n",
    "\n",
    "# Adicionar a linha de tendência polinomial\n",
    "fig.add_trace(go.Scatter(x=X_fit.flatten(), y=y_fit, mode='lines', name='Linha de Tendência (Série de Potência)', line=dict(color='red')))\n",
    "\n",
    "# Adicionar título e rótulos dos eixos e definir cor de fundo\n",
    "fig.update_layout(\n",
    "    title='Relação entre FB e FB_Transf com Regressão Polinomial',\n",
    "    xaxis_title='Publicidade na FB (custo)',\n",
    "    yaxis_title='Publicidade na FB_Transf (custo)',\n",
    "    yaxis=dict(range=[0, 22]),  # Limitar o eixo y até 22\n",
    "    plot_bgcolor='lightblue',  # Cor de fundo azul claro\n",
    "    paper_bgcolor ='lightpink',\n",
    ")\n",
    "\n",
    "#paper_bgcolor (cor de fundo do espaço ao redor do gráfico) e plot_bgcolor (cor de fundo dentro do gráfico) \n",
    "\n",
    "# Adicionar texto de correlação R² no gráfico\n",
    "fig.add_annotation(\n",
    "    x=X_fit.flatten()[10], y=20,\n",
    "    text=f'Correlação R²: {correlacao_RB_FB_Transf:.2f}',\n",
    "    showarrow=False,\n",
    "    font=dict(size=12, color='black')\n",
    ")\n",
    "\n",
    "# Mostrar o gráfico\n",
    "fig.show()"
   ]
  },
  {
   "cell_type": "code",
   "execution_count": 68,
   "id": "e40bbd99-e4d4-449f-b713-dcf745a6b704",
   "metadata": {},
   "outputs": [
    {
     "name": "stdout",
     "output_type": "stream",
     "text": [
      "Correlação entre  -0.1020561603103021\n"
     ]
    },
    {
     "data": {
      "image/png": "[encoded data removed]",
      "text/plain": [
       "<Figure size 1000x600 with 1 Axes>"
      ]
     },
     "metadata": {},
     "output_type": "display_data"
    }
   ],
   "source": [
    "from sklearn.preprocessing import PolynomialFeatures\n",
    "from sklearn.linear_model import LinearRegression\n",
    "import numpy as np\n",
    "import matplotlib.pyplot as plt\n",
    "\n",
    "# Definir variáveis independentes (X) e dependentes (y)\n",
    "X = calculo_4['TV_Transf'].values.reshape(-1, 1)  # reshape para ser uma matriz 2D\n",
    "y = calculo_4['FB_Transf'].values\n",
    "\n",
    "# Calcula a correlação entre Sales e TV\n",
    "correlacao_TV_Transf_FB_Transf = calculo_4['TV_Transf'].corr(calculo_4['FB_Transf'])\n",
    "print(\"Correlação entre \", correlacao_TV_Transf_FB_Transf)\n",
    "\n",
    "# Criar uma transformação de polinômios de grau 2\n",
    "poly = PolynomialFeatures(degree=2)\n",
    "X_poly = poly.fit_transform(X)\n",
    "\n",
    "# Ajustar o modelo de regressão linear\n",
    "model = LinearRegression()\n",
    "model.fit(X_poly, y)\n",
    "\n",
    "# Criar um intervalo de valores para a linha de ajuste\n",
    "X_fit = np.linspace(X.min(), X.max(), 100).reshape(-1, 1)\n",
    "X_fit_poly = poly.transform(X_fit)\n",
    "y_fit = model.predict(X_fit_poly)\n",
    "\n",
    "# Plotar os dados e a linha de regressão polinomial\n",
    "plt.figure(figsize=(10, 6))\n",
    "plt.scatter(X, y, color='blue', label='Dados Reais')\n",
    "plt.plot(X_fit, y_fit, color='red', label='Linha de Tendência (Série de Potência)')\n",
    "plt.title('Relação entre TV_Transf e FB_Transfcom Regressão Polinomial')\n",
    "plt.xlabel('Publicidade na TV_Transf (custo)')\n",
    "plt.ylabel('Publicidade na FB_Transf (custo)') \n",
    "plt.text(10, 20, f'Correlação R²: {correlacao_TV_Transf_FB_Transf:.2f}', fontsize=12, color='black')\n",
    "\n",
    "plt.ylim(0, 22)  # Limitar o eixo y até 22\n",
    "\n",
    "plt.legend()\n",
    "plt.grid()\n",
    "plt.show()"
   ]
  },
  {
   "cell_type": "code",
   "execution_count": 69,
   "id": "c845e46e-214c-4500-b5b6-b2e0599e43cd",
   "metadata": {},
   "outputs": [
    {
     "name": "stdout",
     "output_type": "stream",
     "text": [
      "Correlação entre  0.9947025565714879\n"
     ]
    },
    {
     "data": {
      "image/png": "[encoded data removed]",
      "text/plain": [
       "<Figure size 1000x600 with 1 Axes>"
      ]
     },
     "metadata": {},
     "output_type": "display_data"
    }
   ],
   "source": [
    "from sklearn.preprocessing import PolynomialFeatures\n",
    "from sklearn.linear_model import LinearRegression\n",
    "import numpy as np\n",
    "import matplotlib.pyplot as plt\n",
    "\n",
    "# Definir variáveis independentes (X) e dependentes (y)\n",
    "X = calculo_4['TV'].values.reshape(-1, 1)  # reshape para ser uma matriz 2D\n",
    "y = calculo_4['TV_Transf'].values\n",
    "\n",
    "# Calcula a correlação entre Sales e TV\n",
    "correlacao_TV = calculo_4['TV'].corr(calculo_4['TV_Transf'])\n",
    "print(\"Correlação entre \", correlacao_TV)\n",
    "\n",
    "# Criar uma transformação de polinômios de grau 2\n",
    "poly = PolynomialFeatures(degree=2)\n",
    "X_poly = poly.fit_transform(X)\n",
    "\n",
    "# Ajustar o modelo de regressão linear\n",
    "model = LinearRegression()\n",
    "model.fit(X_poly, y)\n",
    "\n",
    "# Criar um intervalo de valores para a linha de ajuste\n",
    "X_fit = np.linspace(X.min(), X.max(), 100).reshape(-1, 1)\n",
    "X_fit_poly = poly.transform(X_fit)\n",
    "y_fit = model.predict(X_fit_poly)\n",
    "\n",
    "# Plotar os dados e a linha de regressão polinomial\n",
    "plt.figure(figsize=(10, 6))\n",
    "plt.scatter(X, y, color='blue', label='Dados Reais')\n",
    "plt.plot(X_fit, y_fit, color='red', label='Linha de Tendência (Série de Potência)')\n",
    "plt.title('Relação entre TV e TV_Transf Regressão Polinomial')\n",
    "plt.xlabel('Publicidade na TV (custo)')\n",
    "plt.ylabel('Publicidade na TV_Transf (custo)') \n",
    "plt.text(10, 20, f'Correlação R²: {correlacao_TV:.2f}', fontsize=12, color='black')\n",
    "\n",
    "plt.ylim(0, 22)  # Limitar o eixo y até 22\n",
    "\n",
    "plt.legend()\n",
    "plt.grid()\n",
    "plt.show()"
   ]
  },
  {
   "cell_type": "code",
   "execution_count": 70,
   "id": "f850b7b1-f82a-437a-bcd4-66eaeb73ff0b",
   "metadata": {},
   "outputs": [
    {
     "name": "stdout",
     "output_type": "stream",
     "text": [
      "Correlação entre  0.9393703726795288\n"
     ]
    },
    {
     "data": {
      "image/png": "[encoded data removed]",
      "text/plain": [
       "<Figure size 1000x600 with 1 Axes>"
      ]
     },
     "metadata": {},
     "output_type": "display_data"
    }
   ],
   "source": [
    "from sklearn.preprocessing import PolynomialFeatures\n",
    "from sklearn.linear_model import LinearRegression\n",
    "import numpy as np\n",
    "import matplotlib.pyplot as plt\n",
    "\n",
    "# Definir variáveis independentes (X) e dependentes (y)\n",
    "X = calculo_4['Radio'].values.reshape(-1, 1)  # reshape para ser uma matriz 2D\n",
    "y = calculo_4['Radio_transf'].values\n",
    "\n",
    "# Calcula a correlação entre Sales e TV\n",
    "correlacao_RAdio = calculo_4['Radio'].corr(calculo_4['Radio_transf'])\n",
    "print(\"Correlação entre \", correlacao_RAdio)\n",
    "\n",
    "# Criar uma transformação de polinômios de grau 2\n",
    "poly = PolynomialFeatures(degree=2)\n",
    "X_poly = poly.fit_transform(X)\n",
    "\n",
    "# Ajustar o modelo de regressão linear\n",
    "model = LinearRegression()\n",
    "model.fit(X_poly, y)\n",
    "\n",
    "# Criar um intervalo de valores para a linha de ajuste\n",
    "X_fit = np.linspace(X.min(), X.max(), 100).reshape(-1, 1)\n",
    "X_fit_poly = poly.transform(X_fit)\n",
    "y_fit = model.predict(X_fit_poly)\n",
    "\n",
    "# Plotar os dados e a linha de regressão polinomial\n",
    "plt.figure(figsize=(10, 6))\n",
    "plt.scatter(X, y, color='blue', label='Dados Reais')\n",
    "plt.plot(X_fit, y_fit, color='red', label='Linha de Tendência (Série de Potência)')\n",
    "plt.title('Relação entre Radio e Radio_transf com Regressão Polinomial')\n",
    "plt.xlabel('Publicidade na Radio (custo)')\n",
    "plt.ylabel('Publicidade na Radio_transf (custo)') \n",
    "plt.text(10, 3, f'Correlação R²: {correlacao_RAdio:.2f}', fontsize=12, color='black')\n",
    "\n",
    "#plt.ylim(0, 22)  # Limitar o eixo y até 22\n",
    "\n",
    "plt.legend()\n",
    "plt.grid()\n",
    "plt.show()"
   ]
  },
  {
   "cell_type": "code",
   "execution_count": 71,
   "id": "98529299-b143-4365-9b83-51f10b53b54d",
   "metadata": {},
   "outputs": [
    {
     "data": {
      "text/html": [
       "<div>\n",
       "<style scoped>\n",
       "    .dataframe tbody tr th:only-of-type {\n",
       "        vertical-align: middle;\n",
       "    }\n",
       "\n",
       "    .dataframe tbody tr th {\n",
       "        vertical-align: top;\n",
       "    }\n",
       "\n",
       "    .dataframe thead th {\n",
       "        text-align: right;\n",
       "    }\n",
       "</style>\n",
       "<table border=\"1\" class=\"dataframe\">\n",
       "  <thead>\n",
       "    <tr style=\"text-align: right;\">\n",
       "      <th></th>\n",
       "      <th>Time</th>\n",
       "      <th>sales</th>\n",
       "      <th>FB</th>\n",
       "      <th>TV</th>\n",
       "      <th>Radio</th>\n",
       "      <th>Date</th>\n",
       "      <th>FB_Transf</th>\n",
       "      <th>TV_Transf</th>\n",
       "      <th>Radio_transf</th>\n",
       "    </tr>\n",
       "  </thead>\n",
       "  <tbody>\n",
       "    <tr>\n",
       "      <th>0</th>\n",
       "      <td>Week 1</td>\n",
       "      <td>22.1</td>\n",
       "      <td>230.1</td>\n",
       "      <td>37.8</td>\n",
       "      <td>69.2</td>\n",
       "      <td>2020-01-01</td>\n",
       "      <td>15.169047</td>\n",
       "      <td>12.712889</td>\n",
       "      <td>3.564773</td>\n",
       "    </tr>\n",
       "    <tr>\n",
       "      <th>1</th>\n",
       "      <td>Week 2</td>\n",
       "      <td>10.4</td>\n",
       "      <td>44.5</td>\n",
       "      <td>39.3</td>\n",
       "      <td>45.1</td>\n",
       "      <td>2020-01-02</td>\n",
       "      <td>6.670832</td>\n",
       "      <td>13.063958</td>\n",
       "      <td>3.135111</td>\n",
       "    </tr>\n",
       "    <tr>\n",
       "      <th>2</th>\n",
       "      <td>Week 3</td>\n",
       "      <td>9.3</td>\n",
       "      <td>17.2</td>\n",
       "      <td>45.9</td>\n",
       "      <td>69.3</td>\n",
       "      <td>2020-01-03</td>\n",
       "      <td>4.147288</td>\n",
       "      <td>14.563605</td>\n",
       "      <td>3.566317</td>\n",
       "    </tr>\n",
       "    <tr>\n",
       "      <th>3</th>\n",
       "      <td>Week 4</td>\n",
       "      <td>18.5</td>\n",
       "      <td>151.5</td>\n",
       "      <td>41.3</td>\n",
       "      <td>58.5</td>\n",
       "      <td>2020-01-04</td>\n",
       "      <td>12.308534</td>\n",
       "      <td>13.525865</td>\n",
       "      <td>3.389587</td>\n",
       "    </tr>\n",
       "    <tr>\n",
       "      <th>4</th>\n",
       "      <td>Week 5</td>\n",
       "      <td>12.9</td>\n",
       "      <td>180.8</td>\n",
       "      <td>10.8</td>\n",
       "      <td>58.4</td>\n",
       "      <td>2020-01-05</td>\n",
       "      <td>13.446189</td>\n",
       "      <td>5.289281</td>\n",
       "      <td>3.387848</td>\n",
       "    </tr>\n",
       "    <tr>\n",
       "      <th>5</th>\n",
       "      <td>Week 6</td>\n",
       "      <td>7.2</td>\n",
       "      <td>8.7</td>\n",
       "      <td>48.9</td>\n",
       "      <td>75.0</td>\n",
       "      <td>2020-01-06</td>\n",
       "      <td>2.949576</td>\n",
       "      <td>15.223559</td>\n",
       "      <td>3.651896</td>\n",
       "    </tr>\n",
       "    <tr>\n",
       "      <th>6</th>\n",
       "      <td>Week 7</td>\n",
       "      <td>11.8</td>\n",
       "      <td>57.5</td>\n",
       "      <td>32.8</td>\n",
       "      <td>23.5</td>\n",
       "      <td>2020-01-07</td>\n",
       "      <td>7.582875</td>\n",
       "      <td>11.510964</td>\n",
       "      <td>2.578222</td>\n",
       "    </tr>\n",
       "    <tr>\n",
       "      <th>7</th>\n",
       "      <td>Week 8</td>\n",
       "      <td>13.2</td>\n",
       "      <td>120.2</td>\n",
       "      <td>19.6</td>\n",
       "      <td>11.6</td>\n",
       "      <td>2020-01-08</td>\n",
       "      <td>10.963576</td>\n",
       "      <td>8.027480</td>\n",
       "      <td>2.086111</td>\n",
       "    </tr>\n",
       "    <tr>\n",
       "      <th>8</th>\n",
       "      <td>Week 9</td>\n",
       "      <td>4.8</td>\n",
       "      <td>8.6</td>\n",
       "      <td>2.1</td>\n",
       "      <td>1.0</td>\n",
       "      <td>2020-01-09</td>\n",
       "      <td>2.932576</td>\n",
       "      <td>1.680945</td>\n",
       "      <td>1.000000</td>\n",
       "    </tr>\n",
       "    <tr>\n",
       "      <th>9</th>\n",
       "      <td>Week 10</td>\n",
       "      <td>10.6</td>\n",
       "      <td>199.8</td>\n",
       "      <td>2.6</td>\n",
       "      <td>21.2</td>\n",
       "      <td>2020-01-10</td>\n",
       "      <td>14.135063</td>\n",
       "      <td>1.952007</td>\n",
       "      <td>2.499774</td>\n",
       "    </tr>\n",
       "    <tr>\n",
       "      <th>10</th>\n",
       "      <td>Week 11</td>\n",
       "      <td>8.6</td>\n",
       "      <td>66.1</td>\n",
       "      <td>5.8</td>\n",
       "      <td>24.2</td>\n",
       "      <td>2020-01-11</td>\n",
       "      <td>8.130191</td>\n",
       "      <td>3.422942</td>\n",
       "      <td>2.601025</td>\n",
       "    </tr>\n",
       "    <tr>\n",
       "      <th>11</th>\n",
       "      <td>Week 12</td>\n",
       "      <td>17.4</td>\n",
       "      <td>214.7</td>\n",
       "      <td>24.0</td>\n",
       "      <td>4.0</td>\n",
       "      <td>2020-01-12</td>\n",
       "      <td>14.652645</td>\n",
       "      <td>9.250131</td>\n",
       "      <td>1.515717</td>\n",
       "    </tr>\n",
       "    <tr>\n",
       "      <th>12</th>\n",
       "      <td>Week 13</td>\n",
       "      <td>9.2</td>\n",
       "      <td>23.8</td>\n",
       "      <td>35.1</td>\n",
       "      <td>65.9</td>\n",
       "      <td>2020-01-13</td>\n",
       "      <td>4.878524</td>\n",
       "      <td>12.070214</td>\n",
       "      <td>3.512899</td>\n",
       "    </tr>\n",
       "    <tr>\n",
       "      <th>13</th>\n",
       "      <td>Week 14</td>\n",
       "      <td>9.7</td>\n",
       "      <td>97.5</td>\n",
       "      <td>7.6</td>\n",
       "      <td>7.2</td>\n",
       "      <td>2020-01-14</td>\n",
       "      <td>9.874209</td>\n",
       "      <td>4.135895</td>\n",
       "      <td>1.808006</td>\n",
       "    </tr>\n",
       "    <tr>\n",
       "      <th>14</th>\n",
       "      <td>Week 15</td>\n",
       "      <td>19.0</td>\n",
       "      <td>204.1</td>\n",
       "      <td>32.9</td>\n",
       "      <td>46.0</td>\n",
       "      <td>2020-01-15</td>\n",
       "      <td>14.286357</td>\n",
       "      <td>11.535519</td>\n",
       "      <td>3.153751</td>\n",
       "    </tr>\n",
       "    <tr>\n",
       "      <th>15</th>\n",
       "      <td>Week 16</td>\n",
       "      <td>22.4</td>\n",
       "      <td>195.4</td>\n",
       "      <td>47.7</td>\n",
       "      <td>52.9</td>\n",
       "      <td>2020-01-16</td>\n",
       "      <td>13.978555</td>\n",
       "      <td>14.961077</td>\n",
       "      <td>3.288794</td>\n",
       "    </tr>\n",
       "    <tr>\n",
       "      <th>16</th>\n",
       "      <td>Week 17</td>\n",
       "      <td>12.5</td>\n",
       "      <td>67.8</td>\n",
       "      <td>36.6</td>\n",
       "      <td>114.0</td>\n",
       "      <td>2020-01-17</td>\n",
       "      <td>8.234076</td>\n",
       "      <td>12.429016</td>\n",
       "      <td>4.140678</td>\n",
       "    </tr>\n",
       "    <tr>\n",
       "      <th>17</th>\n",
       "      <td>Week 18</td>\n",
       "      <td>24.4</td>\n",
       "      <td>281.4</td>\n",
       "      <td>39.6</td>\n",
       "      <td>55.8</td>\n",
       "      <td>2020-01-18</td>\n",
       "      <td>16.774981</td>\n",
       "      <td>13.133686</td>\n",
       "      <td>3.341875</td>\n",
       "    </tr>\n",
       "    <tr>\n",
       "      <th>18</th>\n",
       "      <td>Week 19</td>\n",
       "      <td>11.3</td>\n",
       "      <td>69.2</td>\n",
       "      <td>20.5</td>\n",
       "      <td>18.3</td>\n",
       "      <td>2020-01-19</td>\n",
       "      <td>8.318654</td>\n",
       "      <td>8.283764</td>\n",
       "      <td>2.391858</td>\n",
       "    </tr>\n",
       "    <tr>\n",
       "      <th>19</th>\n",
       "      <td>Week 20</td>\n",
       "      <td>14.6</td>\n",
       "      <td>147.3</td>\n",
       "      <td>23.9</td>\n",
       "      <td>19.1</td>\n",
       "      <td>2020-01-20</td>\n",
       "      <td>12.136721</td>\n",
       "      <td>9.223134</td>\n",
       "      <td>2.422758</td>\n",
       "    </tr>\n",
       "    <tr>\n",
       "      <th>20</th>\n",
       "      <td>Week 21</td>\n",
       "      <td>18.0</td>\n",
       "      <td>218.4</td>\n",
       "      <td>27.7</td>\n",
       "      <td>53.4</td>\n",
       "      <td>2020-01-21</td>\n",
       "      <td>14.778363</td>\n",
       "      <td>10.226708</td>\n",
       "      <td>3.298089</td>\n",
       "    </tr>\n",
       "    <tr>\n",
       "      <th>21</th>\n",
       "      <td>Week 22</td>\n",
       "      <td>12.5</td>\n",
       "      <td>237.4</td>\n",
       "      <td>5.1</td>\n",
       "      <td>23.5</td>\n",
       "      <td>2020-01-22</td>\n",
       "      <td>15.407790</td>\n",
       "      <td>3.128233</td>\n",
       "      <td>2.578222</td>\n",
       "    </tr>\n",
       "    <tr>\n",
       "      <th>22</th>\n",
       "      <td>Week 23</td>\n",
       "      <td>5.6</td>\n",
       "      <td>13.2</td>\n",
       "      <td>15.9</td>\n",
       "      <td>49.6</td>\n",
       "      <td>2020-01-23</td>\n",
       "      <td>3.633180</td>\n",
       "      <td>6.933907</td>\n",
       "      <td>3.225852</td>\n",
       "    </tr>\n",
       "    <tr>\n",
       "      <th>23</th>\n",
       "      <td>Week 24</td>\n",
       "      <td>15.5</td>\n",
       "      <td>228.3</td>\n",
       "      <td>16.9</td>\n",
       "      <td>26.2</td>\n",
       "      <td>2020-01-24</td>\n",
       "      <td>15.109600</td>\n",
       "      <td>7.236369</td>\n",
       "      <td>2.663731</td>\n",
       "    </tr>\n",
       "    <tr>\n",
       "      <th>24</th>\n",
       "      <td>Week 25</td>\n",
       "      <td>9.7</td>\n",
       "      <td>62.3</td>\n",
       "      <td>12.6</td>\n",
       "      <td>18.3</td>\n",
       "      <td>2020-01-25</td>\n",
       "      <td>7.893035</td>\n",
       "      <td>5.891954</td>\n",
       "      <td>2.391858</td>\n",
       "    </tr>\n",
       "    <tr>\n",
       "      <th>25</th>\n",
       "      <td>Week 26</td>\n",
       "      <td>12.0</td>\n",
       "      <td>262.9</td>\n",
       "      <td>3.5</td>\n",
       "      <td>19.5</td>\n",
       "      <td>2020-01-26</td>\n",
       "      <td>16.214191</td>\n",
       "      <td>2.403519</td>\n",
       "      <td>2.437869</td>\n",
       "    </tr>\n",
       "    <tr>\n",
       "      <th>26</th>\n",
       "      <td>Week 27</td>\n",
       "      <td>15.0</td>\n",
       "      <td>142.9</td>\n",
       "      <td>29.3</td>\n",
       "      <td>12.6</td>\n",
       "      <td>2020-01-27</td>\n",
       "      <td>11.954079</td>\n",
       "      <td>10.636710</td>\n",
       "      <td>2.138509</td>\n",
       "    </tr>\n",
       "    <tr>\n",
       "      <th>27</th>\n",
       "      <td>Week 28</td>\n",
       "      <td>15.9</td>\n",
       "      <td>240.1</td>\n",
       "      <td>16.7</td>\n",
       "      <td>22.9</td>\n",
       "      <td>2020-01-28</td>\n",
       "      <td>15.495161</td>\n",
       "      <td>7.176316</td>\n",
       "      <td>2.558295</td>\n",
       "    </tr>\n",
       "    <tr>\n",
       "      <th>28</th>\n",
       "      <td>Week 29</td>\n",
       "      <td>18.9</td>\n",
       "      <td>248.8</td>\n",
       "      <td>27.1</td>\n",
       "      <td>22.9</td>\n",
       "      <td>2020-01-29</td>\n",
       "      <td>15.773395</td>\n",
       "      <td>10.071137</td>\n",
       "      <td>2.558295</td>\n",
       "    </tr>\n",
       "    <tr>\n",
       "      <th>29</th>\n",
       "      <td>Week 30</td>\n",
       "      <td>10.5</td>\n",
       "      <td>70.6</td>\n",
       "      <td>16.0</td>\n",
       "      <td>40.8</td>\n",
       "      <td>2020-01-30</td>\n",
       "      <td>8.402381</td>\n",
       "      <td>6.964405</td>\n",
       "      <td>3.042272</td>\n",
       "    </tr>\n",
       "  </tbody>\n",
       "</table>\n",
       "</div>"
      ],
      "text/plain": [
       "       Time  sales     FB    TV  Radio       Date  FB_Transf  TV_Transf  \\\n",
       "0    Week 1   22.1  230.1  37.8   69.2 2020-01-01  15.169047  12.712889   \n",
       "1    Week 2   10.4   44.5  39.3   45.1 2020-01-02   6.670832  13.063958   \n",
       "2    Week 3    9.3   17.2  45.9   69.3 2020-01-03   4.147288  14.563605   \n",
       "3    Week 4   18.5  151.5  41.3   58.5 2020-01-04  12.308534  13.525865   \n",
       "4    Week 5   12.9  180.8  10.8   58.4 2020-01-05  13.446189   5.289281   \n",
       "5    Week 6    7.2    8.7  48.9   75.0 2020-01-06   2.949576  15.223559   \n",
       "6    Week 7   11.8   57.5  32.8   23.5 2020-01-07   7.582875  11.510964   \n",
       "7    Week 8   13.2  120.2  19.6   11.6 2020-01-08  10.963576   8.027480   \n",
       "8    Week 9    4.8    8.6   2.1    1.0 2020-01-09   2.932576   1.680945   \n",
       "9   Week 10   10.6  199.8   2.6   21.2 2020-01-10  14.135063   1.952007   \n",
       "10  Week 11    8.6   66.1   5.8   24.2 2020-01-11   8.130191   3.422942   \n",
       "11  Week 12   17.4  214.7  24.0    4.0 2020-01-12  14.652645   9.250131   \n",
       "12  Week 13    9.2   23.8  35.1   65.9 2020-01-13   4.878524  12.070214   \n",
       "13  Week 14    9.7   97.5   7.6    7.2 2020-01-14   9.874209   4.135895   \n",
       "14  Week 15   19.0  204.1  32.9   46.0 2020-01-15  14.286357  11.535519   \n",
       "15  Week 16   22.4  195.4  47.7   52.9 2020-01-16  13.978555  14.961077   \n",
       "16  Week 17   12.5   67.8  36.6  114.0 2020-01-17   8.234076  12.429016   \n",
       "17  Week 18   24.4  281.4  39.6   55.8 2020-01-18  16.774981  13.133686   \n",
       "18  Week 19   11.3   69.2  20.5   18.3 2020-01-19   8.318654   8.283764   \n",
       "19  Week 20   14.6  147.3  23.9   19.1 2020-01-20  12.136721   9.223134   \n",
       "20  Week 21   18.0  218.4  27.7   53.4 2020-01-21  14.778363  10.226708   \n",
       "21  Week 22   12.5  237.4   5.1   23.5 2020-01-22  15.407790   3.128233   \n",
       "22  Week 23    5.6   13.2  15.9   49.6 2020-01-23   3.633180   6.933907   \n",
       "23  Week 24   15.5  228.3  16.9   26.2 2020-01-24  15.109600   7.236369   \n",
       "24  Week 25    9.7   62.3  12.6   18.3 2020-01-25   7.893035   5.891954   \n",
       "25  Week 26   12.0  262.9   3.5   19.5 2020-01-26  16.214191   2.403519   \n",
       "26  Week 27   15.0  142.9  29.3   12.6 2020-01-27  11.954079  10.636710   \n",
       "27  Week 28   15.9  240.1  16.7   22.9 2020-01-28  15.495161   7.176316   \n",
       "28  Week 29   18.9  248.8  27.1   22.9 2020-01-29  15.773395  10.071137   \n",
       "29  Week 30   10.5   70.6  16.0   40.8 2020-01-30   8.402381   6.964405   \n",
       "\n",
       "    Radio_transf  \n",
       "0       3.564773  \n",
       "1       3.135111  \n",
       "2       3.566317  \n",
       "3       3.389587  \n",
       "4       3.387848  \n",
       "5       3.651896  \n",
       "6       2.578222  \n",
       "7       2.086111  \n",
       "8       1.000000  \n",
       "9       2.499774  \n",
       "10      2.601025  \n",
       "11      1.515717  \n",
       "12      3.512899  \n",
       "13      1.808006  \n",
       "14      3.153751  \n",
       "15      3.288794  \n",
       "16      4.140678  \n",
       "17      3.341875  \n",
       "18      2.391858  \n",
       "19      2.422758  \n",
       "20      3.298089  \n",
       "21      2.578222  \n",
       "22      3.225852  \n",
       "23      2.663731  \n",
       "24      2.391858  \n",
       "25      2.437869  \n",
       "26      2.138509  \n",
       "27      2.558295  \n",
       "28      2.558295  \n",
       "29      3.042272  "
      ]
     },
     "execution_count": 71,
     "metadata": {},
     "output_type": "execute_result"
    }
   ],
   "source": [
    "calculo_4"
   ]
  },
  {
   "cell_type": "code",
   "execution_count": 72,
   "id": "3f4397f8-4c57-45e1-9f97-2f3869c95598",
   "metadata": {},
   "outputs": [
    {
     "name": "stdout",
     "output_type": "stream",
     "text": [
      "Correlação entre  0.9393703726795288\n"
     ]
    },
    {
     "data": {
      "image/png": "[encoded data removed]",
      "text/plain": [
       "<Figure size 1000x600 with 1 Axes>"
      ]
     },
     "metadata": {},
     "output_type": "display_data"
    }
   ],
   "source": [
    "from sklearn.preprocessing import PolynomialFeatures\n",
    "from sklearn.linear_model import LinearRegression\n",
    "import numpy as np\n",
    "import matplotlib.pyplot as plt\n",
    "\n",
    "# Definir variáveis independentes (X) e dependentes (y)\n",
    "X = calculo_4['Radio'].values.reshape(-1, 1)  # reshape para ser uma matriz 2D\n",
    "y = calculo_4['Radio_transf'].values\n",
    "\n",
    "\n",
    "# Transformar y usando logaritmo para linearizar\n",
    "y_log = np.log(y)\n",
    "model.fit(X, y_log)\n",
    "y_log_pred = model.predict(X)\n",
    "\n",
    "# Converter de volta para a escala original exponenciando o resultado\n",
    "y_exp_pred = np.exp(y_log_pred)\n",
    "plt.figure(figsize=(10, 6))\n",
    "\n",
    "# Plotar os dados e a linha de tendência exponencial\n",
    "plt.scatter(X, y, color=\"blue\", label=\"Dados Reais\")\n",
    "plt.plot(X, y_exp_pred, color=\"red\", label=\"Linha de Tendência Exponencial\")\n",
    "\n",
    "\n",
    "\n",
    "# Calcula a correlação entre Sales e TV\n",
    "correlacao_RAdio = calculo_4['Radio'].corr(calculo_4['Radio_transf'])\n",
    "print(\"Correlação entre \", correlacao_RAdio)\n",
    "\n",
    "\n",
    "plt.title('Relação entre Radio e Radio_transf com Regressão Polinomial')\n",
    "plt.xlabel('Publicidade na Radio (custo)')\n",
    "plt.ylabel('Publicidade na Radio_transf (custo)') \n",
    "plt.text(10, 3, f'Correlação R²: {correlacao_RAdio:.2f}', fontsize=12, color='black')\n",
    "\n",
    "#plt.ylim(0, 22)  # Limitar o eixo y até 22\n",
    "\n",
    "plt.legend()\n",
    "plt.grid()\n",
    "plt.show()\n",
    "\n"
   ]
  },
  {
   "cell_type": "markdown",
   "id": "5293a0d5-c655-4147-be9d-f21e07c0617c",
   "metadata": {},
   "source": [
    "# Calcularemos agora o Adstock"
   ]
  },
  {
   "cell_type": "code",
   "execution_count": 73,
   "id": "0f4f57d9-280c-4880-9c4f-d8d12294470d",
   "metadata": {},
   "outputs": [
    {
     "data": {
      "text/html": [
       "<div>\n",
       "<style scoped>\n",
       "    .dataframe tbody tr th:only-of-type {\n",
       "        vertical-align: middle;\n",
       "    }\n",
       "\n",
       "    .dataframe tbody tr th {\n",
       "        vertical-align: top;\n",
       "    }\n",
       "\n",
       "    .dataframe thead th {\n",
       "        text-align: right;\n",
       "    }\n",
       "</style>\n",
       "<table border=\"1\" class=\"dataframe\">\n",
       "  <thead>\n",
       "    <tr style=\"text-align: right;\">\n",
       "      <th></th>\n",
       "      <th>Time</th>\n",
       "      <th>sales</th>\n",
       "      <th>FB</th>\n",
       "      <th>TV</th>\n",
       "      <th>Radio</th>\n",
       "      <th>Date</th>\n",
       "    </tr>\n",
       "  </thead>\n",
       "  <tbody>\n",
       "    <tr>\n",
       "      <th>0</th>\n",
       "      <td>Week 1</td>\n",
       "      <td>22.1</td>\n",
       "      <td>230.1</td>\n",
       "      <td>37.8</td>\n",
       "      <td>69.2</td>\n",
       "      <td>2020-01-01</td>\n",
       "    </tr>\n",
       "    <tr>\n",
       "      <th>1</th>\n",
       "      <td>Week 2</td>\n",
       "      <td>10.4</td>\n",
       "      <td>44.5</td>\n",
       "      <td>39.3</td>\n",
       "      <td>45.1</td>\n",
       "      <td>2020-01-02</td>\n",
       "    </tr>\n",
       "    <tr>\n",
       "      <th>2</th>\n",
       "      <td>Week 3</td>\n",
       "      <td>9.3</td>\n",
       "      <td>17.2</td>\n",
       "      <td>45.9</td>\n",
       "      <td>69.3</td>\n",
       "      <td>2020-01-03</td>\n",
       "    </tr>\n",
       "    <tr>\n",
       "      <th>3</th>\n",
       "      <td>Week 4</td>\n",
       "      <td>18.5</td>\n",
       "      <td>151.5</td>\n",
       "      <td>41.3</td>\n",
       "      <td>58.5</td>\n",
       "      <td>2020-01-04</td>\n",
       "    </tr>\n",
       "    <tr>\n",
       "      <th>4</th>\n",
       "      <td>Week 5</td>\n",
       "      <td>12.9</td>\n",
       "      <td>180.8</td>\n",
       "      <td>10.8</td>\n",
       "      <td>58.4</td>\n",
       "      <td>2020-01-05</td>\n",
       "    </tr>\n",
       "    <tr>\n",
       "      <th>5</th>\n",
       "      <td>Week 6</td>\n",
       "      <td>7.2</td>\n",
       "      <td>8.7</td>\n",
       "      <td>48.9</td>\n",
       "      <td>75.0</td>\n",
       "      <td>2020-01-06</td>\n",
       "    </tr>\n",
       "    <tr>\n",
       "      <th>6</th>\n",
       "      <td>Week 7</td>\n",
       "      <td>11.8</td>\n",
       "      <td>57.5</td>\n",
       "      <td>32.8</td>\n",
       "      <td>23.5</td>\n",
       "      <td>2020-01-07</td>\n",
       "    </tr>\n",
       "    <tr>\n",
       "      <th>7</th>\n",
       "      <td>Week 8</td>\n",
       "      <td>13.2</td>\n",
       "      <td>120.2</td>\n",
       "      <td>19.6</td>\n",
       "      <td>11.6</td>\n",
       "      <td>2020-01-08</td>\n",
       "    </tr>\n",
       "    <tr>\n",
       "      <th>8</th>\n",
       "      <td>Week 9</td>\n",
       "      <td>4.8</td>\n",
       "      <td>8.6</td>\n",
       "      <td>2.1</td>\n",
       "      <td>1.0</td>\n",
       "      <td>2020-01-09</td>\n",
       "    </tr>\n",
       "    <tr>\n",
       "      <th>9</th>\n",
       "      <td>Week 10</td>\n",
       "      <td>10.6</td>\n",
       "      <td>199.8</td>\n",
       "      <td>2.6</td>\n",
       "      <td>21.2</td>\n",
       "      <td>2020-01-10</td>\n",
       "    </tr>\n",
       "    <tr>\n",
       "      <th>10</th>\n",
       "      <td>Week 11</td>\n",
       "      <td>8.6</td>\n",
       "      <td>66.1</td>\n",
       "      <td>5.8</td>\n",
       "      <td>24.2</td>\n",
       "      <td>2020-01-11</td>\n",
       "    </tr>\n",
       "    <tr>\n",
       "      <th>11</th>\n",
       "      <td>Week 12</td>\n",
       "      <td>17.4</td>\n",
       "      <td>214.7</td>\n",
       "      <td>24.0</td>\n",
       "      <td>4.0</td>\n",
       "      <td>2020-01-12</td>\n",
       "    </tr>\n",
       "    <tr>\n",
       "      <th>12</th>\n",
       "      <td>Week 13</td>\n",
       "      <td>9.2</td>\n",
       "      <td>23.8</td>\n",
       "      <td>35.1</td>\n",
       "      <td>65.9</td>\n",
       "      <td>2020-01-13</td>\n",
       "    </tr>\n",
       "    <tr>\n",
       "      <th>13</th>\n",
       "      <td>Week 14</td>\n",
       "      <td>9.7</td>\n",
       "      <td>97.5</td>\n",
       "      <td>7.6</td>\n",
       "      <td>7.2</td>\n",
       "      <td>2020-01-14</td>\n",
       "    </tr>\n",
       "    <tr>\n",
       "      <th>14</th>\n",
       "      <td>Week 15</td>\n",
       "      <td>19.0</td>\n",
       "      <td>204.1</td>\n",
       "      <td>32.9</td>\n",
       "      <td>46.0</td>\n",
       "      <td>2020-01-15</td>\n",
       "    </tr>\n",
       "    <tr>\n",
       "      <th>15</th>\n",
       "      <td>Week 16</td>\n",
       "      <td>22.4</td>\n",
       "      <td>195.4</td>\n",
       "      <td>47.7</td>\n",
       "      <td>52.9</td>\n",
       "      <td>2020-01-16</td>\n",
       "    </tr>\n",
       "    <tr>\n",
       "      <th>16</th>\n",
       "      <td>Week 17</td>\n",
       "      <td>12.5</td>\n",
       "      <td>67.8</td>\n",
       "      <td>36.6</td>\n",
       "      <td>114.0</td>\n",
       "      <td>2020-01-17</td>\n",
       "    </tr>\n",
       "    <tr>\n",
       "      <th>17</th>\n",
       "      <td>Week 18</td>\n",
       "      <td>24.4</td>\n",
       "      <td>281.4</td>\n",
       "      <td>39.6</td>\n",
       "      <td>55.8</td>\n",
       "      <td>2020-01-18</td>\n",
       "    </tr>\n",
       "    <tr>\n",
       "      <th>18</th>\n",
       "      <td>Week 19</td>\n",
       "      <td>11.3</td>\n",
       "      <td>69.2</td>\n",
       "      <td>20.5</td>\n",
       "      <td>18.3</td>\n",
       "      <td>2020-01-19</td>\n",
       "    </tr>\n",
       "    <tr>\n",
       "      <th>19</th>\n",
       "      <td>Week 20</td>\n",
       "      <td>14.6</td>\n",
       "      <td>147.3</td>\n",
       "      <td>23.9</td>\n",
       "      <td>19.1</td>\n",
       "      <td>2020-01-20</td>\n",
       "    </tr>\n",
       "    <tr>\n",
       "      <th>20</th>\n",
       "      <td>Week 21</td>\n",
       "      <td>18.0</td>\n",
       "      <td>218.4</td>\n",
       "      <td>27.7</td>\n",
       "      <td>53.4</td>\n",
       "      <td>2020-01-21</td>\n",
       "    </tr>\n",
       "    <tr>\n",
       "      <th>21</th>\n",
       "      <td>Week 22</td>\n",
       "      <td>12.5</td>\n",
       "      <td>237.4</td>\n",
       "      <td>5.1</td>\n",
       "      <td>23.5</td>\n",
       "      <td>2020-01-22</td>\n",
       "    </tr>\n",
       "    <tr>\n",
       "      <th>22</th>\n",
       "      <td>Week 23</td>\n",
       "      <td>5.6</td>\n",
       "      <td>13.2</td>\n",
       "      <td>15.9</td>\n",
       "      <td>49.6</td>\n",
       "      <td>2020-01-23</td>\n",
       "    </tr>\n",
       "    <tr>\n",
       "      <th>23</th>\n",
       "      <td>Week 24</td>\n",
       "      <td>15.5</td>\n",
       "      <td>228.3</td>\n",
       "      <td>16.9</td>\n",
       "      <td>26.2</td>\n",
       "      <td>2020-01-24</td>\n",
       "    </tr>\n",
       "    <tr>\n",
       "      <th>24</th>\n",
       "      <td>Week 25</td>\n",
       "      <td>9.7</td>\n",
       "      <td>62.3</td>\n",
       "      <td>12.6</td>\n",
       "      <td>18.3</td>\n",
       "      <td>2020-01-25</td>\n",
       "    </tr>\n",
       "    <tr>\n",
       "      <th>25</th>\n",
       "      <td>Week 26</td>\n",
       "      <td>12.0</td>\n",
       "      <td>262.9</td>\n",
       "      <td>3.5</td>\n",
       "      <td>19.5</td>\n",
       "      <td>2020-01-26</td>\n",
       "    </tr>\n",
       "    <tr>\n",
       "      <th>26</th>\n",
       "      <td>Week 27</td>\n",
       "      <td>15.0</td>\n",
       "      <td>142.9</td>\n",
       "      <td>29.3</td>\n",
       "      <td>12.6</td>\n",
       "      <td>2020-01-27</td>\n",
       "    </tr>\n",
       "    <tr>\n",
       "      <th>27</th>\n",
       "      <td>Week 28</td>\n",
       "      <td>15.9</td>\n",
       "      <td>240.1</td>\n",
       "      <td>16.7</td>\n",
       "      <td>22.9</td>\n",
       "      <td>2020-01-28</td>\n",
       "    </tr>\n",
       "    <tr>\n",
       "      <th>28</th>\n",
       "      <td>Week 29</td>\n",
       "      <td>18.9</td>\n",
       "      <td>248.8</td>\n",
       "      <td>27.1</td>\n",
       "      <td>22.9</td>\n",
       "      <td>2020-01-29</td>\n",
       "    </tr>\n",
       "    <tr>\n",
       "      <th>29</th>\n",
       "      <td>Week 30</td>\n",
       "      <td>10.5</td>\n",
       "      <td>70.6</td>\n",
       "      <td>16.0</td>\n",
       "      <td>40.8</td>\n",
       "      <td>2020-01-30</td>\n",
       "    </tr>\n",
       "  </tbody>\n",
       "</table>\n",
       "</div>"
      ],
      "text/plain": [
       "       Time  sales     FB    TV  Radio       Date\n",
       "0    Week 1   22.1  230.1  37.8   69.2 2020-01-01\n",
       "1    Week 2   10.4   44.5  39.3   45.1 2020-01-02\n",
       "2    Week 3    9.3   17.2  45.9   69.3 2020-01-03\n",
       "3    Week 4   18.5  151.5  41.3   58.5 2020-01-04\n",
       "4    Week 5   12.9  180.8  10.8   58.4 2020-01-05\n",
       "5    Week 6    7.2    8.7  48.9   75.0 2020-01-06\n",
       "6    Week 7   11.8   57.5  32.8   23.5 2020-01-07\n",
       "7    Week 8   13.2  120.2  19.6   11.6 2020-01-08\n",
       "8    Week 9    4.8    8.6   2.1    1.0 2020-01-09\n",
       "9   Week 10   10.6  199.8   2.6   21.2 2020-01-10\n",
       "10  Week 11    8.6   66.1   5.8   24.2 2020-01-11\n",
       "11  Week 12   17.4  214.7  24.0    4.0 2020-01-12\n",
       "12  Week 13    9.2   23.8  35.1   65.9 2020-01-13\n",
       "13  Week 14    9.7   97.5   7.6    7.2 2020-01-14\n",
       "14  Week 15   19.0  204.1  32.9   46.0 2020-01-15\n",
       "15  Week 16   22.4  195.4  47.7   52.9 2020-01-16\n",
       "16  Week 17   12.5   67.8  36.6  114.0 2020-01-17\n",
       "17  Week 18   24.4  281.4  39.6   55.8 2020-01-18\n",
       "18  Week 19   11.3   69.2  20.5   18.3 2020-01-19\n",
       "19  Week 20   14.6  147.3  23.9   19.1 2020-01-20\n",
       "20  Week 21   18.0  218.4  27.7   53.4 2020-01-21\n",
       "21  Week 22   12.5  237.4   5.1   23.5 2020-01-22\n",
       "22  Week 23    5.6   13.2  15.9   49.6 2020-01-23\n",
       "23  Week 24   15.5  228.3  16.9   26.2 2020-01-24\n",
       "24  Week 25    9.7   62.3  12.6   18.3 2020-01-25\n",
       "25  Week 26   12.0  262.9   3.5   19.5 2020-01-26\n",
       "26  Week 27   15.0  142.9  29.3   12.6 2020-01-27\n",
       "27  Week 28   15.9  240.1  16.7   22.9 2020-01-28\n",
       "28  Week 29   18.9  248.8  27.1   22.9 2020-01-29\n",
       "29  Week 30   10.5   70.6  16.0   40.8 2020-01-30"
      ]
     },
     "execution_count": 73,
     "metadata": {},
     "output_type": "execute_result"
    }
   ],
   "source": [
    "base_adstock = df.copy()\n",
    "base_adstock"
   ]
  },
  {
   "cell_type": "code",
   "execution_count": 74,
   "id": "111f1261-0f4e-45e1-a234-846b28ace9b3",
   "metadata": {},
   "outputs": [],
   "source": [
    "Beta_FB= 0.2\n",
    "Beta_tv= 0.1\n",
    "Beta_radio= 0.2"
   ]
  },
  {
   "cell_type": "code",
   "execution_count": 75,
   "id": "ca75428e-f1f3-4539-8a6e-689ad3197dad",
   "metadata": {},
   "outputs": [
    {
     "data": {
      "text/html": [
       "<div>\n",
       "<style scoped>\n",
       "    .dataframe tbody tr th:only-of-type {\n",
       "        vertical-align: middle;\n",
       "    }\n",
       "\n",
       "    .dataframe tbody tr th {\n",
       "        vertical-align: top;\n",
       "    }\n",
       "\n",
       "    .dataframe thead th {\n",
       "        text-align: right;\n",
       "    }\n",
       "</style>\n",
       "<table border=\"1\" class=\"dataframe\">\n",
       "  <thead>\n",
       "    <tr style=\"text-align: right;\">\n",
       "      <th></th>\n",
       "      <th>Time</th>\n",
       "      <th>sales</th>\n",
       "      <th>FB</th>\n",
       "      <th>TV</th>\n",
       "      <th>Radio</th>\n",
       "      <th>Date</th>\n",
       "      <th>FB_Transf</th>\n",
       "      <th>TV_Transf</th>\n",
       "      <th>Radio_transf</th>\n",
       "    </tr>\n",
       "  </thead>\n",
       "  <tbody>\n",
       "    <tr>\n",
       "      <th>0</th>\n",
       "      <td>Week 1</td>\n",
       "      <td>22.1</td>\n",
       "      <td>230.1</td>\n",
       "      <td>37.8</td>\n",
       "      <td>69.2</td>\n",
       "      <td>2020-01-01</td>\n",
       "      <td>230.1</td>\n",
       "      <td>37.8</td>\n",
       "      <td>69.2</td>\n",
       "    </tr>\n",
       "    <tr>\n",
       "      <th>1</th>\n",
       "      <td>Week 2</td>\n",
       "      <td>10.4</td>\n",
       "      <td>44.5</td>\n",
       "      <td>39.3</td>\n",
       "      <td>45.1</td>\n",
       "      <td>2020-01-02</td>\n",
       "      <td>0.0</td>\n",
       "      <td>0.0</td>\n",
       "      <td>0.0</td>\n",
       "    </tr>\n",
       "    <tr>\n",
       "      <th>2</th>\n",
       "      <td>Week 3</td>\n",
       "      <td>9.3</td>\n",
       "      <td>17.2</td>\n",
       "      <td>45.9</td>\n",
       "      <td>69.3</td>\n",
       "      <td>2020-01-03</td>\n",
       "      <td>0.0</td>\n",
       "      <td>0.0</td>\n",
       "      <td>0.0</td>\n",
       "    </tr>\n",
       "    <tr>\n",
       "      <th>3</th>\n",
       "      <td>Week 4</td>\n",
       "      <td>18.5</td>\n",
       "      <td>151.5</td>\n",
       "      <td>41.3</td>\n",
       "      <td>58.5</td>\n",
       "      <td>2020-01-04</td>\n",
       "      <td>0.0</td>\n",
       "      <td>0.0</td>\n",
       "      <td>0.0</td>\n",
       "    </tr>\n",
       "    <tr>\n",
       "      <th>4</th>\n",
       "      <td>Week 5</td>\n",
       "      <td>12.9</td>\n",
       "      <td>180.8</td>\n",
       "      <td>10.8</td>\n",
       "      <td>58.4</td>\n",
       "      <td>2020-01-05</td>\n",
       "      <td>0.0</td>\n",
       "      <td>0.0</td>\n",
       "      <td>0.0</td>\n",
       "    </tr>\n",
       "    <tr>\n",
       "      <th>5</th>\n",
       "      <td>Week 6</td>\n",
       "      <td>7.2</td>\n",
       "      <td>8.7</td>\n",
       "      <td>48.9</td>\n",
       "      <td>75.0</td>\n",
       "      <td>2020-01-06</td>\n",
       "      <td>0.0</td>\n",
       "      <td>0.0</td>\n",
       "      <td>0.0</td>\n",
       "    </tr>\n",
       "    <tr>\n",
       "      <th>6</th>\n",
       "      <td>Week 7</td>\n",
       "      <td>11.8</td>\n",
       "      <td>57.5</td>\n",
       "      <td>32.8</td>\n",
       "      <td>23.5</td>\n",
       "      <td>2020-01-07</td>\n",
       "      <td>0.0</td>\n",
       "      <td>0.0</td>\n",
       "      <td>0.0</td>\n",
       "    </tr>\n",
       "    <tr>\n",
       "      <th>7</th>\n",
       "      <td>Week 8</td>\n",
       "      <td>13.2</td>\n",
       "      <td>120.2</td>\n",
       "      <td>19.6</td>\n",
       "      <td>11.6</td>\n",
       "      <td>2020-01-08</td>\n",
       "      <td>0.0</td>\n",
       "      <td>0.0</td>\n",
       "      <td>0.0</td>\n",
       "    </tr>\n",
       "    <tr>\n",
       "      <th>8</th>\n",
       "      <td>Week 9</td>\n",
       "      <td>4.8</td>\n",
       "      <td>8.6</td>\n",
       "      <td>2.1</td>\n",
       "      <td>1.0</td>\n",
       "      <td>2020-01-09</td>\n",
       "      <td>0.0</td>\n",
       "      <td>0.0</td>\n",
       "      <td>0.0</td>\n",
       "    </tr>\n",
       "    <tr>\n",
       "      <th>9</th>\n",
       "      <td>Week 10</td>\n",
       "      <td>10.6</td>\n",
       "      <td>199.8</td>\n",
       "      <td>2.6</td>\n",
       "      <td>21.2</td>\n",
       "      <td>2020-01-10</td>\n",
       "      <td>0.0</td>\n",
       "      <td>0.0</td>\n",
       "      <td>0.0</td>\n",
       "    </tr>\n",
       "    <tr>\n",
       "      <th>10</th>\n",
       "      <td>Week 11</td>\n",
       "      <td>8.6</td>\n",
       "      <td>66.1</td>\n",
       "      <td>5.8</td>\n",
       "      <td>24.2</td>\n",
       "      <td>2020-01-11</td>\n",
       "      <td>0.0</td>\n",
       "      <td>0.0</td>\n",
       "      <td>0.0</td>\n",
       "    </tr>\n",
       "    <tr>\n",
       "      <th>11</th>\n",
       "      <td>Week 12</td>\n",
       "      <td>17.4</td>\n",
       "      <td>214.7</td>\n",
       "      <td>24.0</td>\n",
       "      <td>4.0</td>\n",
       "      <td>2020-01-12</td>\n",
       "      <td>0.0</td>\n",
       "      <td>0.0</td>\n",
       "      <td>0.0</td>\n",
       "    </tr>\n",
       "    <tr>\n",
       "      <th>12</th>\n",
       "      <td>Week 13</td>\n",
       "      <td>9.2</td>\n",
       "      <td>23.8</td>\n",
       "      <td>35.1</td>\n",
       "      <td>65.9</td>\n",
       "      <td>2020-01-13</td>\n",
       "      <td>0.0</td>\n",
       "      <td>0.0</td>\n",
       "      <td>0.0</td>\n",
       "    </tr>\n",
       "    <tr>\n",
       "      <th>13</th>\n",
       "      <td>Week 14</td>\n",
       "      <td>9.7</td>\n",
       "      <td>97.5</td>\n",
       "      <td>7.6</td>\n",
       "      <td>7.2</td>\n",
       "      <td>2020-01-14</td>\n",
       "      <td>0.0</td>\n",
       "      <td>0.0</td>\n",
       "      <td>0.0</td>\n",
       "    </tr>\n",
       "    <tr>\n",
       "      <th>14</th>\n",
       "      <td>Week 15</td>\n",
       "      <td>19.0</td>\n",
       "      <td>204.1</td>\n",
       "      <td>32.9</td>\n",
       "      <td>46.0</td>\n",
       "      <td>2020-01-15</td>\n",
       "      <td>0.0</td>\n",
       "      <td>0.0</td>\n",
       "      <td>0.0</td>\n",
       "    </tr>\n",
       "    <tr>\n",
       "      <th>15</th>\n",
       "      <td>Week 16</td>\n",
       "      <td>22.4</td>\n",
       "      <td>195.4</td>\n",
       "      <td>47.7</td>\n",
       "      <td>52.9</td>\n",
       "      <td>2020-01-16</td>\n",
       "      <td>0.0</td>\n",
       "      <td>0.0</td>\n",
       "      <td>0.0</td>\n",
       "    </tr>\n",
       "    <tr>\n",
       "      <th>16</th>\n",
       "      <td>Week 17</td>\n",
       "      <td>12.5</td>\n",
       "      <td>67.8</td>\n",
       "      <td>36.6</td>\n",
       "      <td>114.0</td>\n",
       "      <td>2020-01-17</td>\n",
       "      <td>0.0</td>\n",
       "      <td>0.0</td>\n",
       "      <td>0.0</td>\n",
       "    </tr>\n",
       "    <tr>\n",
       "      <th>17</th>\n",
       "      <td>Week 18</td>\n",
       "      <td>24.4</td>\n",
       "      <td>281.4</td>\n",
       "      <td>39.6</td>\n",
       "      <td>55.8</td>\n",
       "      <td>2020-01-18</td>\n",
       "      <td>0.0</td>\n",
       "      <td>0.0</td>\n",
       "      <td>0.0</td>\n",
       "    </tr>\n",
       "    <tr>\n",
       "      <th>18</th>\n",
       "      <td>Week 19</td>\n",
       "      <td>11.3</td>\n",
       "      <td>69.2</td>\n",
       "      <td>20.5</td>\n",
       "      <td>18.3</td>\n",
       "      <td>2020-01-19</td>\n",
       "      <td>0.0</td>\n",
       "      <td>0.0</td>\n",
       "      <td>0.0</td>\n",
       "    </tr>\n",
       "    <tr>\n",
       "      <th>19</th>\n",
       "      <td>Week 20</td>\n",
       "      <td>14.6</td>\n",
       "      <td>147.3</td>\n",
       "      <td>23.9</td>\n",
       "      <td>19.1</td>\n",
       "      <td>2020-01-20</td>\n",
       "      <td>0.0</td>\n",
       "      <td>0.0</td>\n",
       "      <td>0.0</td>\n",
       "    </tr>\n",
       "    <tr>\n",
       "      <th>20</th>\n",
       "      <td>Week 21</td>\n",
       "      <td>18.0</td>\n",
       "      <td>218.4</td>\n",
       "      <td>27.7</td>\n",
       "      <td>53.4</td>\n",
       "      <td>2020-01-21</td>\n",
       "      <td>0.0</td>\n",
       "      <td>0.0</td>\n",
       "      <td>0.0</td>\n",
       "    </tr>\n",
       "    <tr>\n",
       "      <th>21</th>\n",
       "      <td>Week 22</td>\n",
       "      <td>12.5</td>\n",
       "      <td>237.4</td>\n",
       "      <td>5.1</td>\n",
       "      <td>23.5</td>\n",
       "      <td>2020-01-22</td>\n",
       "      <td>0.0</td>\n",
       "      <td>0.0</td>\n",
       "      <td>0.0</td>\n",
       "    </tr>\n",
       "    <tr>\n",
       "      <th>22</th>\n",
       "      <td>Week 23</td>\n",
       "      <td>5.6</td>\n",
       "      <td>13.2</td>\n",
       "      <td>15.9</td>\n",
       "      <td>49.6</td>\n",
       "      <td>2020-01-23</td>\n",
       "      <td>0.0</td>\n",
       "      <td>0.0</td>\n",
       "      <td>0.0</td>\n",
       "    </tr>\n",
       "    <tr>\n",
       "      <th>23</th>\n",
       "      <td>Week 24</td>\n",
       "      <td>15.5</td>\n",
       "      <td>228.3</td>\n",
       "      <td>16.9</td>\n",
       "      <td>26.2</td>\n",
       "      <td>2020-01-24</td>\n",
       "      <td>0.0</td>\n",
       "      <td>0.0</td>\n",
       "      <td>0.0</td>\n",
       "    </tr>\n",
       "    <tr>\n",
       "      <th>24</th>\n",
       "      <td>Week 25</td>\n",
       "      <td>9.7</td>\n",
       "      <td>62.3</td>\n",
       "      <td>12.6</td>\n",
       "      <td>18.3</td>\n",
       "      <td>2020-01-25</td>\n",
       "      <td>0.0</td>\n",
       "      <td>0.0</td>\n",
       "      <td>0.0</td>\n",
       "    </tr>\n",
       "    <tr>\n",
       "      <th>25</th>\n",
       "      <td>Week 26</td>\n",
       "      <td>12.0</td>\n",
       "      <td>262.9</td>\n",
       "      <td>3.5</td>\n",
       "      <td>19.5</td>\n",
       "      <td>2020-01-26</td>\n",
       "      <td>0.0</td>\n",
       "      <td>0.0</td>\n",
       "      <td>0.0</td>\n",
       "    </tr>\n",
       "    <tr>\n",
       "      <th>26</th>\n",
       "      <td>Week 27</td>\n",
       "      <td>15.0</td>\n",
       "      <td>142.9</td>\n",
       "      <td>29.3</td>\n",
       "      <td>12.6</td>\n",
       "      <td>2020-01-27</td>\n",
       "      <td>0.0</td>\n",
       "      <td>0.0</td>\n",
       "      <td>0.0</td>\n",
       "    </tr>\n",
       "    <tr>\n",
       "      <th>27</th>\n",
       "      <td>Week 28</td>\n",
       "      <td>15.9</td>\n",
       "      <td>240.1</td>\n",
       "      <td>16.7</td>\n",
       "      <td>22.9</td>\n",
       "      <td>2020-01-28</td>\n",
       "      <td>0.0</td>\n",
       "      <td>0.0</td>\n",
       "      <td>0.0</td>\n",
       "    </tr>\n",
       "    <tr>\n",
       "      <th>28</th>\n",
       "      <td>Week 29</td>\n",
       "      <td>18.9</td>\n",
       "      <td>248.8</td>\n",
       "      <td>27.1</td>\n",
       "      <td>22.9</td>\n",
       "      <td>2020-01-29</td>\n",
       "      <td>0.0</td>\n",
       "      <td>0.0</td>\n",
       "      <td>0.0</td>\n",
       "    </tr>\n",
       "    <tr>\n",
       "      <th>29</th>\n",
       "      <td>Week 30</td>\n",
       "      <td>10.5</td>\n",
       "      <td>70.6</td>\n",
       "      <td>16.0</td>\n",
       "      <td>40.8</td>\n",
       "      <td>2020-01-30</td>\n",
       "      <td>0.0</td>\n",
       "      <td>0.0</td>\n",
       "      <td>0.0</td>\n",
       "    </tr>\n",
       "  </tbody>\n",
       "</table>\n",
       "</div>"
      ],
      "text/plain": [
       "       Time  sales     FB    TV  Radio       Date  FB_Transf  TV_Transf  \\\n",
       "0    Week 1   22.1  230.1  37.8   69.2 2020-01-01      230.1       37.8   \n",
       "1    Week 2   10.4   44.5  39.3   45.1 2020-01-02        0.0        0.0   \n",
       "2    Week 3    9.3   17.2  45.9   69.3 2020-01-03        0.0        0.0   \n",
       "3    Week 4   18.5  151.5  41.3   58.5 2020-01-04        0.0        0.0   \n",
       "4    Week 5   12.9  180.8  10.8   58.4 2020-01-05        0.0        0.0   \n",
       "5    Week 6    7.2    8.7  48.9   75.0 2020-01-06        0.0        0.0   \n",
       "6    Week 7   11.8   57.5  32.8   23.5 2020-01-07        0.0        0.0   \n",
       "7    Week 8   13.2  120.2  19.6   11.6 2020-01-08        0.0        0.0   \n",
       "8    Week 9    4.8    8.6   2.1    1.0 2020-01-09        0.0        0.0   \n",
       "9   Week 10   10.6  199.8   2.6   21.2 2020-01-10        0.0        0.0   \n",
       "10  Week 11    8.6   66.1   5.8   24.2 2020-01-11        0.0        0.0   \n",
       "11  Week 12   17.4  214.7  24.0    4.0 2020-01-12        0.0        0.0   \n",
       "12  Week 13    9.2   23.8  35.1   65.9 2020-01-13        0.0        0.0   \n",
       "13  Week 14    9.7   97.5   7.6    7.2 2020-01-14        0.0        0.0   \n",
       "14  Week 15   19.0  204.1  32.9   46.0 2020-01-15        0.0        0.0   \n",
       "15  Week 16   22.4  195.4  47.7   52.9 2020-01-16        0.0        0.0   \n",
       "16  Week 17   12.5   67.8  36.6  114.0 2020-01-17        0.0        0.0   \n",
       "17  Week 18   24.4  281.4  39.6   55.8 2020-01-18        0.0        0.0   \n",
       "18  Week 19   11.3   69.2  20.5   18.3 2020-01-19        0.0        0.0   \n",
       "19  Week 20   14.6  147.3  23.9   19.1 2020-01-20        0.0        0.0   \n",
       "20  Week 21   18.0  218.4  27.7   53.4 2020-01-21        0.0        0.0   \n",
       "21  Week 22   12.5  237.4   5.1   23.5 2020-01-22        0.0        0.0   \n",
       "22  Week 23    5.6   13.2  15.9   49.6 2020-01-23        0.0        0.0   \n",
       "23  Week 24   15.5  228.3  16.9   26.2 2020-01-24        0.0        0.0   \n",
       "24  Week 25    9.7   62.3  12.6   18.3 2020-01-25        0.0        0.0   \n",
       "25  Week 26   12.0  262.9   3.5   19.5 2020-01-26        0.0        0.0   \n",
       "26  Week 27   15.0  142.9  29.3   12.6 2020-01-27        0.0        0.0   \n",
       "27  Week 28   15.9  240.1  16.7   22.9 2020-01-28        0.0        0.0   \n",
       "28  Week 29   18.9  248.8  27.1   22.9 2020-01-29        0.0        0.0   \n",
       "29  Week 30   10.5   70.6  16.0   40.8 2020-01-30        0.0        0.0   \n",
       "\n",
       "    Radio_transf  \n",
       "0           69.2  \n",
       "1            0.0  \n",
       "2            0.0  \n",
       "3            0.0  \n",
       "4            0.0  \n",
       "5            0.0  \n",
       "6            0.0  \n",
       "7            0.0  \n",
       "8            0.0  \n",
       "9            0.0  \n",
       "10           0.0  \n",
       "11           0.0  \n",
       "12           0.0  \n",
       "13           0.0  \n",
       "14           0.0  \n",
       "15           0.0  \n",
       "16           0.0  \n",
       "17           0.0  \n",
       "18           0.0  \n",
       "19           0.0  \n",
       "20           0.0  \n",
       "21           0.0  \n",
       "22           0.0  \n",
       "23           0.0  \n",
       "24           0.0  \n",
       "25           0.0  \n",
       "26           0.0  \n",
       "27           0.0  \n",
       "28           0.0  \n",
       "29           0.0  "
      ]
     },
     "execution_count": 75,
     "metadata": {},
     "output_type": "execute_result"
    }
   ],
   "source": [
    "\n",
    "base_adstock['FB_Transf'] =0.0\n",
    "base_adstock['TV_Transf'] =0.0\n",
    "base_adstock['Radio_transf'] =0.0\n",
    "\n",
    "\n",
    "base_adstock.loc[0,'TV_Transf'] = base_adstock.loc[0,'TV'] \n",
    "base_adstock.loc[0,'Radio_transf'] = base_adstock.loc[0,'Radio'] \n",
    "base_adstock.loc[0,'FB_Transf'] = base_adstock.loc[0,'FB'] \n",
    "\n",
    "base_adstock"
   ]
  },
  {
   "cell_type": "code",
   "execution_count": 76,
   "id": "f5822bc3-87c7-4b8d-a122-8b80d4c5f942",
   "metadata": {},
   "outputs": [
    {
     "data": {
      "text/html": [
       "<div>\n",
       "<style scoped>\n",
       "    .dataframe tbody tr th:only-of-type {\n",
       "        vertical-align: middle;\n",
       "    }\n",
       "\n",
       "    .dataframe tbody tr th {\n",
       "        vertical-align: top;\n",
       "    }\n",
       "\n",
       "    .dataframe thead th {\n",
       "        text-align: right;\n",
       "    }\n",
       "</style>\n",
       "<table border=\"1\" class=\"dataframe\">\n",
       "  <thead>\n",
       "    <tr style=\"text-align: right;\">\n",
       "      <th></th>\n",
       "      <th>Time</th>\n",
       "      <th>sales</th>\n",
       "      <th>FB</th>\n",
       "      <th>TV</th>\n",
       "      <th>Radio</th>\n",
       "      <th>Date</th>\n",
       "      <th>FB_Transf</th>\n",
       "      <th>TV_Transf</th>\n",
       "      <th>Radio_transf</th>\n",
       "    </tr>\n",
       "  </thead>\n",
       "  <tbody>\n",
       "    <tr>\n",
       "      <th>0</th>\n",
       "      <td>Week 1</td>\n",
       "      <td>22.1</td>\n",
       "      <td>230.1</td>\n",
       "      <td>37.8</td>\n",
       "      <td>69.2</td>\n",
       "      <td>2020-01-01</td>\n",
       "      <td>230.100000</td>\n",
       "      <td>3.780000e+01</td>\n",
       "      <td>69.200000</td>\n",
       "    </tr>\n",
       "    <tr>\n",
       "      <th>1</th>\n",
       "      <td>Week 2</td>\n",
       "      <td>10.4</td>\n",
       "      <td>44.5</td>\n",
       "      <td>39.3</td>\n",
       "      <td>45.1</td>\n",
       "      <td>2020-01-02</td>\n",
       "      <td>46.020000</td>\n",
       "      <td>3.780000e+00</td>\n",
       "      <td>13.840000</td>\n",
       "    </tr>\n",
       "    <tr>\n",
       "      <th>2</th>\n",
       "      <td>Week 3</td>\n",
       "      <td>9.3</td>\n",
       "      <td>17.2</td>\n",
       "      <td>45.9</td>\n",
       "      <td>69.3</td>\n",
       "      <td>2020-01-03</td>\n",
       "      <td>9.204000</td>\n",
       "      <td>3.780000e-01</td>\n",
       "      <td>2.768000</td>\n",
       "    </tr>\n",
       "    <tr>\n",
       "      <th>3</th>\n",
       "      <td>Week 4</td>\n",
       "      <td>18.5</td>\n",
       "      <td>151.5</td>\n",
       "      <td>41.3</td>\n",
       "      <td>58.5</td>\n",
       "      <td>2020-01-04</td>\n",
       "      <td>1.840800</td>\n",
       "      <td>3.780000e-02</td>\n",
       "      <td>0.553600</td>\n",
       "    </tr>\n",
       "    <tr>\n",
       "      <th>4</th>\n",
       "      <td>Week 5</td>\n",
       "      <td>12.9</td>\n",
       "      <td>180.8</td>\n",
       "      <td>10.8</td>\n",
       "      <td>58.4</td>\n",
       "      <td>2020-01-05</td>\n",
       "      <td>0.368160</td>\n",
       "      <td>3.780000e-03</td>\n",
       "      <td>0.110720</td>\n",
       "    </tr>\n",
       "    <tr>\n",
       "      <th>5</th>\n",
       "      <td>Week 6</td>\n",
       "      <td>7.2</td>\n",
       "      <td>8.7</td>\n",
       "      <td>48.9</td>\n",
       "      <td>75.0</td>\n",
       "      <td>2020-01-06</td>\n",
       "      <td>0.073632</td>\n",
       "      <td>3.780000e-04</td>\n",
       "      <td>0.022144</td>\n",
       "    </tr>\n",
       "    <tr>\n",
       "      <th>6</th>\n",
       "      <td>Week 7</td>\n",
       "      <td>11.8</td>\n",
       "      <td>57.5</td>\n",
       "      <td>32.8</td>\n",
       "      <td>23.5</td>\n",
       "      <td>2020-01-07</td>\n",
       "      <td>0.014726</td>\n",
       "      <td>3.780000e-05</td>\n",
       "      <td>0.004429</td>\n",
       "    </tr>\n",
       "    <tr>\n",
       "      <th>7</th>\n",
       "      <td>Week 8</td>\n",
       "      <td>13.2</td>\n",
       "      <td>120.2</td>\n",
       "      <td>19.6</td>\n",
       "      <td>11.6</td>\n",
       "      <td>2020-01-08</td>\n",
       "      <td>0.002945</td>\n",
       "      <td>3.780000e-06</td>\n",
       "      <td>0.000886</td>\n",
       "    </tr>\n",
       "    <tr>\n",
       "      <th>8</th>\n",
       "      <td>Week 9</td>\n",
       "      <td>4.8</td>\n",
       "      <td>8.6</td>\n",
       "      <td>2.1</td>\n",
       "      <td>1.0</td>\n",
       "      <td>2020-01-09</td>\n",
       "      <td>0.000589</td>\n",
       "      <td>3.780000e-07</td>\n",
       "      <td>0.000177</td>\n",
       "    </tr>\n",
       "    <tr>\n",
       "      <th>9</th>\n",
       "      <td>Week 10</td>\n",
       "      <td>10.6</td>\n",
       "      <td>199.8</td>\n",
       "      <td>2.6</td>\n",
       "      <td>21.2</td>\n",
       "      <td>2020-01-10</td>\n",
       "      <td>0.000118</td>\n",
       "      <td>3.780000e-08</td>\n",
       "      <td>0.000035</td>\n",
       "    </tr>\n",
       "    <tr>\n",
       "      <th>10</th>\n",
       "      <td>Week 11</td>\n",
       "      <td>8.6</td>\n",
       "      <td>66.1</td>\n",
       "      <td>5.8</td>\n",
       "      <td>24.2</td>\n",
       "      <td>2020-01-11</td>\n",
       "      <td>0.000024</td>\n",
       "      <td>3.780000e-09</td>\n",
       "      <td>0.000007</td>\n",
       "    </tr>\n",
       "    <tr>\n",
       "      <th>11</th>\n",
       "      <td>Week 12</td>\n",
       "      <td>17.4</td>\n",
       "      <td>214.7</td>\n",
       "      <td>24.0</td>\n",
       "      <td>4.0</td>\n",
       "      <td>2020-01-12</td>\n",
       "      <td>0.000000</td>\n",
       "      <td>0.000000e+00</td>\n",
       "      <td>0.000000</td>\n",
       "    </tr>\n",
       "    <tr>\n",
       "      <th>12</th>\n",
       "      <td>Week 13</td>\n",
       "      <td>9.2</td>\n",
       "      <td>23.8</td>\n",
       "      <td>35.1</td>\n",
       "      <td>65.9</td>\n",
       "      <td>2020-01-13</td>\n",
       "      <td>0.000000</td>\n",
       "      <td>0.000000e+00</td>\n",
       "      <td>0.000000</td>\n",
       "    </tr>\n",
       "    <tr>\n",
       "      <th>13</th>\n",
       "      <td>Week 14</td>\n",
       "      <td>9.7</td>\n",
       "      <td>97.5</td>\n",
       "      <td>7.6</td>\n",
       "      <td>7.2</td>\n",
       "      <td>2020-01-14</td>\n",
       "      <td>0.000000</td>\n",
       "      <td>0.000000e+00</td>\n",
       "      <td>0.000000</td>\n",
       "    </tr>\n",
       "    <tr>\n",
       "      <th>14</th>\n",
       "      <td>Week 15</td>\n",
       "      <td>19.0</td>\n",
       "      <td>204.1</td>\n",
       "      <td>32.9</td>\n",
       "      <td>46.0</td>\n",
       "      <td>2020-01-15</td>\n",
       "      <td>0.000000</td>\n",
       "      <td>0.000000e+00</td>\n",
       "      <td>0.000000</td>\n",
       "    </tr>\n",
       "    <tr>\n",
       "      <th>15</th>\n",
       "      <td>Week 16</td>\n",
       "      <td>22.4</td>\n",
       "      <td>195.4</td>\n",
       "      <td>47.7</td>\n",
       "      <td>52.9</td>\n",
       "      <td>2020-01-16</td>\n",
       "      <td>0.000000</td>\n",
       "      <td>0.000000e+00</td>\n",
       "      <td>0.000000</td>\n",
       "    </tr>\n",
       "    <tr>\n",
       "      <th>16</th>\n",
       "      <td>Week 17</td>\n",
       "      <td>12.5</td>\n",
       "      <td>67.8</td>\n",
       "      <td>36.6</td>\n",
       "      <td>114.0</td>\n",
       "      <td>2020-01-17</td>\n",
       "      <td>0.000000</td>\n",
       "      <td>0.000000e+00</td>\n",
       "      <td>0.000000</td>\n",
       "    </tr>\n",
       "    <tr>\n",
       "      <th>17</th>\n",
       "      <td>Week 18</td>\n",
       "      <td>24.4</td>\n",
       "      <td>281.4</td>\n",
       "      <td>39.6</td>\n",
       "      <td>55.8</td>\n",
       "      <td>2020-01-18</td>\n",
       "      <td>0.000000</td>\n",
       "      <td>0.000000e+00</td>\n",
       "      <td>0.000000</td>\n",
       "    </tr>\n",
       "    <tr>\n",
       "      <th>18</th>\n",
       "      <td>Week 19</td>\n",
       "      <td>11.3</td>\n",
       "      <td>69.2</td>\n",
       "      <td>20.5</td>\n",
       "      <td>18.3</td>\n",
       "      <td>2020-01-19</td>\n",
       "      <td>0.000000</td>\n",
       "      <td>0.000000e+00</td>\n",
       "      <td>0.000000</td>\n",
       "    </tr>\n",
       "    <tr>\n",
       "      <th>19</th>\n",
       "      <td>Week 20</td>\n",
       "      <td>14.6</td>\n",
       "      <td>147.3</td>\n",
       "      <td>23.9</td>\n",
       "      <td>19.1</td>\n",
       "      <td>2020-01-20</td>\n",
       "      <td>0.000000</td>\n",
       "      <td>0.000000e+00</td>\n",
       "      <td>0.000000</td>\n",
       "    </tr>\n",
       "    <tr>\n",
       "      <th>20</th>\n",
       "      <td>Week 21</td>\n",
       "      <td>18.0</td>\n",
       "      <td>218.4</td>\n",
       "      <td>27.7</td>\n",
       "      <td>53.4</td>\n",
       "      <td>2020-01-21</td>\n",
       "      <td>0.000000</td>\n",
       "      <td>0.000000e+00</td>\n",
       "      <td>0.000000</td>\n",
       "    </tr>\n",
       "    <tr>\n",
       "      <th>21</th>\n",
       "      <td>Week 22</td>\n",
       "      <td>12.5</td>\n",
       "      <td>237.4</td>\n",
       "      <td>5.1</td>\n",
       "      <td>23.5</td>\n",
       "      <td>2020-01-22</td>\n",
       "      <td>0.000000</td>\n",
       "      <td>0.000000e+00</td>\n",
       "      <td>0.000000</td>\n",
       "    </tr>\n",
       "    <tr>\n",
       "      <th>22</th>\n",
       "      <td>Week 23</td>\n",
       "      <td>5.6</td>\n",
       "      <td>13.2</td>\n",
       "      <td>15.9</td>\n",
       "      <td>49.6</td>\n",
       "      <td>2020-01-23</td>\n",
       "      <td>0.000000</td>\n",
       "      <td>0.000000e+00</td>\n",
       "      <td>0.000000</td>\n",
       "    </tr>\n",
       "    <tr>\n",
       "      <th>23</th>\n",
       "      <td>Week 24</td>\n",
       "      <td>15.5</td>\n",
       "      <td>228.3</td>\n",
       "      <td>16.9</td>\n",
       "      <td>26.2</td>\n",
       "      <td>2020-01-24</td>\n",
       "      <td>0.000000</td>\n",
       "      <td>0.000000e+00</td>\n",
       "      <td>0.000000</td>\n",
       "    </tr>\n",
       "    <tr>\n",
       "      <th>24</th>\n",
       "      <td>Week 25</td>\n",
       "      <td>9.7</td>\n",
       "      <td>62.3</td>\n",
       "      <td>12.6</td>\n",
       "      <td>18.3</td>\n",
       "      <td>2020-01-25</td>\n",
       "      <td>0.000000</td>\n",
       "      <td>0.000000e+00</td>\n",
       "      <td>0.000000</td>\n",
       "    </tr>\n",
       "    <tr>\n",
       "      <th>25</th>\n",
       "      <td>Week 26</td>\n",
       "      <td>12.0</td>\n",
       "      <td>262.9</td>\n",
       "      <td>3.5</td>\n",
       "      <td>19.5</td>\n",
       "      <td>2020-01-26</td>\n",
       "      <td>0.000000</td>\n",
       "      <td>0.000000e+00</td>\n",
       "      <td>0.000000</td>\n",
       "    </tr>\n",
       "    <tr>\n",
       "      <th>26</th>\n",
       "      <td>Week 27</td>\n",
       "      <td>15.0</td>\n",
       "      <td>142.9</td>\n",
       "      <td>29.3</td>\n",
       "      <td>12.6</td>\n",
       "      <td>2020-01-27</td>\n",
       "      <td>0.000000</td>\n",
       "      <td>0.000000e+00</td>\n",
       "      <td>0.000000</td>\n",
       "    </tr>\n",
       "    <tr>\n",
       "      <th>27</th>\n",
       "      <td>Week 28</td>\n",
       "      <td>15.9</td>\n",
       "      <td>240.1</td>\n",
       "      <td>16.7</td>\n",
       "      <td>22.9</td>\n",
       "      <td>2020-01-28</td>\n",
       "      <td>0.000000</td>\n",
       "      <td>0.000000e+00</td>\n",
       "      <td>0.000000</td>\n",
       "    </tr>\n",
       "    <tr>\n",
       "      <th>28</th>\n",
       "      <td>Week 29</td>\n",
       "      <td>18.9</td>\n",
       "      <td>248.8</td>\n",
       "      <td>27.1</td>\n",
       "      <td>22.9</td>\n",
       "      <td>2020-01-29</td>\n",
       "      <td>0.000000</td>\n",
       "      <td>0.000000e+00</td>\n",
       "      <td>0.000000</td>\n",
       "    </tr>\n",
       "    <tr>\n",
       "      <th>29</th>\n",
       "      <td>Week 30</td>\n",
       "      <td>10.5</td>\n",
       "      <td>70.6</td>\n",
       "      <td>16.0</td>\n",
       "      <td>40.8</td>\n",
       "      <td>2020-01-30</td>\n",
       "      <td>0.000000</td>\n",
       "      <td>0.000000e+00</td>\n",
       "      <td>0.000000</td>\n",
       "    </tr>\n",
       "  </tbody>\n",
       "</table>\n",
       "</div>"
      ],
      "text/plain": [
       "       Time  sales     FB    TV  Radio       Date   FB_Transf     TV_Transf  \\\n",
       "0    Week 1   22.1  230.1  37.8   69.2 2020-01-01  230.100000  3.780000e+01   \n",
       "1    Week 2   10.4   44.5  39.3   45.1 2020-01-02   46.020000  3.780000e+00   \n",
       "2    Week 3    9.3   17.2  45.9   69.3 2020-01-03    9.204000  3.780000e-01   \n",
       "3    Week 4   18.5  151.5  41.3   58.5 2020-01-04    1.840800  3.780000e-02   \n",
       "4    Week 5   12.9  180.8  10.8   58.4 2020-01-05    0.368160  3.780000e-03   \n",
       "5    Week 6    7.2    8.7  48.9   75.0 2020-01-06    0.073632  3.780000e-04   \n",
       "6    Week 7   11.8   57.5  32.8   23.5 2020-01-07    0.014726  3.780000e-05   \n",
       "7    Week 8   13.2  120.2  19.6   11.6 2020-01-08    0.002945  3.780000e-06   \n",
       "8    Week 9    4.8    8.6   2.1    1.0 2020-01-09    0.000589  3.780000e-07   \n",
       "9   Week 10   10.6  199.8   2.6   21.2 2020-01-10    0.000118  3.780000e-08   \n",
       "10  Week 11    8.6   66.1   5.8   24.2 2020-01-11    0.000024  3.780000e-09   \n",
       "11  Week 12   17.4  214.7  24.0    4.0 2020-01-12    0.000000  0.000000e+00   \n",
       "12  Week 13    9.2   23.8  35.1   65.9 2020-01-13    0.000000  0.000000e+00   \n",
       "13  Week 14    9.7   97.5   7.6    7.2 2020-01-14    0.000000  0.000000e+00   \n",
       "14  Week 15   19.0  204.1  32.9   46.0 2020-01-15    0.000000  0.000000e+00   \n",
       "15  Week 16   22.4  195.4  47.7   52.9 2020-01-16    0.000000  0.000000e+00   \n",
       "16  Week 17   12.5   67.8  36.6  114.0 2020-01-17    0.000000  0.000000e+00   \n",
       "17  Week 18   24.4  281.4  39.6   55.8 2020-01-18    0.000000  0.000000e+00   \n",
       "18  Week 19   11.3   69.2  20.5   18.3 2020-01-19    0.000000  0.000000e+00   \n",
       "19  Week 20   14.6  147.3  23.9   19.1 2020-01-20    0.000000  0.000000e+00   \n",
       "20  Week 21   18.0  218.4  27.7   53.4 2020-01-21    0.000000  0.000000e+00   \n",
       "21  Week 22   12.5  237.4   5.1   23.5 2020-01-22    0.000000  0.000000e+00   \n",
       "22  Week 23    5.6   13.2  15.9   49.6 2020-01-23    0.000000  0.000000e+00   \n",
       "23  Week 24   15.5  228.3  16.9   26.2 2020-01-24    0.000000  0.000000e+00   \n",
       "24  Week 25    9.7   62.3  12.6   18.3 2020-01-25    0.000000  0.000000e+00   \n",
       "25  Week 26   12.0  262.9   3.5   19.5 2020-01-26    0.000000  0.000000e+00   \n",
       "26  Week 27   15.0  142.9  29.3   12.6 2020-01-27    0.000000  0.000000e+00   \n",
       "27  Week 28   15.9  240.1  16.7   22.9 2020-01-28    0.000000  0.000000e+00   \n",
       "28  Week 29   18.9  248.8  27.1   22.9 2020-01-29    0.000000  0.000000e+00   \n",
       "29  Week 30   10.5   70.6  16.0   40.8 2020-01-30    0.000000  0.000000e+00   \n",
       "\n",
       "    Radio_transf  \n",
       "0      69.200000  \n",
       "1      13.840000  \n",
       "2       2.768000  \n",
       "3       0.553600  \n",
       "4       0.110720  \n",
       "5       0.022144  \n",
       "6       0.004429  \n",
       "7       0.000886  \n",
       "8       0.000177  \n",
       "9       0.000035  \n",
       "10      0.000007  \n",
       "11      0.000000  \n",
       "12      0.000000  \n",
       "13      0.000000  \n",
       "14      0.000000  \n",
       "15      0.000000  \n",
       "16      0.000000  \n",
       "17      0.000000  \n",
       "18      0.000000  \n",
       "19      0.000000  \n",
       "20      0.000000  \n",
       "21      0.000000  \n",
       "22      0.000000  \n",
       "23      0.000000  \n",
       "24      0.000000  \n",
       "25      0.000000  \n",
       "26      0.000000  \n",
       "27      0.000000  \n",
       "28      0.000000  \n",
       "29      0.000000  "
      ]
     },
     "execution_count": 76,
     "metadata": {},
     "output_type": "execute_result"
    }
   ],
   "source": [
    "# pimeiro exemplo de adstock\n",
    "for i in range(10):\n",
    "    base_adstock.loc[i+1,'TV_Transf'] = base_adstock.loc[i,'TV_Transf']*Beta_tv + 0\n",
    "    base_adstock.loc[i+1,'Radio_transf'] = base_adstock.loc[i,'Radio_transf']*Beta_radio  + 0\n",
    "    base_adstock.loc[i+1,'FB_Transf'] = base_adstock.loc[i,'FB_Transf']*Beta_FB  + 0\n",
    "\n",
    "#for i in range(len(base_adstock)-1):\n",
    "    #base_adstock.loc[i+1,'TV_Transf'] = base_adstock.loc[i,'TV_Transf'] **Beta_tv + base_adstock.loc[i+1,'TV']\n",
    "    #base_adstock.loc[i+1,'Radio_transf'] = base_adstock.loc[i,'Radio_transf'] **Beta_radio  + base_adstock.loc[i+1,'Radio']\n",
    "    #base_adstock.loc[i+1,'FB_Transf'] = base_adstock.loc[i,'FB_Transf'] **Beta_FB  + base_adstock.loc[i+1,'FB']\n",
    "\n",
    "\n",
    "base_adstock"
   ]
  },
  {
   "cell_type": "markdown",
   "id": "5fb61cd6-2649-43d7-82ba-35c2c4fca48b",
   "metadata": {},
   "source": [
    "# How to show Adstock and Diminishing Returns Graphs"
   ]
  },
  {
   "cell_type": "code",
   "execution_count": 81,
   "id": "a719312b-bac5-4b3e-95cc-4e8bc30cd147",
   "metadata": {},
   "outputs": [
    {
     "data": {
      "image/png": "[encoded data removed]",
      "text/plain": [
       "<Figure size 1200x600 with 1 Axes>"
      ]
     },
     "metadata": {},
     "output_type": "display_data"
    }
   ],
   "source": [
    "\n",
    "import matplotlib.pyplot as plt\n",
    "\n",
    "\n",
    "plt.figure(figsize=(12, 6))\n",
    "plt.plot(base_adstock[\"Time\"], base_adstock[\"FB_Transf\"], marker='o', color='b', label=\"FB_Transf\")\n",
    "\n",
    "\n",
    "# Melhorar a visualização\n",
    "plt.xticks(rotation=45)\n",
    "plt.xlabel(\"Time (Weeks)\")\n",
    "plt.ylabel(\"FB_Transf\")\n",
    "plt.title(\"FB_Transf x Time\")\n",
    "plt.legend()\n",
    "plt.tight_layout()  \n",
    "\n",
    "plt.show()"
   ]
  },
  {
   "cell_type": "markdown",
   "id": "393785fd-7473-49da-a551-0b9c399921fb",
   "metadata": {},
   "source": [
    "effect over time on marketing investiment\n",
    "\n",
    "depois de duas semanas o efeito do investimento não faz mais efeito. "
   ]
  },
  {
   "cell_type": "code",
   "execution_count": 80,
   "id": "9fb58eef-c5e1-4d9a-a1b9-82c3ae4e6a5d",
   "metadata": {},
   "outputs": [
    {
     "data": {
      "image/png": "[encoded data removed]",
      "text/plain": [
       "<Figure size 1200x600 with 1 Axes>"
      ]
     },
     "metadata": {},
     "output_type": "display_data"
    }
   ],
   "source": [
    "import matplotlib.pyplot as plt\n",
    "\n",
    "\n",
    "plt.figure(figsize=(12, 6))\n",
    "plt.plot(base_adstock[\"Time\"], base_adstock[\"TV_Transf\"], marker='o', color='b', label=\"TV_Transf\")\n",
    "\n",
    "\n",
    "# Melhorar a visualização\n",
    "plt.xticks(rotation=45)\n",
    "plt.xlabel(\"Time (Weeks)\")\n",
    "plt.ylabel(\"TV_Transf\")\n",
    "plt.title(\"TV_Transf x Time\")\n",
    "plt.legend()\n",
    "plt.tight_layout()  \n",
    "\n",
    "plt.show()"
   ]
  },
  {
   "cell_type": "code",
   "execution_count": 83,
   "id": "154c381e-82dc-4c06-b502-9a39b402199e",
   "metadata": {},
   "outputs": [
    {
     "data": {
      "image/png": "[encoded data removed]",
      "text/plain": [
       "<Figure size 1200x600 with 1 Axes>"
      ]
     },
     "metadata": {},
     "output_type": "display_data"
    }
   ],
   "source": [
    "import matplotlib.pyplot as plt\n",
    "\n",
    "\n",
    "plt.figure(figsize=(12, 6))\n",
    "plt.plot(base_adstock[\"Time\"], base_adstock[\"Radio_transf\"], marker='o', color='b', label=\"Radio_transf\")\n",
    "\n",
    "\n",
    "# Melhorar a visualização\n",
    "plt.xticks(rotation=45)\n",
    "plt.xlabel(\"Time (Weeks)\")\n",
    "plt.ylabel(\"Radio_Transf\")\n",
    "plt.title(\"Radio_Transf x Time\")\n",
    "plt.legend()\n",
    "plt.tight_layout()  \n",
    "\n",
    "plt.show()"
   ]
  },
  {
   "cell_type": "markdown",
   "id": "bdaae279-d2d7-425c-8eba-b14c5d1a7dc2",
   "metadata": {},
   "source": [
    "a Tv tem um restrito efeito \n",
    "\n",
    "diminuindo o efeito, após o investimetno"
   ]
  },
  {
   "cell_type": "markdown",
   "id": "e511b4d6-4973-49fc-aa46-daecdc050b6c",
   "metadata": {},
   "source": [
    "The<b>Adstock</b> effect represents the carryover effect of advertising over time. To calculate Adstock, use a decay rate, often called the adstock rate or carryover rate. This rate determines how much of the advertising impact remains in subsequent periods.\n",
    "\n"
   ]
  },
  {
   "cell_type": "code",
   "execution_count": 84,
   "id": "8e8c6c30-63a4-42e0-86bd-35b071be72ba",
   "metadata": {},
   "outputs": [
    {
     "data": {
      "image/png": "[encoded data removed]",
      "text/plain": [
       "<Figure size 1000x600 with 1 Axes>"
      ]
     },
     "metadata": {},
     "output_type": "display_data"
    }
   ],
   "source": [
    "# Example advertising data\n",
    "advertising_spend = [100, 200, 300, 250, 200, 150, 100, 50, 0]\n",
    "decay_rate = 0.5  # Define decay rate (e.g., 50%)\n",
    "\n",
    "# Calculate Adstock\n",
    "adstock = []\n",
    "adstock_value = 0\n",
    "for spend in advertising_spend:\n",
    "    adstock_value = spend + (adstock_value * decay_rate)\n",
    "    adstock.append(adstock_value)\n",
    "\n",
    "# Plot Adstock Effect\n",
    "plt.figure(figsize=(10, 6))\n",
    "plt.plot(advertising_spend, label=\"Advertising Spend\", marker='o')\n",
    "plt.plot(adstock, label=\"Adstock Effect\", marker='o')\n",
    "plt.xlabel(\"Time Periods\")\n",
    "plt.ylabel(\"Spend / Adstock Value\")\n",
    "plt.title(\"Adstock Effect Over Time\")\n",
    "plt.legend()\n",
    "plt.grid(True)\n",
    "plt.show()"
   ]
  },
  {
   "cell_type": "code",
   "execution_count": null,
   "id": "895fca3e-f1f5-45f1-9f08-81fed5bfedda",
   "metadata": {},
   "outputs": [],
   "source": []
  }
 ],
 "metadata": {
  "kernelspec": {
   "display_name": "Python 3 (ipykernel)",
   "language": "python",
   "name": "python3"
  },
  "language_info": {
   "codemirror_mode": {
    "name": "ipython",
    "version": 3
   },
   "file_extension": ".py",
   "mimetype": "text/x-python",
   "name": "python",
   "nbconvert_exporter": "python",
   "pygments_lexer": "ipython3",
   "version": "3.12.4"
  }
 },
 "nbformat": 4,
 "nbformat_minor": 5
}
