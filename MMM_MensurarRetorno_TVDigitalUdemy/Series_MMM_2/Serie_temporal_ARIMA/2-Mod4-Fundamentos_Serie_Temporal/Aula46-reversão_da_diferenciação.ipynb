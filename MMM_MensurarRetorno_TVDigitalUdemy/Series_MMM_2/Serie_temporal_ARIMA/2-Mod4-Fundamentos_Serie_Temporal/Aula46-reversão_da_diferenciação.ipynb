{
 "cells": [
  {
   "cell_type": "markdown",
   "metadata": {
    "id": "okDwWcw0AhLD"
   },
   "source": [
    "# **REVERSÃO DA TRANSFORMAÇÃO E DIFERENCIAÇÃO**"
   ]
  },
  {
   "cell_type": "markdown",
   "metadata": {},
   "source": [
    "a transformação altera os valores dos dados. E depois que fizermos a previsão vamos querer retornar à escala original. Principalmente quando se faz a previsão das séries temporais. \n",
    "\n",
    "Temos que saber fazer a reversão tando da transformação como da diferenciação.  \n",
    "\n"
   ]
  },
  {
   "cell_type": "code",
   "execution_count": 1,
   "metadata": {
    "id": "_TROQ8xY-PeW"
   },
   "outputs": [],
   "source": [
    "#mportaremos as bibliotecas\n",
    "import numpy as np\n",
    "import pandas as pd"
   ]
  },
  {
   "cell_type": "code",
   "execution_count": 2,
   "metadata": {
    "id": "SZptlh1IAZ0J"
   },
   "outputs": [],
   "source": [
    "##### Abertura do arquivo de Séries Temporais Air Passengers\n",
    "dados = pd.read_csv('AirPassengers.csv',\n",
    "                    sep=',')"
   ]
  },
  {
   "cell_type": "code",
   "execution_count": 3,
   "metadata": {
    "id": "XuubUz3uXm9A"
   },
   "outputs": [
    {
     "data": {
      "text/html": [
       "<div>\n",
       "<style scoped>\n",
       "    .dataframe tbody tr th:only-of-type {\n",
       "        vertical-align: middle;\n",
       "    }\n",
       "\n",
       "    .dataframe tbody tr th {\n",
       "        vertical-align: top;\n",
       "    }\n",
       "\n",
       "    .dataframe thead th {\n",
       "        text-align: right;\n",
       "    }\n",
       "</style>\n",
       "<table border=\"1\" class=\"dataframe\">\n",
       "  <thead>\n",
       "    <tr style=\"text-align: right;\">\n",
       "      <th></th>\n",
       "      <th>Month</th>\n",
       "      <th>#Passengers</th>\n",
       "    </tr>\n",
       "  </thead>\n",
       "  <tbody>\n",
       "    <tr>\n",
       "      <th>0</th>\n",
       "      <td>1949-01</td>\n",
       "      <td>112</td>\n",
       "    </tr>\n",
       "    <tr>\n",
       "      <th>1</th>\n",
       "      <td>1949-02</td>\n",
       "      <td>118</td>\n",
       "    </tr>\n",
       "    <tr>\n",
       "      <th>2</th>\n",
       "      <td>1949-03</td>\n",
       "      <td>132</td>\n",
       "    </tr>\n",
       "    <tr>\n",
       "      <th>3</th>\n",
       "      <td>1949-04</td>\n",
       "      <td>129</td>\n",
       "    </tr>\n",
       "    <tr>\n",
       "      <th>4</th>\n",
       "      <td>1949-05</td>\n",
       "      <td>121</td>\n",
       "    </tr>\n",
       "    <tr>\n",
       "      <th>...</th>\n",
       "      <td>...</td>\n",
       "      <td>...</td>\n",
       "    </tr>\n",
       "    <tr>\n",
       "      <th>139</th>\n",
       "      <td>1960-08</td>\n",
       "      <td>606</td>\n",
       "    </tr>\n",
       "    <tr>\n",
       "      <th>140</th>\n",
       "      <td>1960-09</td>\n",
       "      <td>508</td>\n",
       "    </tr>\n",
       "    <tr>\n",
       "      <th>141</th>\n",
       "      <td>1960-10</td>\n",
       "      <td>461</td>\n",
       "    </tr>\n",
       "    <tr>\n",
       "      <th>142</th>\n",
       "      <td>1960-11</td>\n",
       "      <td>390</td>\n",
       "    </tr>\n",
       "    <tr>\n",
       "      <th>143</th>\n",
       "      <td>1960-12</td>\n",
       "      <td>432</td>\n",
       "    </tr>\n",
       "  </tbody>\n",
       "</table>\n",
       "<p>144 rows × 2 columns</p>\n",
       "</div>"
      ],
      "text/plain": [
       "       Month  #Passengers\n",
       "0    1949-01          112\n",
       "1    1949-02          118\n",
       "2    1949-03          132\n",
       "3    1949-04          129\n",
       "4    1949-05          121\n",
       "..       ...          ...\n",
       "139  1960-08          606\n",
       "140  1960-09          508\n",
       "141  1960-10          461\n",
       "142  1960-11          390\n",
       "143  1960-12          432\n",
       "\n",
       "[144 rows x 2 columns]"
      ]
     },
     "execution_count": 3,
     "metadata": {},
     "output_type": "execute_result"
    }
   ],
   "source": [
    "###### Leitura do arquivo Air Passengers\n",
    "dados"
   ]
  },
  {
   "cell_type": "code",
   "execution_count": 4,
   "metadata": {
    "id": "f_pFdfvYUR-8"
   },
   "outputs": [
    {
     "data": {
      "text/plain": [
       "Month\n",
       "1949-01    112\n",
       "1949-02    118\n",
       "1949-03    132\n",
       "1949-04    129\n",
       "1949-05    121\n",
       "          ... \n",
       "1960-08    606\n",
       "1960-09    508\n",
       "1960-10    461\n",
       "1960-11    390\n",
       "1960-12    432\n",
       "Length: 144, dtype: int64"
      ]
     },
     "execution_count": 4,
     "metadata": {},
     "output_type": "execute_result"
    }
   ],
   "source": [
    "serie = pd.Series(dados['#Passengers'].values, index = dados['Month'])\n",
    "serie"
   ]
  },
  {
   "cell_type": "markdown",
   "metadata": {
    "id": "bMOULAocWLn6"
   },
   "source": [
    "## **REVERSÃO DA TRANSFORMAÇÃO POR LOGARITMO**"
   ]
  },
  {
   "cell_type": "markdown",
   "metadata": {},
   "source": [
    "np.log ele é um logaritmo natural = ln, tem base e\n",
    "\n",
    "depois faremos o log10, com base 10."
   ]
  },
  {
   "cell_type": "code",
   "execution_count": 5,
   "metadata": {
    "id": "LYN-Ogj4Tj8u"
   },
   "outputs": [
    {
     "data": {
      "text/plain": [
       "Month\n",
       "1949-01    4.718499\n",
       "1949-02    4.770685\n",
       "1949-03    4.882802\n",
       "1949-04    4.859812\n",
       "1949-05    4.795791\n",
       "             ...   \n",
       "1960-08    6.406880\n",
       "1960-09    6.230481\n",
       "1960-10    6.133398\n",
       "1960-11    5.966147\n",
       "1960-12    6.068426\n",
       "Length: 144, dtype: float64"
      ]
     },
     "execution_count": 5,
     "metadata": {},
     "output_type": "execute_result"
    }
   ],
   "source": [
    "# Transformação por log (Este log é o logaritmo natural, tem base e)\n",
    "serie2 = np.log(serie)\n",
    "serie2"
   ]
  },
  {
   "cell_type": "markdown",
   "metadata": {},
   "source": [
    "## reverter os valores\n",
    "\n",
    "Euler => o logaritmo natural de um número, é o logaritmo desse número na base igual a 2,71, ou na base e."
   ]
  },
  {
   "cell_type": "code",
   "execution_count": 6,
   "metadata": {
    "id": "o1H-5CMpU_97"
   },
   "outputs": [
    {
     "data": {
      "text/plain": [
       "Month\n",
       "1949-01    112.0\n",
       "1949-02    118.0\n",
       "1949-03    132.0\n",
       "1949-04    129.0\n",
       "1949-05    121.0\n",
       "           ...  \n",
       "1960-08    606.0\n",
       "1960-09    508.0\n",
       "1960-10    461.0\n",
       "1960-11    390.0\n",
       "1960-12    432.0\n",
       "Length: 144, dtype: float64"
      ]
     },
     "execution_count": 6,
     "metadata": {},
     "output_type": "execute_result"
    }
   ],
   "source": [
    "serie_revertida =  np.e**serie2\n",
    "serie_revertida"
   ]
  },
  {
   "cell_type": "markdown",
   "metadata": {},
   "source": [
    "logaritimo de base 10"
   ]
  },
  {
   "cell_type": "code",
   "execution_count": 7,
   "metadata": {
    "id": "afdnpHSdAvGU"
   },
   "outputs": [
    {
     "data": {
      "text/plain": [
       "Month\n",
       "1949-01    2.049218\n",
       "1949-02    2.071882\n",
       "1949-03    2.120574\n",
       "1949-04    2.110590\n",
       "1949-05    2.082785\n",
       "             ...   \n",
       "1960-08    2.782473\n",
       "1960-09    2.705864\n",
       "1960-10    2.663701\n",
       "1960-11    2.591065\n",
       "1960-12    2.635484\n",
       "Length: 144, dtype: float64"
      ]
     },
     "execution_count": 7,
     "metadata": {},
     "output_type": "execute_result"
    }
   ],
   "source": [
    "# logaritmo de base 10\n",
    "serie2 = np.log10(serie)\n",
    "serie2"
   ]
  },
  {
   "cell_type": "code",
   "execution_count": 8,
   "metadata": {
    "id": "vkjhqGSLBDJb"
   },
   "outputs": [
    {
     "data": {
      "text/plain": [
       "Month\n",
       "1949-01    112.0\n",
       "1949-02    118.0\n",
       "1949-03    132.0\n",
       "1949-04    129.0\n",
       "1949-05    121.0\n",
       "           ...  \n",
       "1960-08    606.0\n",
       "1960-09    508.0\n",
       "1960-10    461.0\n",
       "1960-11    390.0\n",
       "1960-12    432.0\n",
       "Length: 144, dtype: float64"
      ]
     },
     "execution_count": 8,
     "metadata": {},
     "output_type": "execute_result"
    }
   ],
   "source": [
    "serie_revertida =  10**serie2\n",
    "serie_revertida"
   ]
  },
  {
   "cell_type": "markdown",
   "metadata": {
    "id": "EOKz9vm-WdVe"
   },
   "source": [
    "## **REVERSÃO DA TRANSFORMAÇÃO POR RAIZ CÚBICA**"
   ]
  },
  {
   "cell_type": "markdown",
   "metadata": {},
   "source": [
    "raiz cúbica (quando possui dados com <b>valor zero ou negativos</b>)"
   ]
  },
  {
   "cell_type": "code",
   "execution_count": 9,
   "metadata": {
    "id": "GQG59MtMWdm-"
   },
   "outputs": [
    {
     "data": {
      "text/plain": [
       "Month\n",
       "1949-01    4.820285\n",
       "1949-02    4.904868\n",
       "1949-03    5.091643\n",
       "1949-04    5.052774\n",
       "1949-05    4.946087\n",
       "             ...   \n",
       "1960-08    8.462348\n",
       "1960-09    7.979112\n",
       "1960-10    7.725032\n",
       "1960-11    7.306144\n",
       "1960-12    7.559526\n",
       "Length: 144, dtype: float64"
      ]
     },
     "execution_count": 9,
     "metadata": {},
     "output_type": "execute_result"
    }
   ],
   "source": [
    "# Transformação por raiz cúbica (quando possui dados com valor zero ou negativos)\n",
    "serie3 = (serie)**(1/3)\n",
    "serie3"
   ]
  },
  {
   "cell_type": "code",
   "execution_count": 10,
   "metadata": {
    "id": "rNb4LvGFWkRn"
   },
   "outputs": [
    {
     "data": {
      "text/plain": [
       "Month\n",
       "1949-01    112.0\n",
       "1949-02    118.0\n",
       "1949-03    132.0\n",
       "1949-04    129.0\n",
       "1949-05    121.0\n",
       "           ...  \n",
       "1960-08    606.0\n",
       "1960-09    508.0\n",
       "1960-10    461.0\n",
       "1960-11    390.0\n",
       "1960-12    432.0\n",
       "Length: 144, dtype: float64"
      ]
     },
     "execution_count": 10,
     "metadata": {},
     "output_type": "execute_result"
    }
   ],
   "source": [
    "serie_revertida = serie3**3\n",
    "serie_revertida"
   ]
  },
  {
   "cell_type": "markdown",
   "metadata": {
    "id": "VqmM49JsW_aF"
   },
   "source": [
    "## **REVERSÃO DA DIFERENCIAÇÃO**"
   ]
  },
  {
   "cell_type": "markdown",
   "metadata": {},
   "source": [
    "valor de uma determinada série e subtrair do antecessor da mesma série."
   ]
  },
  {
   "cell_type": "markdown",
   "metadata": {},
   "source": [
    "perdemos o primeiro dado "
   ]
  },
  {
   "cell_type": "code",
   "execution_count": 12,
   "metadata": {
    "id": "9NfhYQ9WXGV0"
   },
   "outputs": [
    {
     "data": {
      "text/plain": [
       "Month\n",
       "1949-01     NaN\n",
       "1949-02     6.0\n",
       "1949-03    14.0\n",
       "1949-04    -3.0\n",
       "1949-05    -8.0\n",
       "           ... \n",
       "1960-08   -16.0\n",
       "1960-09   -98.0\n",
       "1960-10   -47.0\n",
       "1960-11   -71.0\n",
       "1960-12    42.0\n",
       "Length: 144, dtype: float64"
      ]
     },
     "execution_count": 12,
     "metadata": {},
     "output_type": "execute_result"
    }
   ],
   "source": [
    "serie_diferenciada = serie.diff()\n",
    "serie_diferenciada"
   ]
  },
  {
   "cell_type": "markdown",
   "metadata": {},
   "source": [
    "reverter, pegar o valor que foi diferenciado e somar com o antecessor."
   ]
  },
  {
   "cell_type": "code",
   "execution_count": 13,
   "metadata": {
    "id": "grQG5B_bXVpN"
   },
   "outputs": [
    {
     "data": {
      "text/plain": [
       "Month\n",
       "1949-01      NaN\n",
       "1949-02    118.0\n",
       "1949-03    132.0\n",
       "1949-04    129.0\n",
       "1949-05    121.0\n",
       "           ...  \n",
       "1960-08    606.0\n",
       "1960-09    508.0\n",
       "1960-10    461.0\n",
       "1960-11    390.0\n",
       "1960-12    432.0\n",
       "Length: 144, dtype: float64"
      ]
     },
     "execution_count": 13,
     "metadata": {},
     "output_type": "execute_result"
    }
   ],
   "source": [
    "serie_revertida = serie.shift(1) + serie_diferenciada\n",
    "serie_revertida"
   ]
  },
  {
   "cell_type": "markdown",
   "metadata": {
    "id": "eJPamD8lX70e"
   },
   "source": [
    "**Organizando num dataframe**"
   ]
  },
  {
   "cell_type": "markdown",
   "metadata": {},
   "source": [
    "Não tenho a série, agora tenho os dados originais mesmo\n",
    "\n",
    "manter os valores diferenciados tanto como o da diferenciação;"
   ]
  },
  {
   "cell_type": "code",
   "execution_count": 14,
   "metadata": {
    "id": "Y9Kn7Iq3BHH5"
   },
   "outputs": [
    {
     "data": {
      "text/html": [
       "<div>\n",
       "<style scoped>\n",
       "    .dataframe tbody tr th:only-of-type {\n",
       "        vertical-align: middle;\n",
       "    }\n",
       "\n",
       "    .dataframe tbody tr th {\n",
       "        vertical-align: top;\n",
       "    }\n",
       "\n",
       "    .dataframe thead th {\n",
       "        text-align: right;\n",
       "    }\n",
       "</style>\n",
       "<table border=\"1\" class=\"dataframe\">\n",
       "  <thead>\n",
       "    <tr style=\"text-align: right;\">\n",
       "      <th></th>\n",
       "      <th>Month</th>\n",
       "      <th>#Passengers</th>\n",
       "      <th>valores_diferenciados</th>\n",
       "    </tr>\n",
       "  </thead>\n",
       "  <tbody>\n",
       "    <tr>\n",
       "      <th>0</th>\n",
       "      <td>1949-01</td>\n",
       "      <td>112</td>\n",
       "      <td>NaN</td>\n",
       "    </tr>\n",
       "    <tr>\n",
       "      <th>1</th>\n",
       "      <td>1949-02</td>\n",
       "      <td>118</td>\n",
       "      <td>6.0</td>\n",
       "    </tr>\n",
       "    <tr>\n",
       "      <th>2</th>\n",
       "      <td>1949-03</td>\n",
       "      <td>132</td>\n",
       "      <td>14.0</td>\n",
       "    </tr>\n",
       "    <tr>\n",
       "      <th>3</th>\n",
       "      <td>1949-04</td>\n",
       "      <td>129</td>\n",
       "      <td>-3.0</td>\n",
       "    </tr>\n",
       "    <tr>\n",
       "      <th>4</th>\n",
       "      <td>1949-05</td>\n",
       "      <td>121</td>\n",
       "      <td>-8.0</td>\n",
       "    </tr>\n",
       "    <tr>\n",
       "      <th>...</th>\n",
       "      <td>...</td>\n",
       "      <td>...</td>\n",
       "      <td>...</td>\n",
       "    </tr>\n",
       "    <tr>\n",
       "      <th>139</th>\n",
       "      <td>1960-08</td>\n",
       "      <td>606</td>\n",
       "      <td>-16.0</td>\n",
       "    </tr>\n",
       "    <tr>\n",
       "      <th>140</th>\n",
       "      <td>1960-09</td>\n",
       "      <td>508</td>\n",
       "      <td>-98.0</td>\n",
       "    </tr>\n",
       "    <tr>\n",
       "      <th>141</th>\n",
       "      <td>1960-10</td>\n",
       "      <td>461</td>\n",
       "      <td>-47.0</td>\n",
       "    </tr>\n",
       "    <tr>\n",
       "      <th>142</th>\n",
       "      <td>1960-11</td>\n",
       "      <td>390</td>\n",
       "      <td>-71.0</td>\n",
       "    </tr>\n",
       "    <tr>\n",
       "      <th>143</th>\n",
       "      <td>1960-12</td>\n",
       "      <td>432</td>\n",
       "      <td>42.0</td>\n",
       "    </tr>\n",
       "  </tbody>\n",
       "</table>\n",
       "<p>144 rows × 3 columns</p>\n",
       "</div>"
      ],
      "text/plain": [
       "       Month  #Passengers  valores_diferenciados\n",
       "0    1949-01          112                    NaN\n",
       "1    1949-02          118                    6.0\n",
       "2    1949-03          132                   14.0\n",
       "3    1949-04          129                   -3.0\n",
       "4    1949-05          121                   -8.0\n",
       "..       ...          ...                    ...\n",
       "139  1960-08          606                  -16.0\n",
       "140  1960-09          508                  -98.0\n",
       "141  1960-10          461                  -47.0\n",
       "142  1960-11          390                  -71.0\n",
       "143  1960-12          432                   42.0\n",
       "\n",
       "[144 rows x 3 columns]"
      ]
     },
     "execution_count": 14,
     "metadata": {},
     "output_type": "execute_result"
    }
   ],
   "source": [
    "##### Fazer a diferenciação dos valores que estão na coluna #Passengers e criar uma coluna no Dataframe com o nome: valores_diferenciados\n",
    "dados['valores_diferenciados'] = dados['#Passengers'].diff()\n",
    "dados"
   ]
  },
  {
   "cell_type": "markdown",
   "metadata": {},
   "source": [
    "somar ao antecessor com a diferenciação, parar ter os valores revertidos."
   ]
  },
  {
   "cell_type": "code",
   "execution_count": 15,
   "metadata": {
    "id": "MfvIkYGwBmsJ"
   },
   "outputs": [
    {
     "data": {
      "text/html": [
       "<div>\n",
       "<style scoped>\n",
       "    .dataframe tbody tr th:only-of-type {\n",
       "        vertical-align: middle;\n",
       "    }\n",
       "\n",
       "    .dataframe tbody tr th {\n",
       "        vertical-align: top;\n",
       "    }\n",
       "\n",
       "    .dataframe thead th {\n",
       "        text-align: right;\n",
       "    }\n",
       "</style>\n",
       "<table border=\"1\" class=\"dataframe\">\n",
       "  <thead>\n",
       "    <tr style=\"text-align: right;\">\n",
       "      <th></th>\n",
       "      <th>Month</th>\n",
       "      <th>#Passengers</th>\n",
       "      <th>valores_diferenciados</th>\n",
       "      <th>valores_revertidos</th>\n",
       "    </tr>\n",
       "  </thead>\n",
       "  <tbody>\n",
       "    <tr>\n",
       "      <th>0</th>\n",
       "      <td>1949-01</td>\n",
       "      <td>112</td>\n",
       "      <td>NaN</td>\n",
       "      <td>NaN</td>\n",
       "    </tr>\n",
       "    <tr>\n",
       "      <th>1</th>\n",
       "      <td>1949-02</td>\n",
       "      <td>118</td>\n",
       "      <td>6.0</td>\n",
       "      <td>118.0</td>\n",
       "    </tr>\n",
       "    <tr>\n",
       "      <th>2</th>\n",
       "      <td>1949-03</td>\n",
       "      <td>132</td>\n",
       "      <td>14.0</td>\n",
       "      <td>132.0</td>\n",
       "    </tr>\n",
       "    <tr>\n",
       "      <th>3</th>\n",
       "      <td>1949-04</td>\n",
       "      <td>129</td>\n",
       "      <td>-3.0</td>\n",
       "      <td>129.0</td>\n",
       "    </tr>\n",
       "    <tr>\n",
       "      <th>4</th>\n",
       "      <td>1949-05</td>\n",
       "      <td>121</td>\n",
       "      <td>-8.0</td>\n",
       "      <td>121.0</td>\n",
       "    </tr>\n",
       "    <tr>\n",
       "      <th>...</th>\n",
       "      <td>...</td>\n",
       "      <td>...</td>\n",
       "      <td>...</td>\n",
       "      <td>...</td>\n",
       "    </tr>\n",
       "    <tr>\n",
       "      <th>139</th>\n",
       "      <td>1960-08</td>\n",
       "      <td>606</td>\n",
       "      <td>-16.0</td>\n",
       "      <td>606.0</td>\n",
       "    </tr>\n",
       "    <tr>\n",
       "      <th>140</th>\n",
       "      <td>1960-09</td>\n",
       "      <td>508</td>\n",
       "      <td>-98.0</td>\n",
       "      <td>508.0</td>\n",
       "    </tr>\n",
       "    <tr>\n",
       "      <th>141</th>\n",
       "      <td>1960-10</td>\n",
       "      <td>461</td>\n",
       "      <td>-47.0</td>\n",
       "      <td>461.0</td>\n",
       "    </tr>\n",
       "    <tr>\n",
       "      <th>142</th>\n",
       "      <td>1960-11</td>\n",
       "      <td>390</td>\n",
       "      <td>-71.0</td>\n",
       "      <td>390.0</td>\n",
       "    </tr>\n",
       "    <tr>\n",
       "      <th>143</th>\n",
       "      <td>1960-12</td>\n",
       "      <td>432</td>\n",
       "      <td>42.0</td>\n",
       "      <td>432.0</td>\n",
       "    </tr>\n",
       "  </tbody>\n",
       "</table>\n",
       "<p>144 rows × 4 columns</p>\n",
       "</div>"
      ],
      "text/plain": [
       "       Month  #Passengers  valores_diferenciados  valores_revertidos\n",
       "0    1949-01          112                    NaN                 NaN\n",
       "1    1949-02          118                    6.0               118.0\n",
       "2    1949-03          132                   14.0               132.0\n",
       "3    1949-04          129                   -3.0               129.0\n",
       "4    1949-05          121                   -8.0               121.0\n",
       "..       ...          ...                    ...                 ...\n",
       "139  1960-08          606                  -16.0               606.0\n",
       "140  1960-09          508                  -98.0               508.0\n",
       "141  1960-10          461                  -47.0               461.0\n",
       "142  1960-11          390                  -71.0               390.0\n",
       "143  1960-12          432                   42.0               432.0\n",
       "\n",
       "[144 rows x 4 columns]"
      ]
     },
     "execution_count": 15,
     "metadata": {},
     "output_type": "execute_result"
    }
   ],
   "source": [
    "##### Reverter a diferenciação da coluna valores_diferenciados e criar mais uma coluna com o nome valores_revertidos \n",
    "dados['valores_revertidos'] = dados['#Passengers'].shift(1) + dados['valores_diferenciados']\n",
    "dados"
   ]
  },
  {
   "cell_type": "markdown",
   "metadata": {},
   "source": [
    "112 +6 = 118\n",
    "\n",
    "118 +14 =  132 "
   ]
  },
  {
   "cell_type": "code",
   "execution_count": null,
   "metadata": {},
   "outputs": [],
   "source": []
  }
 ],
 "metadata": {
  "colab": {
   "name": "reversão da diferenciação.ipynb",
   "provenance": []
  },
  "kernelspec": {
   "display_name": "Python 3 (ipykernel)",
   "language": "python",
   "name": "python3"
  },
  "language_info": {
   "codemirror_mode": {
    "name": "ipython",
    "version": 3
   },
   "file_extension": ".py",
   "mimetype": "text/x-python",
   "name": "python",
   "nbconvert_exporter": "python",
   "pygments_lexer": "ipython3",
   "version": "3.11.9"
  }
 },
 "nbformat": 4,
 "nbformat_minor": 4
}
