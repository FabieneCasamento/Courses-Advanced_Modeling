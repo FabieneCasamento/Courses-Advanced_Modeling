{
 "cells": [
  {
   "cell_type": "markdown",
   "id": "1718cd5a-36e7-4483-9608-02067d8b864a",
   "metadata": {},
   "source": [
    "Ep Extra MMM Masterclass - Definitive Data Checklist for Marketing Mix Modeling | FREE TEMPLATE\n",
    "\n",
    "https://www.youtube.com/watch?v=CUX1bjhIK48\n",
    "\n",
    "https://docs.google.com/spreadsheets/d/1tdu2Pfk5QoM4vWYppye3OZ8d-1CpCt-0obNFsEoHzw8/edit?gid=0#gid=0\n",
    "\n",
    "                                                    "
   ]
  },
  {
   "cell_type": "markdown",
   "id": "9e86c2c0-b9f8-43f9-b30b-c49f2663e92b",
   "metadata": {},
   "source": [
    "https://app.vexpower.com/courses/"
   ]
  },
  {
   "cell_type": "code",
   "execution_count": null,
   "id": "2e3e4e18-5195-41f5-b027-18d7121bdab6",
   "metadata": {},
   "outputs": [],
   "source": []
  }
 ],
 "metadata": {
  "kernelspec": {
   "display_name": "Python 3 (ipykernel)",
   "language": "python",
   "name": "python3"
  },
  "language_info": {
   "codemirror_mode": {
    "name": "ipython",
    "version": 3
   },
   "file_extension": ".py",
   "mimetype": "text/x-python",
   "name": "python",
   "nbconvert_exporter": "python",
   "pygments_lexer": "ipython3",
   "version": "3.12.4"
  }
 },
 "nbformat": 4,
 "nbformat_minor": 5
}
